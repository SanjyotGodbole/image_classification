{
 "cells": [
  {
   "cell_type": "markdown",
   "metadata": {},
   "source": [
    "### Using GPU"
   ]
  },
  {
   "cell_type": "code",
   "execution_count": 1,
   "metadata": {},
   "outputs": [
    {
     "name": "stdout",
     "output_type": "stream",
     "text": [
      "[name: \"/device:CPU:0\"\n",
      "device_type: \"CPU\"\n",
      "memory_limit: 268435456\n",
      "locality {\n",
      "}\n",
      "incarnation: 6488755551176463180\n",
      ", name: \"/device:GPU:0\"\n",
      "device_type: \"GPU\"\n",
      "memory_limit: 3155650150\n",
      "locality {\n",
      "  bus_id: 1\n",
      "  links {\n",
      "  }\n",
      "}\n",
      "incarnation: 14968211924725505902\n",
      "physical_device_desc: \"device: 0, name: GeForce GTX 1050, pci bus id: 0000:01:00.0, compute capability: 6.1\"\n",
      "]\n"
     ]
    }
   ],
   "source": [
    "from tensorflow.python.client import device_lib\n",
    "print(device_lib.list_local_devices())"
   ]
  },
  {
   "cell_type": "code",
   "execution_count": 2,
   "metadata": {},
   "outputs": [
    {
     "name": "stderr",
     "output_type": "stream",
     "text": [
      "Using TensorFlow backend.\n"
     ]
    },
    {
     "data": {
      "text/plain": [
       "['/job:localhost/replica:0/task:0/device:GPU:0']"
      ]
     },
     "execution_count": 2,
     "metadata": {},
     "output_type": "execute_result"
    }
   ],
   "source": [
    "from keras import backend as K\n",
    "K.tensorflow_backend._get_available_gpus()"
   ]
  },
  {
   "cell_type": "code",
   "execution_count": 3,
   "metadata": {},
   "outputs": [],
   "source": [
    "import tensorflow as tf\n",
    "sess = tf.Session(config=tf.ConfigProto(log_device_placement=True))"
   ]
  },
  {
   "cell_type": "code",
   "execution_count": 4,
   "metadata": {},
   "outputs": [],
   "source": [
    "import keras\n",
    "config = tf.ConfigProto( device_count = {'GPU': 1 , 'CPU': 8} ) \n",
    "sess = tf.Session(config=config) \n",
    "keras.backend.set_session(sess)"
   ]
  },
  {
   "cell_type": "markdown",
   "metadata": {},
   "source": [
    "### Getting the current working directory"
   ]
  },
  {
   "cell_type": "code",
   "execution_count": 5,
   "metadata": {},
   "outputs": [],
   "source": [
    "import os\n",
    "PATH = os.getcwd()"
   ]
  },
  {
   "cell_type": "markdown",
   "metadata": {},
   "source": [
    "### Defining the data path"
   ]
  },
  {
   "cell_type": "code",
   "execution_count": 6,
   "metadata": {},
   "outputs": [
    {
     "name": "stdout",
     "output_type": "stream",
     "text": [
      "C:\\Work\\INSOFE\\Study Material\\CUTe\\CUTe4\\Image classification\\data\n"
     ]
    }
   ],
   "source": [
    "DATA_PATH = os.path.join(PATH, 'data')\n",
    "\n",
    "print(DATA_PATH)"
   ]
  },
  {
   "cell_type": "markdown",
   "metadata": {},
   "source": [
    "### Getting the list of folders inside data path"
   ]
  },
  {
   "cell_type": "code",
   "execution_count": 7,
   "metadata": {},
   "outputs": [
    {
     "name": "stdout",
     "output_type": "stream",
     "text": [
      "['airplanes', 'BACKGROUND_Google', 'bonsai', 'car_side', 'Faces', 'Faces_easy', 'grand_piano', 'Leopards', 'Motorbikes', 'watch']\n"
     ]
    }
   ],
   "source": [
    "data_dir_list = os.listdir(DATA_PATH)\n",
    "\n",
    "#if '.DS_Store' in data_dir_list :\n",
    "#    data_dir_list.remove('.DS_Store')\n",
    "    \n",
    "print(data_dir_list)"
   ]
  },
  {
   "cell_type": "markdown",
   "metadata": {},
   "source": [
    "### Reading the images and storing them in the list"
   ]
  },
  {
   "cell_type": "code",
   "execution_count": 8,
   "metadata": {},
   "outputs": [],
   "source": [
    "# !pip install opencv-python\n",
    "\n",
    "import cv2"
   ]
  },
  {
   "cell_type": "code",
   "execution_count": 9,
   "metadata": {},
   "outputs": [
    {
     "name": "stdout",
     "output_type": "stream",
     "text": [
      "Loading images from airplanes folder\n",
      "\n",
      "Loading images from BACKGROUND_Google folder\n",
      "\n",
      "Loading images from bonsai folder\n",
      "\n",
      "Loading images from car_side folder\n",
      "\n",
      "Loading images from Faces folder\n",
      "\n",
      "Loading images from Faces_easy folder\n",
      "\n",
      "Loading images from grand_piano folder\n",
      "\n",
      "Loading images from Leopards folder\n",
      "\n",
      "Loading images from Motorbikes folder\n",
      "\n",
      "Loading images from watch folder\n",
      "\n"
     ]
    }
   ],
   "source": [
    "img_rows=300\n",
    "img_cols=300\n",
    "\n",
    "img_data_list=[]\n",
    "classes_names_list=[]\n",
    "\n",
    "for dataset in data_dir_list:\n",
    "    \n",
    "    classes_names_list.append(dataset) \n",
    "    \n",
    "    print ('Loading images from {} folder\\n'.format(dataset)) \n",
    "    \n",
    "    img_list = os.listdir(DATA_PATH+'/'+ dataset)\n",
    "    \n",
    "    for img in img_list:\n",
    "        input_img = cv2.imread(DATA_PATH + '/'+ dataset + '/'+ img )\n",
    "        input_img_resize = cv2.resize(input_img,(img_rows, img_cols))            \n",
    "        img_data_list.append(input_img_resize)"
   ]
  },
  {
   "cell_type": "markdown",
   "metadata": {},
   "source": [
    "### Getting the number of classes"
   ]
  },
  {
   "cell_type": "code",
   "execution_count": 10,
   "metadata": {},
   "outputs": [
    {
     "name": "stdout",
     "output_type": "stream",
     "text": [
      "10\n"
     ]
    }
   ],
   "source": [
    "num_classes = len(classes_names_list)\n",
    "print(num_classes)"
   ]
  },
  {
   "cell_type": "markdown",
   "metadata": {},
   "source": [
    "### Image preprocessiong"
   ]
  },
  {
   "cell_type": "code",
   "execution_count": 11,
   "metadata": {},
   "outputs": [],
   "source": [
    "import numpy as np\n",
    "\n",
    "img_data = np.array(img_data_list)\n",
    "img_data = img_data.astype('float16')\n",
    "img_data /= 255              ############### 0-255, i.e., 2**8 = 256 possibilities is the rance for each individual colour. \n",
    "                             ############### By dividing by 255, we get values in the 0.0-1.0 range (normalization) \n",
    "                             ############### NN or deep learning required scaled or normalized data\n"
   ]
  },
  {
   "cell_type": "code",
   "execution_count": 12,
   "metadata": {
    "scrolled": true
   },
   "outputs": [
    {
     "name": "stdout",
     "output_type": "stream",
     "text": [
      "(3725, 300, 300, 3)\n"
     ]
    }
   ],
   "source": [
    "print (img_data.shape)"
   ]
  },
  {
   "cell_type": "code",
   "execution_count": 13,
   "metadata": {},
   "outputs": [
    {
     "name": "stdout",
     "output_type": "stream",
     "text": [
      "3725\n"
     ]
    }
   ],
   "source": [
    "num_of_samples = img_data.shape[0]\n",
    "print(num_of_samples)"
   ]
  },
  {
   "cell_type": "code",
   "execution_count": 14,
   "metadata": {},
   "outputs": [
    {
     "name": "stdout",
     "output_type": "stream",
     "text": [
      "(300, 300, 3)\n"
     ]
    }
   ],
   "source": [
    "input_shape = img_data[0].shape\n",
    "print(input_shape)"
   ]
  },
  {
   "cell_type": "code",
   "execution_count": 15,
   "metadata": {},
   "outputs": [
    {
     "name": "stdout",
     "output_type": "stream",
     "text": [
      "[0 0 0 ... 9 9 9]\n"
     ]
    }
   ],
   "source": [
    "classes = np.ones((num_of_samples,), dtype='int64')\n",
    "\n",
    "classes[0:800]=0\n",
    "classes[800:1268]=1\n",
    "classes[1268:1396]=2\n",
    "classes[1396:1519]=3\n",
    "classes[1519:1954]=4\n",
    "classes[1954:2389]=5\n",
    "classes[2389:2488]=6\n",
    "classes[2488:2688]=7\n",
    "classes[2688:3486]=8\n",
    "classes[3468:]=9\n",
    "\n",
    "print(classes)"
   ]
  },
  {
   "cell_type": "markdown",
   "metadata": {},
   "source": [
    "### Converting class labels to numberic using on-hot encoding"
   ]
  },
  {
   "cell_type": "code",
   "execution_count": 16,
   "metadata": {},
   "outputs": [
    {
     "name": "stdout",
     "output_type": "stream",
     "text": [
      "[[1. 0. 0. ... 0. 0. 0.]\n",
      " [1. 0. 0. ... 0. 0. 0.]\n",
      " [1. 0. 0. ... 0. 0. 0.]\n",
      " ...\n",
      " [0. 0. 0. ... 0. 0. 1.]\n",
      " [0. 0. 0. ... 0. 0. 1.]\n",
      " [0. 0. 0. ... 0. 0. 1.]]\n"
     ]
    }
   ],
   "source": [
    "from keras.utils import to_categorical\n",
    "\n",
    "classes = to_categorical(classes, num_classes)\n",
    "\n",
    "print(classes)"
   ]
  },
  {
   "cell_type": "markdown",
   "metadata": {},
   "source": [
    "### Shuffling the dataset"
   ]
  },
  {
   "cell_type": "code",
   "execution_count": 17,
   "metadata": {},
   "outputs": [],
   "source": [
    "from sklearn.utils import shuffle\n",
    "\n",
    "X, Y = shuffle(img_data, classes, random_state=2)"
   ]
  },
  {
   "cell_type": "markdown",
   "metadata": {},
   "source": [
    "### Splitting the dataset into train and test"
   ]
  },
  {
   "cell_type": "code",
   "execution_count": 18,
   "metadata": {},
   "outputs": [],
   "source": [
    "from sklearn.model_selection import train_test_split\n",
    "\n",
    "X_train, X_test, y_train, y_test = train_test_split(X, Y, test_size=0.2, random_state=2)"
   ]
  },
  {
   "cell_type": "code",
   "execution_count": 19,
   "metadata": {},
   "outputs": [
    {
     "data": {
      "text/plain": [
       "(2980, 300, 300, 3)"
      ]
     },
     "execution_count": 19,
     "metadata": {},
     "output_type": "execute_result"
    }
   ],
   "source": [
    "X_train.shape"
   ]
  },
  {
   "cell_type": "code",
   "execution_count": 20,
   "metadata": {},
   "outputs": [
    {
     "data": {
      "text/plain": [
       "(2980, 10)"
      ]
     },
     "execution_count": 20,
     "metadata": {},
     "output_type": "execute_result"
    }
   ],
   "source": [
    "y_train.shape"
   ]
  },
  {
   "cell_type": "code",
   "execution_count": 21,
   "metadata": {},
   "outputs": [
    {
     "data": {
      "text/plain": [
       "(745, 300, 300, 3)"
      ]
     },
     "execution_count": 21,
     "metadata": {},
     "output_type": "execute_result"
    }
   ],
   "source": [
    "X_test.shape"
   ]
  },
  {
   "cell_type": "code",
   "execution_count": 22,
   "metadata": {},
   "outputs": [
    {
     "data": {
      "text/plain": [
       "(745, 10)"
      ]
     },
     "execution_count": 22,
     "metadata": {},
     "output_type": "execute_result"
    }
   ],
   "source": [
    "y_test.shape"
   ]
  },
  {
   "cell_type": "code",
   "execution_count": 23,
   "metadata": {},
   "outputs": [],
   "source": [
    "del X,Y"
   ]
  },
  {
   "cell_type": "markdown",
   "metadata": {},
   "source": [
    "### Defining the model"
   ]
  },
  {
   "cell_type": "code",
   "execution_count": 24,
   "metadata": {},
   "outputs": [],
   "source": [
    "from keras.models import Sequential\n",
    "from keras.layers import Dense, Dropout, Flatten\n",
    "from keras.layers import Conv2D, MaxPooling2D"
   ]
  },
  {
   "cell_type": "code",
   "execution_count": 25,
   "metadata": {},
   "outputs": [
    {
     "name": "stdout",
     "output_type": "stream",
     "text": [
      "WARNING:tensorflow:From C:\\Anaconda3\\lib\\site-packages\\tensorflow\\python\\framework\\op_def_library.py:263: colocate_with (from tensorflow.python.framework.ops) is deprecated and will be removed in a future version.\n",
      "Instructions for updating:\n",
      "Colocations handled automatically by placer.\n",
      "WARNING:tensorflow:From C:\\Anaconda3\\lib\\site-packages\\keras\\backend\\tensorflow_backend.py:3445: calling dropout (from tensorflow.python.ops.nn_ops) with keep_prob is deprecated and will be removed in a future version.\n",
      "Instructions for updating:\n",
      "Please use `rate` instead of `keep_prob`. Rate should be set to `rate = 1 - keep_prob`.\n"
     ]
    }
   ],
   "source": [
    "model = Sequential()\n",
    "\n",
    "model.add(Conv2D(32, (2, 2), activation='relu', input_shape=input_shape))\n",
    "model.add(Conv2D(32, (2, 2), activation='relu'))\n",
    "model.add(MaxPooling2D(pool_size=(2, 2)))\n",
    "model.add(Dropout(0.5))\n",
    "\n",
    "model.add(Conv2D(64, (2, 2), activation='relu'))\n",
    "model.add(Conv2D(64, (2, 2), activation='relu'))\n",
    "model.add(MaxPooling2D(pool_size=(2, 2)))\n",
    "model.add(Dropout(0.5))\n",
    "\n",
    "model.add(Conv2D(128, (2, 2), activation='relu'))\n",
    "model.add(Conv2D(128, (2, 2), activation='relu'))\n",
    "model.add(MaxPooling2D(pool_size=(2, 2)))\n",
    "model.add(Dropout(0.5))\n",
    "\n",
    "model.add(Conv2D(256, (2, 2), activation='relu'))\n",
    "model.add(Conv2D(256, (2, 2), activation='relu'))\n",
    "model.add(MaxPooling2D(pool_size=(2, 2)))\n",
    "model.add(Dropout(0.5))\n",
    "\n",
    "# model.add(Conv2D(512, (2, 2), activation='relu'))\n",
    "# model.add(Conv2D(512, (2, 2), activation='relu'))\n",
    "# model.add(MaxPooling2D(pool_size=(2, 2)))\n",
    "# model.add(Dropout(0.5))\n",
    "\n",
    "model.add(Flatten())\n",
    "model.add(Dense(256, activation='relu'))\n",
    "model.add(Dropout(0.5))\n",
    "model.add(Dense(num_classes, activation='softmax'))"
   ]
  },
  {
   "cell_type": "markdown",
   "metadata": {},
   "source": [
    "### Compiling the model"
   ]
  },
  {
   "cell_type": "code",
   "execution_count": 26,
   "metadata": {},
   "outputs": [],
   "source": [
    "model.compile(loss='categorical_crossentropy', optimizer='rmsprop', metrics=[\"accuracy\"])"
   ]
  },
  {
   "cell_type": "markdown",
   "metadata": {},
   "source": [
    "### Model Summary"
   ]
  },
  {
   "cell_type": "code",
   "execution_count": 27,
   "metadata": {},
   "outputs": [
    {
     "name": "stdout",
     "output_type": "stream",
     "text": [
      "_________________________________________________________________\n",
      "Layer (type)                 Output Shape              Param #   \n",
      "=================================================================\n",
      "conv2d_1 (Conv2D)            (None, 299, 299, 32)      416       \n",
      "_________________________________________________________________\n",
      "conv2d_2 (Conv2D)            (None, 298, 298, 32)      4128      \n",
      "_________________________________________________________________\n",
      "max_pooling2d_1 (MaxPooling2 (None, 149, 149, 32)      0         \n",
      "_________________________________________________________________\n",
      "dropout_1 (Dropout)          (None, 149, 149, 32)      0         \n",
      "_________________________________________________________________\n",
      "conv2d_3 (Conv2D)            (None, 148, 148, 64)      8256      \n",
      "_________________________________________________________________\n",
      "conv2d_4 (Conv2D)            (None, 147, 147, 64)      16448     \n",
      "_________________________________________________________________\n",
      "max_pooling2d_2 (MaxPooling2 (None, 73, 73, 64)        0         \n",
      "_________________________________________________________________\n",
      "dropout_2 (Dropout)          (None, 73, 73, 64)        0         \n",
      "_________________________________________________________________\n",
      "conv2d_5 (Conv2D)            (None, 72, 72, 128)       32896     \n",
      "_________________________________________________________________\n",
      "conv2d_6 (Conv2D)            (None, 71, 71, 128)       65664     \n",
      "_________________________________________________________________\n",
      "max_pooling2d_3 (MaxPooling2 (None, 35, 35, 128)       0         \n",
      "_________________________________________________________________\n",
      "dropout_3 (Dropout)          (None, 35, 35, 128)       0         \n",
      "_________________________________________________________________\n",
      "conv2d_7 (Conv2D)            (None, 34, 34, 256)       131328    \n",
      "_________________________________________________________________\n",
      "conv2d_8 (Conv2D)            (None, 33, 33, 256)       262400    \n",
      "_________________________________________________________________\n",
      "max_pooling2d_4 (MaxPooling2 (None, 16, 16, 256)       0         \n",
      "_________________________________________________________________\n",
      "dropout_4 (Dropout)          (None, 16, 16, 256)       0         \n",
      "_________________________________________________________________\n",
      "flatten_1 (Flatten)          (None, 65536)             0         \n",
      "_________________________________________________________________\n",
      "dense_1 (Dense)              (None, 256)               16777472  \n",
      "_________________________________________________________________\n",
      "dropout_5 (Dropout)          (None, 256)               0         \n",
      "_________________________________________________________________\n",
      "dense_2 (Dense)              (None, 10)                2570      \n",
      "=================================================================\n",
      "Total params: 17,301,578\n",
      "Trainable params: 17,301,578\n",
      "Non-trainable params: 0\n",
      "_________________________________________________________________\n"
     ]
    }
   ],
   "source": [
    "model.summary()"
   ]
  },
  {
   "cell_type": "code",
   "execution_count": 28,
   "metadata": {},
   "outputs": [
    {
     "data": {
      "text/plain": [
       "{'name': 'sequential_1',\n",
       " 'layers': [{'class_name': 'Conv2D',\n",
       "   'config': {'name': 'conv2d_1',\n",
       "    'trainable': True,\n",
       "    'batch_input_shape': (None, 300, 300, 3),\n",
       "    'dtype': 'float32',\n",
       "    'filters': 32,\n",
       "    'kernel_size': (2, 2),\n",
       "    'strides': (1, 1),\n",
       "    'padding': 'valid',\n",
       "    'data_format': 'channels_last',\n",
       "    'dilation_rate': (1, 1),\n",
       "    'activation': 'relu',\n",
       "    'use_bias': True,\n",
       "    'kernel_initializer': {'class_name': 'VarianceScaling',\n",
       "     'config': {'scale': 1.0,\n",
       "      'mode': 'fan_avg',\n",
       "      'distribution': 'uniform',\n",
       "      'seed': None}},\n",
       "    'bias_initializer': {'class_name': 'Zeros', 'config': {}},\n",
       "    'kernel_regularizer': None,\n",
       "    'bias_regularizer': None,\n",
       "    'activity_regularizer': None,\n",
       "    'kernel_constraint': None,\n",
       "    'bias_constraint': None}},\n",
       "  {'class_name': 'Conv2D',\n",
       "   'config': {'name': 'conv2d_2',\n",
       "    'trainable': True,\n",
       "    'filters': 32,\n",
       "    'kernel_size': (2, 2),\n",
       "    'strides': (1, 1),\n",
       "    'padding': 'valid',\n",
       "    'data_format': 'channels_last',\n",
       "    'dilation_rate': (1, 1),\n",
       "    'activation': 'relu',\n",
       "    'use_bias': True,\n",
       "    'kernel_initializer': {'class_name': 'VarianceScaling',\n",
       "     'config': {'scale': 1.0,\n",
       "      'mode': 'fan_avg',\n",
       "      'distribution': 'uniform',\n",
       "      'seed': None}},\n",
       "    'bias_initializer': {'class_name': 'Zeros', 'config': {}},\n",
       "    'kernel_regularizer': None,\n",
       "    'bias_regularizer': None,\n",
       "    'activity_regularizer': None,\n",
       "    'kernel_constraint': None,\n",
       "    'bias_constraint': None}},\n",
       "  {'class_name': 'MaxPooling2D',\n",
       "   'config': {'name': 'max_pooling2d_1',\n",
       "    'trainable': True,\n",
       "    'pool_size': (2, 2),\n",
       "    'padding': 'valid',\n",
       "    'strides': (2, 2),\n",
       "    'data_format': 'channels_last'}},\n",
       "  {'class_name': 'Dropout',\n",
       "   'config': {'name': 'dropout_1',\n",
       "    'trainable': True,\n",
       "    'rate': 0.5,\n",
       "    'noise_shape': None,\n",
       "    'seed': None}},\n",
       "  {'class_name': 'Conv2D',\n",
       "   'config': {'name': 'conv2d_3',\n",
       "    'trainable': True,\n",
       "    'filters': 64,\n",
       "    'kernel_size': (2, 2),\n",
       "    'strides': (1, 1),\n",
       "    'padding': 'valid',\n",
       "    'data_format': 'channels_last',\n",
       "    'dilation_rate': (1, 1),\n",
       "    'activation': 'relu',\n",
       "    'use_bias': True,\n",
       "    'kernel_initializer': {'class_name': 'VarianceScaling',\n",
       "     'config': {'scale': 1.0,\n",
       "      'mode': 'fan_avg',\n",
       "      'distribution': 'uniform',\n",
       "      'seed': None}},\n",
       "    'bias_initializer': {'class_name': 'Zeros', 'config': {}},\n",
       "    'kernel_regularizer': None,\n",
       "    'bias_regularizer': None,\n",
       "    'activity_regularizer': None,\n",
       "    'kernel_constraint': None,\n",
       "    'bias_constraint': None}},\n",
       "  {'class_name': 'Conv2D',\n",
       "   'config': {'name': 'conv2d_4',\n",
       "    'trainable': True,\n",
       "    'filters': 64,\n",
       "    'kernel_size': (2, 2),\n",
       "    'strides': (1, 1),\n",
       "    'padding': 'valid',\n",
       "    'data_format': 'channels_last',\n",
       "    'dilation_rate': (1, 1),\n",
       "    'activation': 'relu',\n",
       "    'use_bias': True,\n",
       "    'kernel_initializer': {'class_name': 'VarianceScaling',\n",
       "     'config': {'scale': 1.0,\n",
       "      'mode': 'fan_avg',\n",
       "      'distribution': 'uniform',\n",
       "      'seed': None}},\n",
       "    'bias_initializer': {'class_name': 'Zeros', 'config': {}},\n",
       "    'kernel_regularizer': None,\n",
       "    'bias_regularizer': None,\n",
       "    'activity_regularizer': None,\n",
       "    'kernel_constraint': None,\n",
       "    'bias_constraint': None}},\n",
       "  {'class_name': 'MaxPooling2D',\n",
       "   'config': {'name': 'max_pooling2d_2',\n",
       "    'trainable': True,\n",
       "    'pool_size': (2, 2),\n",
       "    'padding': 'valid',\n",
       "    'strides': (2, 2),\n",
       "    'data_format': 'channels_last'}},\n",
       "  {'class_name': 'Dropout',\n",
       "   'config': {'name': 'dropout_2',\n",
       "    'trainable': True,\n",
       "    'rate': 0.5,\n",
       "    'noise_shape': None,\n",
       "    'seed': None}},\n",
       "  {'class_name': 'Conv2D',\n",
       "   'config': {'name': 'conv2d_5',\n",
       "    'trainable': True,\n",
       "    'filters': 128,\n",
       "    'kernel_size': (2, 2),\n",
       "    'strides': (1, 1),\n",
       "    'padding': 'valid',\n",
       "    'data_format': 'channels_last',\n",
       "    'dilation_rate': (1, 1),\n",
       "    'activation': 'relu',\n",
       "    'use_bias': True,\n",
       "    'kernel_initializer': {'class_name': 'VarianceScaling',\n",
       "     'config': {'scale': 1.0,\n",
       "      'mode': 'fan_avg',\n",
       "      'distribution': 'uniform',\n",
       "      'seed': None}},\n",
       "    'bias_initializer': {'class_name': 'Zeros', 'config': {}},\n",
       "    'kernel_regularizer': None,\n",
       "    'bias_regularizer': None,\n",
       "    'activity_regularizer': None,\n",
       "    'kernel_constraint': None,\n",
       "    'bias_constraint': None}},\n",
       "  {'class_name': 'Conv2D',\n",
       "   'config': {'name': 'conv2d_6',\n",
       "    'trainable': True,\n",
       "    'filters': 128,\n",
       "    'kernel_size': (2, 2),\n",
       "    'strides': (1, 1),\n",
       "    'padding': 'valid',\n",
       "    'data_format': 'channels_last',\n",
       "    'dilation_rate': (1, 1),\n",
       "    'activation': 'relu',\n",
       "    'use_bias': True,\n",
       "    'kernel_initializer': {'class_name': 'VarianceScaling',\n",
       "     'config': {'scale': 1.0,\n",
       "      'mode': 'fan_avg',\n",
       "      'distribution': 'uniform',\n",
       "      'seed': None}},\n",
       "    'bias_initializer': {'class_name': 'Zeros', 'config': {}},\n",
       "    'kernel_regularizer': None,\n",
       "    'bias_regularizer': None,\n",
       "    'activity_regularizer': None,\n",
       "    'kernel_constraint': None,\n",
       "    'bias_constraint': None}},\n",
       "  {'class_name': 'MaxPooling2D',\n",
       "   'config': {'name': 'max_pooling2d_3',\n",
       "    'trainable': True,\n",
       "    'pool_size': (2, 2),\n",
       "    'padding': 'valid',\n",
       "    'strides': (2, 2),\n",
       "    'data_format': 'channels_last'}},\n",
       "  {'class_name': 'Dropout',\n",
       "   'config': {'name': 'dropout_3',\n",
       "    'trainable': True,\n",
       "    'rate': 0.5,\n",
       "    'noise_shape': None,\n",
       "    'seed': None}},\n",
       "  {'class_name': 'Conv2D',\n",
       "   'config': {'name': 'conv2d_7',\n",
       "    'trainable': True,\n",
       "    'filters': 256,\n",
       "    'kernel_size': (2, 2),\n",
       "    'strides': (1, 1),\n",
       "    'padding': 'valid',\n",
       "    'data_format': 'channels_last',\n",
       "    'dilation_rate': (1, 1),\n",
       "    'activation': 'relu',\n",
       "    'use_bias': True,\n",
       "    'kernel_initializer': {'class_name': 'VarianceScaling',\n",
       "     'config': {'scale': 1.0,\n",
       "      'mode': 'fan_avg',\n",
       "      'distribution': 'uniform',\n",
       "      'seed': None}},\n",
       "    'bias_initializer': {'class_name': 'Zeros', 'config': {}},\n",
       "    'kernel_regularizer': None,\n",
       "    'bias_regularizer': None,\n",
       "    'activity_regularizer': None,\n",
       "    'kernel_constraint': None,\n",
       "    'bias_constraint': None}},\n",
       "  {'class_name': 'Conv2D',\n",
       "   'config': {'name': 'conv2d_8',\n",
       "    'trainable': True,\n",
       "    'filters': 256,\n",
       "    'kernel_size': (2, 2),\n",
       "    'strides': (1, 1),\n",
       "    'padding': 'valid',\n",
       "    'data_format': 'channels_last',\n",
       "    'dilation_rate': (1, 1),\n",
       "    'activation': 'relu',\n",
       "    'use_bias': True,\n",
       "    'kernel_initializer': {'class_name': 'VarianceScaling',\n",
       "     'config': {'scale': 1.0,\n",
       "      'mode': 'fan_avg',\n",
       "      'distribution': 'uniform',\n",
       "      'seed': None}},\n",
       "    'bias_initializer': {'class_name': 'Zeros', 'config': {}},\n",
       "    'kernel_regularizer': None,\n",
       "    'bias_regularizer': None,\n",
       "    'activity_regularizer': None,\n",
       "    'kernel_constraint': None,\n",
       "    'bias_constraint': None}},\n",
       "  {'class_name': 'MaxPooling2D',\n",
       "   'config': {'name': 'max_pooling2d_4',\n",
       "    'trainable': True,\n",
       "    'pool_size': (2, 2),\n",
       "    'padding': 'valid',\n",
       "    'strides': (2, 2),\n",
       "    'data_format': 'channels_last'}},\n",
       "  {'class_name': 'Dropout',\n",
       "   'config': {'name': 'dropout_4',\n",
       "    'trainable': True,\n",
       "    'rate': 0.5,\n",
       "    'noise_shape': None,\n",
       "    'seed': None}},\n",
       "  {'class_name': 'Flatten',\n",
       "   'config': {'name': 'flatten_1',\n",
       "    'trainable': True,\n",
       "    'data_format': 'channels_last'}},\n",
       "  {'class_name': 'Dense',\n",
       "   'config': {'name': 'dense_1',\n",
       "    'trainable': True,\n",
       "    'units': 256,\n",
       "    'activation': 'relu',\n",
       "    'use_bias': True,\n",
       "    'kernel_initializer': {'class_name': 'VarianceScaling',\n",
       "     'config': {'scale': 1.0,\n",
       "      'mode': 'fan_avg',\n",
       "      'distribution': 'uniform',\n",
       "      'seed': None}},\n",
       "    'bias_initializer': {'class_name': 'Zeros', 'config': {}},\n",
       "    'kernel_regularizer': None,\n",
       "    'bias_regularizer': None,\n",
       "    'activity_regularizer': None,\n",
       "    'kernel_constraint': None,\n",
       "    'bias_constraint': None}},\n",
       "  {'class_name': 'Dropout',\n",
       "   'config': {'name': 'dropout_5',\n",
       "    'trainable': True,\n",
       "    'rate': 0.5,\n",
       "    'noise_shape': None,\n",
       "    'seed': None}},\n",
       "  {'class_name': 'Dense',\n",
       "   'config': {'name': 'dense_2',\n",
       "    'trainable': True,\n",
       "    'units': 10,\n",
       "    'activation': 'softmax',\n",
       "    'use_bias': True,\n",
       "    'kernel_initializer': {'class_name': 'VarianceScaling',\n",
       "     'config': {'scale': 1.0,\n",
       "      'mode': 'fan_avg',\n",
       "      'distribution': 'uniform',\n",
       "      'seed': None}},\n",
       "    'bias_initializer': {'class_name': 'Zeros', 'config': {}},\n",
       "    'kernel_regularizer': None,\n",
       "    'bias_regularizer': None,\n",
       "    'activity_regularizer': None,\n",
       "    'kernel_constraint': None,\n",
       "    'bias_constraint': None}}]}"
      ]
     },
     "execution_count": 28,
     "metadata": {},
     "output_type": "execute_result"
    }
   ],
   "source": [
    "model.get_config()"
   ]
  },
  {
   "cell_type": "code",
   "execution_count": 29,
   "metadata": {},
   "outputs": [
    {
     "data": {
      "text/plain": [
       "{'name': 'conv2d_1',\n",
       " 'trainable': True,\n",
       " 'batch_input_shape': (None, 300, 300, 3),\n",
       " 'dtype': 'float32',\n",
       " 'filters': 32,\n",
       " 'kernel_size': (2, 2),\n",
       " 'strides': (1, 1),\n",
       " 'padding': 'valid',\n",
       " 'data_format': 'channels_last',\n",
       " 'dilation_rate': (1, 1),\n",
       " 'activation': 'relu',\n",
       " 'use_bias': True,\n",
       " 'kernel_initializer': {'class_name': 'VarianceScaling',\n",
       "  'config': {'scale': 1.0,\n",
       "   'mode': 'fan_avg',\n",
       "   'distribution': 'uniform',\n",
       "   'seed': None}},\n",
       " 'bias_initializer': {'class_name': 'Zeros', 'config': {}},\n",
       " 'kernel_regularizer': None,\n",
       " 'bias_regularizer': None,\n",
       " 'activity_regularizer': None,\n",
       " 'kernel_constraint': None,\n",
       " 'bias_constraint': None}"
      ]
     },
     "execution_count": 29,
     "metadata": {},
     "output_type": "execute_result"
    }
   ],
   "source": [
    "model.layers[0].get_config()"
   ]
  },
  {
   "cell_type": "code",
   "execution_count": 30,
   "metadata": {},
   "outputs": [
    {
     "data": {
      "text/plain": [
       "[<keras.layers.convolutional.Conv2D at 0x22162ccfc18>,\n",
       " <keras.layers.convolutional.Conv2D at 0x22162ccfc88>,\n",
       " <keras.layers.pooling.MaxPooling2D at 0x22162ccff98>,\n",
       " <keras.layers.core.Dropout at 0x22162d193c8>,\n",
       " <keras.layers.convolutional.Conv2D at 0x22162ccffd0>,\n",
       " <keras.layers.convolutional.Conv2D at 0x22162d19128>,\n",
       " <keras.layers.pooling.MaxPooling2D at 0x22162d5f518>,\n",
       " <keras.layers.core.Dropout at 0x22162dbd518>,\n",
       " <keras.layers.convolutional.Conv2D at 0x22162dbd668>,\n",
       " <keras.layers.convolutional.Conv2D at 0x22162dbd278>,\n",
       " <keras.layers.pooling.MaxPooling2D at 0x22162df1438>,\n",
       " <keras.layers.core.Dropout at 0x22162e31a20>,\n",
       " <keras.layers.convolutional.Conv2D at 0x22162e66940>,\n",
       " <keras.layers.convolutional.Conv2D at 0x22162e31198>,\n",
       " <keras.layers.pooling.MaxPooling2D at 0x22162e66e80>,\n",
       " <keras.layers.core.Dropout at 0x22162ebf978>,\n",
       " <keras.layers.core.Flatten at 0x22162ebfb70>,\n",
       " <keras.layers.core.Dense at 0x22162ebf5c0>,\n",
       " <keras.layers.core.Dropout at 0x22162ef26d8>,\n",
       " <keras.layers.core.Dense at 0x22162f51358>]"
      ]
     },
     "execution_count": 30,
     "metadata": {},
     "output_type": "execute_result"
    }
   ],
   "source": [
    "model.layers"
   ]
  },
  {
   "cell_type": "code",
   "execution_count": 31,
   "metadata": {},
   "outputs": [
    {
     "data": {
      "text/plain": [
       "[<tf.Variable 'conv2d_1/kernel:0' shape=(2, 2, 3, 32) dtype=float32_ref>,\n",
       " <tf.Variable 'conv2d_1/bias:0' shape=(32,) dtype=float32_ref>,\n",
       " <tf.Variable 'conv2d_2/kernel:0' shape=(2, 2, 32, 32) dtype=float32_ref>,\n",
       " <tf.Variable 'conv2d_2/bias:0' shape=(32,) dtype=float32_ref>,\n",
       " <tf.Variable 'conv2d_3/kernel:0' shape=(2, 2, 32, 64) dtype=float32_ref>,\n",
       " <tf.Variable 'conv2d_3/bias:0' shape=(64,) dtype=float32_ref>,\n",
       " <tf.Variable 'conv2d_4/kernel:0' shape=(2, 2, 64, 64) dtype=float32_ref>,\n",
       " <tf.Variable 'conv2d_4/bias:0' shape=(64,) dtype=float32_ref>,\n",
       " <tf.Variable 'conv2d_5/kernel:0' shape=(2, 2, 64, 128) dtype=float32_ref>,\n",
       " <tf.Variable 'conv2d_5/bias:0' shape=(128,) dtype=float32_ref>,\n",
       " <tf.Variable 'conv2d_6/kernel:0' shape=(2, 2, 128, 128) dtype=float32_ref>,\n",
       " <tf.Variable 'conv2d_6/bias:0' shape=(128,) dtype=float32_ref>,\n",
       " <tf.Variable 'conv2d_7/kernel:0' shape=(2, 2, 128, 256) dtype=float32_ref>,\n",
       " <tf.Variable 'conv2d_7/bias:0' shape=(256,) dtype=float32_ref>,\n",
       " <tf.Variable 'conv2d_8/kernel:0' shape=(2, 2, 256, 256) dtype=float32_ref>,\n",
       " <tf.Variable 'conv2d_8/bias:0' shape=(256,) dtype=float32_ref>,\n",
       " <tf.Variable 'dense_1/kernel:0' shape=(65536, 256) dtype=float32_ref>,\n",
       " <tf.Variable 'dense_1/bias:0' shape=(256,) dtype=float32_ref>,\n",
       " <tf.Variable 'dense_2/kernel:0' shape=(256, 10) dtype=float32_ref>,\n",
       " <tf.Variable 'dense_2/bias:0' shape=(10,) dtype=float32_ref>]"
      ]
     },
     "execution_count": 31,
     "metadata": {},
     "output_type": "execute_result"
    }
   ],
   "source": [
    "model.weights"
   ]
  },
  {
   "cell_type": "code",
   "execution_count": 32,
   "metadata": {},
   "outputs": [
    {
     "data": {
      "text/plain": [
       "[array([[[[-0.05312739,  0.00771603, -0.15198979, -0.08276855,\n",
       "            0.00790112,  0.08279593,  0.15254666,  0.00642884,\n",
       "           -0.09208238, -0.13611874,  0.16623072,  0.16245534,\n",
       "            0.03783062, -0.13264404,  0.0011941 , -0.19690314,\n",
       "           -0.1589872 ,  0.15278484,  0.16625448,  0.10810618,\n",
       "            0.00695825, -0.02051637, -0.11179407, -0.04035184,\n",
       "            0.16123037, -0.08878363,  0.05850099,  0.07472514,\n",
       "           -0.14844204,  0.10631545, -0.02038819, -0.16382623],\n",
       "          [-0.02990744, -0.16037363,  0.04430591,  0.18876208,\n",
       "           -0.10094261,  0.16359873,  0.06867896,  0.02016105,\n",
       "            0.14340247,  0.17276455, -0.01302284, -0.17692295,\n",
       "            0.14691044, -0.15212646,  0.16768973, -0.15082994,\n",
       "            0.12239583, -0.15604569, -0.17118935, -0.05961064,\n",
       "            0.11116363, -0.09179472, -0.01841463, -0.1995491 ,\n",
       "           -0.11531542,  0.01676546, -0.19879116, -0.02927659,\n",
       "           -0.01346621,  0.13965403,  0.03518048, -0.0715286 ],\n",
       "          [-0.1095763 ,  0.1895671 ,  0.07472868, -0.13144994,\n",
       "           -0.1028518 ,  0.0869544 , -0.06326663, -0.00081632,\n",
       "           -0.11261004,  0.1669821 ,  0.19088678, -0.19247308,\n",
       "           -0.12185922, -0.00438994,  0.18207596,  0.08101098,\n",
       "            0.1349444 , -0.13759384,  0.12916277,  0.17095585,\n",
       "           -0.02706549,  0.14659499,  0.06372906, -0.0698777 ,\n",
       "            0.1151488 , -0.01263282,  0.09249561,  0.13241576,\n",
       "            0.04079439,  0.07413511,  0.15656509,  0.13308363]],\n",
       " \n",
       "         [[-0.02780531,  0.17960261, -0.19291265,  0.13131885,\n",
       "            0.00621937, -0.12251665,  0.20206483,  0.0154682 ,\n",
       "            0.14967988,  0.14652346, -0.02008685,  0.00290097,\n",
       "            0.04474549,  0.11584355,  0.15096943,  0.04945655,\n",
       "            0.1888339 , -0.02841122,  0.20049237,  0.02002151,\n",
       "            0.1530412 , -0.1321399 , -0.10319296,  0.15339638,\n",
       "            0.07352768,  0.12577651,  0.1482367 ,  0.11327563,\n",
       "           -0.0940124 , -0.02763127,  0.12384783,  0.17164122],\n",
       "          [ 0.03342187,  0.0821958 ,  0.13566361, -0.06433344,\n",
       "           -0.12204529,  0.10884373,  0.19532274, -0.01264308,\n",
       "           -0.03826739,  0.03074932, -0.02719209, -0.12528476,\n",
       "            0.02977496, -0.06450664,  0.12701796,  0.00021401,\n",
       "           -0.14502977, -0.17733   , -0.04082163,  0.03805317,\n",
       "           -0.05390507, -0.08456269, -0.04093875,  0.16703378,\n",
       "           -0.05140868,  0.15006097,  0.02425252,  0.04682867,\n",
       "            0.03261305, -0.07466377,  0.20647724, -0.1256513 ],\n",
       "          [-0.00408506, -0.00644913, -0.04831342,  0.01605959,\n",
       "            0.04087657,  0.15718935,  0.00866319,  0.05690764,\n",
       "           -0.06145842, -0.08612993,  0.01302131, -0.02177048,\n",
       "            0.17576148, -0.07154785, -0.04553357, -0.0140464 ,\n",
       "            0.17416956,  0.18915509,  0.18186776,  0.02045496,\n",
       "           -0.11454663,  0.00395791,  0.12235771, -0.08797491,\n",
       "            0.08850674,  0.02875628, -0.01960351, -0.11492619,\n",
       "           -0.13089728, -0.00924191,  0.15943141,  0.15920623]]],\n",
       " \n",
       " \n",
       "        [[[-0.1524264 , -0.02383712, -0.01622011, -0.07687213,\n",
       "            0.08939709, -0.0479206 , -0.17776035,  0.19500421,\n",
       "           -0.02217442, -0.05753861,  0.19981538,  0.17286964,\n",
       "            0.17742185, -0.08479324, -0.01577248,  0.1338995 ,\n",
       "            0.11020501, -0.13958457,  0.04087849, -0.10636022,\n",
       "            0.17605926,  0.00854543,  0.02462867,  0.17437328,\n",
       "           -0.14777541,  0.12956347,  0.10607578,  0.00425145,\n",
       "           -0.01792569,  0.06800459, -0.00298731,  0.13095252],\n",
       "          [-0.02688727,  0.01592031, -0.18139394,  0.12869959,\n",
       "            0.04539202,  0.19493459, -0.05582714, -0.14417943,\n",
       "            0.13000609,  0.17670433,  0.11619912,  0.06598167,\n",
       "            0.05386691, -0.15156326, -0.07345295, -0.12224074,\n",
       "           -0.06369929, -0.13039014,  0.10610123, -0.04726903,\n",
       "           -0.04167269, -0.0652495 , -0.16960973, -0.15136385,\n",
       "            0.09255399, -0.01968676,  0.12771787,  0.11619027,\n",
       "           -0.18094438, -0.13419302,  0.01127316, -0.0446174 ],\n",
       "          [ 0.00223006,  0.08103083,  0.18167077,  0.20225947,\n",
       "            0.04749288, -0.01763153,  0.12745298,  0.1761777 ,\n",
       "            0.1726455 ,  0.12157352, -0.15587659, -0.03347829,\n",
       "           -0.0364957 ,  0.20529474, -0.03101511,  0.03194654,\n",
       "           -0.05991472,  0.00318582,  0.17902888, -0.13000447,\n",
       "           -0.0168542 ,  0.18023257, -0.13427001, -0.02900405,\n",
       "            0.17190959, -0.04429924,  0.06815965, -0.16232622,\n",
       "            0.04914121,  0.03068447, -0.14717528,  0.19791166]],\n",
       " \n",
       "         [[-0.12891406,  0.08371778,  0.10354586,  0.14020263,\n",
       "            0.02270971, -0.16746016, -0.07091865, -0.00809969,\n",
       "            0.13141836, -0.00233869, -0.1252755 ,  0.00800684,\n",
       "           -0.03725092,  0.13110484,  0.00138175, -0.02179502,\n",
       "            0.06415762, -0.04227431,  0.00271535, -0.10832351,\n",
       "            0.11148338, -0.02186446, -0.10045032, -0.13238856,\n",
       "           -0.08125466, -0.17605752,  0.01733404,  0.08574785,\n",
       "            0.08167757,  0.16176392, -0.13755652, -0.11480788],\n",
       "          [-0.10381176, -0.10190765,  0.19392903,  0.11048929,\n",
       "           -0.07265384, -0.14341691,  0.1251408 , -0.04244868,\n",
       "            0.16106577, -0.17706643,  0.19125433,  0.15497814,\n",
       "           -0.02597845,  0.05293484, -0.05689894,  0.02336897,\n",
       "           -0.19697772,  0.18494757,  0.12618257,  0.10864888,\n",
       "           -0.03826571,  0.2064342 , -0.09198021, -0.16479433,\n",
       "            0.00664261, -0.07361998, -0.16516411,  0.1995986 ,\n",
       "            0.14593564, -0.06657174, -0.00410327, -0.09816734],\n",
       "          [-0.14745188,  0.02035743, -0.06338459, -0.19457585,\n",
       "           -0.06209834, -0.12901035,  0.06330325,  0.19112612,\n",
       "            0.17661323,  0.02854359,  0.16038005, -0.04741858,\n",
       "           -0.20039147, -0.13850611,  0.14517666, -0.13345617,\n",
       "            0.11374624,  0.17016159, -0.1945329 , -0.11237422,\n",
       "            0.00746904, -0.15312566, -0.18936613, -0.1313992 ,\n",
       "           -0.12147985, -0.16090126, -0.03623608,  0.05805983,\n",
       "            0.18721445,  0.01252925,  0.10315673, -0.15791465]]]],\n",
       "       dtype=float32),\n",
       " array([0., 0., 0., 0., 0., 0., 0., 0., 0., 0., 0., 0., 0., 0., 0., 0., 0.,\n",
       "        0., 0., 0., 0., 0., 0., 0., 0., 0., 0., 0., 0., 0., 0., 0.],\n",
       "       dtype=float32)]"
      ]
     },
     "execution_count": 32,
     "metadata": {},
     "output_type": "execute_result"
    }
   ],
   "source": [
    "model.layers[0].get_weights()"
   ]
  },
  {
   "cell_type": "code",
   "execution_count": 33,
   "metadata": {},
   "outputs": [
    {
     "name": "stdout",
     "output_type": "stream",
     "text": [
      "<class 'list'>\n",
      "2\n",
      "<class 'numpy.ndarray'>\n",
      "(2, 2, 3, 32)\n",
      "<class 'numpy.ndarray'>\n",
      "(32,)\n"
     ]
    }
   ],
   "source": [
    "# For layer 0, checking the filter (get_weights()[0]) and bias (get_weights()[0]))\n",
    "\n",
    "print(type(model.layers[0].get_weights()))\n",
    "\n",
    "print(len(model.layers[0].get_weights()))\n",
    "\n",
    "print(type(model.layers[0].get_weights()[0]))\n",
    "\n",
    "print(model.layers[0].get_weights()[0].shape)\n",
    "\n",
    "print(type(model.layers[0].get_weights()[1]))\n",
    "\n",
    "print(model.layers[0].get_weights()[1].shape)"
   ]
  },
  {
   "cell_type": "code",
   "execution_count": 34,
   "metadata": {},
   "outputs": [
    {
     "data": {
      "text/plain": [
       "(None, 300, 300, 3)"
      ]
     },
     "execution_count": 34,
     "metadata": {},
     "output_type": "execute_result"
    }
   ],
   "source": [
    "#Checking input shape for layer 0\n",
    "\n",
    "model.layers[0].input_shape"
   ]
  },
  {
   "cell_type": "code",
   "execution_count": 35,
   "metadata": {},
   "outputs": [
    {
     "data": {
      "text/plain": [
       "(None, 299, 299, 32)"
      ]
     },
     "execution_count": 35,
     "metadata": {},
     "output_type": "execute_result"
    }
   ],
   "source": [
    "#Checking output shape for layer 0\n",
    "\n",
    "model.layers[0].output_shape"
   ]
  },
  {
   "cell_type": "code",
   "execution_count": 36,
   "metadata": {},
   "outputs": [
    {
     "data": {
      "text/plain": [
       "True"
      ]
     },
     "execution_count": 36,
     "metadata": {},
     "output_type": "execute_result"
    }
   ],
   "source": [
    "model.layers[0].trainable"
   ]
  },
  {
   "cell_type": "markdown",
   "metadata": {},
   "source": [
    "### Approach1: Data augmentation"
   ]
  },
  {
   "cell_type": "code",
   "execution_count": 37,
   "metadata": {},
   "outputs": [],
   "source": [
    "from keras.preprocessing.image import ImageDataGenerator, array_to_img, img_to_array, load_img\n",
    "\n",
    "datagen = ImageDataGenerator(\n",
    "        rotation_range=40,\n",
    "        width_shift_range=0.2,\n",
    "        height_shift_range=0.2,\n",
    "        shear_range=0.2,\n",
    "        zoom_range=0.2,\n",
    "        horizontal_flip=True,\n",
    "        fill_mode='nearest')"
   ]
  },
  {
   "cell_type": "code",
   "execution_count": 38,
   "metadata": {},
   "outputs": [],
   "source": [
    "datagen.fit(X_train)"
   ]
  },
  {
   "cell_type": "markdown",
   "metadata": {},
   "source": [
    "### Approach1: Training/fitting the model on augmented data"
   ]
  },
  {
   "cell_type": "code",
   "execution_count": 39,
   "metadata": {
    "scrolled": true
   },
   "outputs": [],
   "source": [
    "# num_epoch = 5\n",
    "# batch_size = 32\n",
    "\n",
    "# # hist = model.fit(X_train, y_train, batch_size = batch_size, \n",
    "# #                  epochs = num_epoch, verbose = 1, \n",
    "# #                  validation_data = (X_test, y_test))\n",
    "\n",
    "# hist = model.fit_generator(datagen.flow(X_train, y_train, batch_size = batch_size),\\\n",
    "#                           steps_per_epoch = len(X_train)/batch_size, \\\n",
    "#                           epochs = num_epoch,\\\n",
    "#                           verbose = 1, validation_data = (X_test, y_test))"
   ]
  },
  {
   "cell_type": "markdown",
   "metadata": {},
   "source": [
    "**Saving and loading the model and weights**\n",
    "\n",
    "It is not recommended to use pickle or cPickle to save a Keras model.\n",
    "\n",
    "You can use model.save(filepath) to save a Keras model into a single HDF5 file which will contain:\n",
    "\n",
    "    the architecture of the model, allowing to re-create the model\n",
    "    the weights of the model\n",
    "    the training configuration (loss, optimizer)\n",
    "    the state of the optimizer, allowing to resume training exactly where you left off.\n",
    "\n",
    "You can then use keras.models.load_model(filepath) to reinstantiate your model. load_model will also take care of compiling the model using the saved training configuration (unless the model was never compiled in the first place)."
   ]
  },
  {
   "cell_type": "code",
   "execution_count": 40,
   "metadata": {},
   "outputs": [],
   "source": [
    "# model.save('model.hdf5')\n",
    "# loaded_model = keras.models.load_model('model.hdf5')"
   ]
  },
  {
   "cell_type": "markdown",
   "metadata": {},
   "source": [
    "**Using saved model for retraining**"
   ]
  },
  {
   "cell_type": "code",
   "execution_count": 41,
   "metadata": {},
   "outputs": [],
   "source": [
    "# num_epoch = 10\n",
    "# batch_size = 32\n",
    "\n",
    "# hist = loaded_model.fit_generator(datagen.flow(X_train, y_train, batch_size = batch_size),\\\n",
    "#                           steps_per_epoch = len(X_train)/batch_size, \\\n",
    "#                           epochs = num_epoch,\\\n",
    "#                           verbose = 1, validation_data = (X_test, y_test))"
   ]
  },
  {
   "cell_type": "markdown",
   "metadata": {},
   "source": [
    "**Saving and loading the retrained model**"
   ]
  },
  {
   "cell_type": "code",
   "execution_count": 42,
   "metadata": {},
   "outputs": [
    {
     "name": "stdout",
     "output_type": "stream",
     "text": [
      "WARNING:tensorflow:From C:\\Anaconda3\\lib\\site-packages\\tensorflow\\python\\ops\\math_ops.py:3066: to_int32 (from tensorflow.python.ops.math_ops) is deprecated and will be removed in a future version.\n",
      "Instructions for updating:\n",
      "Use tf.cast instead.\n"
     ]
    }
   ],
   "source": [
    "#loaded_model.save('loaded_model_augmentation_copy.hdf5')\n",
    "loaded_model_augmentation_copy = keras.models.load_model('loaded_model_augmentation_copy.hdf5')"
   ]
  },
  {
   "cell_type": "markdown",
   "metadata": {},
   "source": [
    "### Approach1: Evaluating the model"
   ]
  },
  {
   "cell_type": "code",
   "execution_count": 44,
   "metadata": {},
   "outputs": [
    {
     "name": "stdout",
     "output_type": "stream",
     "text": [
      "745/745 [==============================] - 8s 10ms/step\n",
      "Test Loss: 0.8532429583120666\n",
      "Test Accuracy: 0.7691275168585298\n"
     ]
    }
   ],
   "source": [
    "#loaded_model_augmentation_copy\n",
    "num_epoch = 10\n",
    "batch_size = 32\n",
    "\n",
    "score_loaded_test = loaded_model_augmentation_copy.evaluate(X_test, y_test, batch_size=batch_size)\n",
    "\n",
    "print('Test Loss:', score_loaded_test[0])\n",
    "print('Test Accuracy:', score_loaded_test[1])"
   ]
  },
  {
   "cell_type": "code",
   "execution_count": 45,
   "metadata": {},
   "outputs": [],
   "source": [
    "# score_loaded = loaded_model.evaluate(X_test, y_test, batch_size=batch_size)\n",
    "\n",
    "# print('Test Loss:', score_loaded[0])\n",
    "# print('Test Accuracy:', score_loaded[1])"
   ]
  },
  {
   "cell_type": "code",
   "execution_count": 46,
   "metadata": {
    "scrolled": true
   },
   "outputs": [
    {
     "name": "stdout",
     "output_type": "stream",
     "text": [
      "(1, 300, 300, 3)\n"
     ]
    }
   ],
   "source": [
    "test_image_aug = X_test[0:1]\n",
    "print (test_image_aug.shape)"
   ]
  },
  {
   "cell_type": "code",
   "execution_count": 47,
   "metadata": {},
   "outputs": [
    {
     "name": "stdout",
     "output_type": "stream",
     "text": [
      "[[4.0252716e-03 2.8371654e-02 2.2205018e-05 1.1738068e-02 9.8851975e-05\n",
      "  3.6261059e-07 5.8562942e-05 8.2516703e-14 1.0114807e-01 8.5453701e-01]]\n",
      "[9]\n",
      "[[0. 0. 0. 0. 0. 0. 0. 0. 0. 1.]]\n"
     ]
    }
   ],
   "source": [
    "print(loaded_model_augmentation_copy.predict(test_image_aug))\n",
    "print(loaded_model_augmentation_copy.predict_classes(test_image_aug))\n",
    "print(y_test[0:1])"
   ]
  },
  {
   "cell_type": "markdown",
   "metadata": {},
   "source": [
    "### Approach1: Predict and compute the confusion matrix"
   ]
  },
  {
   "cell_type": "code",
   "execution_count": 48,
   "metadata": {},
   "outputs": [],
   "source": [
    "# from sklearn.metrics import confusion_matrix\n",
    "\n",
    "# Y_pred_loaded = loaded_model.predict(X_test)\n",
    "# print(Y_pred_loaded)"
   ]
  },
  {
   "cell_type": "code",
   "execution_count": 49,
   "metadata": {},
   "outputs": [
    {
     "name": "stdout",
     "output_type": "stream",
     "text": [
      "[[4.02526557e-03 2.83716507e-02 2.22049766e-05 ... 8.25167029e-14\n",
      "  1.01148047e-01 8.54537010e-01]\n",
      " [2.36970577e-02 1.49158180e-01 1.37636922e-02 ... 8.12652706e-06\n",
      "  7.20552683e-01 7.62639940e-02]\n",
      " [1.12401836e-01 8.38459060e-02 7.10340776e-03 ... 6.89990120e-04\n",
      "  3.54710296e-02 4.20511141e-02]\n",
      " ...\n",
      " [1.21915973e-05 1.79868529e-03 7.38199617e-07 ... 4.38681724e-07\n",
      "  4.01580201e-06 5.86802234e-05]\n",
      " [6.74744719e-04 1.23054180e-02 2.73327805e-05 ... 1.74491799e-06\n",
      "  2.52595637e-04 2.09580190e-04]\n",
      " [7.37014576e-04 3.69170215e-03 9.28470308e-06 ... 1.12449316e-05\n",
      "  1.03542998e-05 1.14801849e-04]]\n"
     ]
    }
   ],
   "source": [
    "from sklearn.metrics import confusion_matrix\n",
    "\n",
    "Y_pred_loaded_aug = loaded_model_augmentation_copy.predict(X_test)\n",
    "print(Y_pred_loaded_aug)"
   ]
  },
  {
   "cell_type": "code",
   "execution_count": 50,
   "metadata": {},
   "outputs": [],
   "source": [
    "# y_pred_loaded = np.argmax(Y_pred_loaded, axis=1)\n",
    "# print(y_pred_loaded)\n",
    "\n",
    "# # Class description:\n",
    "# # 0 = airplanes\n",
    "# # 1 = BACKGROUND_Google\n",
    "# # 2 = bonsai\n",
    "# # 3 = car_side\n",
    "# # 4 = Faces\n",
    "# # 5 = Faces_easy\n",
    "# # 6 = grand_piano\n",
    "# # 7 = Leopards\n",
    "# # 8 = Motorbikes\n",
    "# # 9 = watch"
   ]
  },
  {
   "cell_type": "code",
   "execution_count": 51,
   "metadata": {},
   "outputs": [
    {
     "name": "stdout",
     "output_type": "stream",
     "text": [
      "[9 8 3 0 9 1 0 5 8 8 6 0 0 0 4 7 8 3 1 5 4 4 9 4 5 4 1 0 1 5 5 4 5 1 1 7 5\n",
      " 4 1 3 1 8 8 7 6 5 0 4 4 1 0 5 0 3 2 8 9 0 0 8 1 5 0 1 8 4 5 1 1 1 9 8 3 1\n",
      " 1 4 8 3 1 1 0 3 4 0 8 1 3 0 8 0 1 5 1 4 0 5 1 1 8 1 0 0 1 0 8 0 5 1 8 5 5\n",
      " 0 5 1 8 5 8 5 3 3 9 8 7 3 1 1 5 5 4 4 0 4 3 1 3 8 8 1 3 1 0 4 0 1 0 0 0 4\n",
      " 8 0 4 0 5 1 5 5 5 0 5 4 5 1 8 4 5 8 5 3 0 1 0 3 3 1 1 5 5 3 3 1 1 5 0 0 0\n",
      " 0 8 8 0 6 0 3 8 0 0 3 0 5 8 4 3 1 4 8 3 8 8 3 8 4 8 4 1 3 4 0 8 7 5 8 4 1\n",
      " 0 0 1 9 8 4 5 5 0 4 1 3 3 4 4 1 8 8 4 1 3 0 9 1 8 5 4 4 3 0 9 3 0 2 0 0 8\n",
      " 8 3 2 3 0 3 0 9 0 8 4 0 1 3 1 8 4 5 0 0 8 2 5 3 1 8 5 5 0 0 8 8 5 0 8 8 1\n",
      " 4 8 0 0 0 3 1 8 0 0 1 0 8 0 8 0 0 0 1 9 7 3 0 1 8 2 3 0 1 1 0 0 0 3 0 0 0\n",
      " 0 4 9 1 8 3 3 5 0 4 4 0 4 4 6 3 9 5 3 8 0 5 4 3 0 0 0 8 3 0 8 3 1 5 3 0 1\n",
      " 1 8 5 0 0 8 8 1 8 1 5 8 1 0 8 0 7 0 1 0 0 8 8 8 1 3 0 9 1 9 1 0 8 0 8 3 4\n",
      " 6 5 0 0 0 0 0 0 8 8 1 0 5 8 1 1 1 9 0 9 8 8 2 5 1 8 0 0 7 1 5 1 1 5 5 0 8\n",
      " 5 0 1 0 9 0 8 3 3 1 1 1 4 8 0 5 0 0 0 0 2 5 4 8 0 1 0 6 1 6 8 1 1 4 0 0 5\n",
      " 5 0 8 1 4 5 3 3 1 0 0 1 5 7 8 0 8 5 0 9 2 4 5 1 0 0 8 9 1 4 8 2 6 0 8 8 3\n",
      " 6 3 0 9 0 4 4 0 9 1 1 0 0 8 8 0 9 0 9 7 5 9 7 2 0 8 5 1 3 1 8 0 8 6 5 3 0\n",
      " 8 0 2 8 5 5 1 3 8 8 3 5 0 8 0 5 9 0 7 1 5 0 8 1 4 0 0 1 3 0 8 8 0 5 0 5 9\n",
      " 3 9 1 7 0 5 8 8 4 5 0 5 1 6 1 8 0 8 1 1 8 0 5 0 4 1 1 0 0 8 5 0 8 4 5 1 4\n",
      " 4 1 8 8 0 2 3 1 0 8 8 8 5 3 0 4 4 8 3 5 1 0 1 1 0 1 8 1 9 3 4 0 4 1 5 5 0\n",
      " 0 9 8 4 5 1 5 0 3 1 8 0 9 9 3 0 0 1 1 4 4 0 1 5 3 5 8 3 8 9 8 1 3 6 8 8 4\n",
      " 8 0 1 9 1 1 4 5 1 2 8 0 1 1 2 1 2 3 1 8 0 0 1 4 3 1 5 5 1 1 0 8 1 9 8 4 5\n",
      " 8 3 4 5 5]\n"
     ]
    }
   ],
   "source": [
    "y_pred_loaded_aug = np.argmax(Y_pred_loaded_aug, axis=1)\n",
    "print(y_pred_loaded_aug)\n",
    "\n",
    "# Class description:\n",
    "# 0 = airplanes\n",
    "# 1 = BACKGROUND_Google\n",
    "# 2 = bonsai\n",
    "# 3 = car_side\n",
    "# 4 = Faces\n",
    "# 5 = Faces_easy\n",
    "# 6 = grand_piano\n",
    "# 7 = Leopards\n",
    "# 8 = Motorbikes\n",
    "# 9 = watch"
   ]
  },
  {
   "cell_type": "code",
   "execution_count": 52,
   "metadata": {},
   "outputs": [],
   "source": [
    "# print(confusion_matrix(np.argmax(y_test, axis=1), y_pred_loaded))"
   ]
  },
  {
   "cell_type": "code",
   "execution_count": 53,
   "metadata": {},
   "outputs": [
    {
     "name": "stdout",
     "output_type": "stream",
     "text": [
      "[[140  10   0  19   0   0   0   0   2   0]\n",
      " [  4  73   0   6   1   0   0   1   1   4]\n",
      " [  0   3  15   0   0   0   1   1   0   1]\n",
      " [  0   0   0  23   0   0   0   0   0   0]\n",
      " [  0  13   0   3  69   7   0   0   0   0]\n",
      " [  0   9   0   1   0  86   0   0   0   0]\n",
      " [  0   5   0   0   0   0   7   0   0   0]\n",
      " [ 27   0   0   2   0   0   0  11   0   0]\n",
      " [  2  16   0  15   0   0   0   0 119   0]\n",
      " [  1   4   0   4   0   0   4   0   5  30]]\n"
     ]
    }
   ],
   "source": [
    "print(confusion_matrix(np.argmax(y_test, axis=1), y_pred_loaded_aug))"
   ]
  },
  {
   "cell_type": "markdown",
   "metadata": {},
   "source": [
    "## Approach1: Prediction on Unseen Image"
   ]
  },
  {
   "cell_type": "code",
   "execution_count": 54,
   "metadata": {},
   "outputs": [
    {
     "name": "stdout",
     "output_type": "stream",
     "text": [
      "['test']\n",
      "Loading images from test folder\n",
      "\n",
      "1\n"
     ]
    }
   ],
   "source": [
    "\n",
    "\n",
    "UNSEEN_DATA_PATH = os.path.join(PATH, 'useen_image')\n",
    "\n",
    "#print(UNSEEN_DATA_PATH)\n",
    "\n",
    "unseen_data_dir_list = os.listdir(UNSEEN_DATA_PATH)\n",
    "\n",
    "if '.DS_Store' in data_dir_list :\n",
    "    data_dir_list.remove('.DS_Store')\n",
    "    \n",
    "print(unseen_data_dir_list)\n",
    "\n",
    "unseen_img_data_list=[]\n",
    "unseen_img_classes_names_list=[]\n",
    "\n",
    "for dataset in unseen_data_dir_list:\n",
    "    \n",
    "    unseen_img_classes_names_list.append(dataset) \n",
    "    \n",
    "    print ('Loading images from {} folder\\n'.format(dataset)) \n",
    "    \n",
    "    unseen_img_list = os.listdir(UNSEEN_DATA_PATH+'/'+ dataset)\n",
    "    \n",
    "    for img in unseen_img_list:\n",
    "        unseen_input_img = cv2.imread(UNSEEN_DATA_PATH + '/'+ dataset + '/'+ img )\n",
    "        unseen_input_img_resize = cv2.resize(unseen_input_img,(img_rows, img_cols))            \n",
    "        unseen_img_data_list.append(unseen_input_img_resize) \n",
    "\n",
    "unseen_num_classes = len(unseen_img_classes_names_list)\n",
    "print(unseen_num_classes)\n",
    "\n"
   ]
  },
  {
   "cell_type": "markdown",
   "metadata": {},
   "source": [
    "## Approach1: Unseen Image preprocessiong"
   ]
  },
  {
   "cell_type": "code",
   "execution_count": 55,
   "metadata": {},
   "outputs": [
    {
     "name": "stdout",
     "output_type": "stream",
     "text": [
      "(1, 300, 300, 3)\n",
      "1\n",
      "(300, 300, 3)\n"
     ]
    }
   ],
   "source": [
    "unseen_img_data = np.array(unseen_img_data_list)\n",
    "unseen_img_data = unseen_img_data.astype('float16')\n",
    "unseen_img_data /= 255\n",
    "\n",
    "print(unseen_img_data.shape)\n",
    "\n",
    "unseen_num_of_samples = unseen_img_data.shape[0]\n",
    "print(unseen_num_of_samples)\n",
    "\n",
    "unseen_input_shape = unseen_img_data[0].shape\n",
    "print(unseen_input_shape)\n",
    "\n",
    "X_unseen = unseen_img_data\n",
    "\n"
   ]
  },
  {
   "cell_type": "code",
   "execution_count": 56,
   "metadata": {},
   "outputs": [],
   "source": [
    "# Y_pred_unseen_loaded = loaded_model.predict(X_unseen)\n",
    "# print(Y_pred_unseen_loaded)\n",
    "\n",
    "# y_pred_unseen_loaded = np.argmax(Y_pred_unseen_loaded, axis=1)\n",
    "# print(\"Class:\")\n",
    "# print(y_pred_unseen_loaded)"
   ]
  },
  {
   "cell_type": "code",
   "execution_count": 57,
   "metadata": {},
   "outputs": [
    {
     "name": "stdout",
     "output_type": "stream",
     "text": [
      "[[3.4806491e-03 9.6446836e-01 7.3256488e-06 2.2792650e-11 3.4116962e-07\n",
      "  1.7729743e-08 5.6952922e-07 2.6314658e-15 3.1912953e-02 1.2978201e-04]]\n",
      "Class:\n",
      "[1]\n"
     ]
    }
   ],
   "source": [
    "loaded_model_augmentation_copy\n",
    "\n",
    "Y_pred_unseen_loaded_aug = loaded_model_augmentation_copy.predict(X_unseen)\n",
    "print(Y_pred_unseen_loaded_aug)\n",
    "\n",
    "y_pred_unseen_loaded_aug = np.argmax(Y_pred_unseen_loaded_aug, axis=1)\n",
    "print(\"Class:\")\n",
    "print(y_pred_unseen_loaded_aug)"
   ]
  },
  {
   "cell_type": "markdown",
   "metadata": {},
   "source": [
    "**Saving and loading model and weights**"
   ]
  },
  {
   "cell_type": "code",
   "execution_count": 58,
   "metadata": {},
   "outputs": [],
   "source": [
    "#loaded_model.save('loaded_model_augmentation_copy.hdf5')\n",
    "#loaded_model_augmentation_copy = keras.models.load_model('loaded_model_augmentation_copy.hdf5')"
   ]
  },
  {
   "cell_type": "markdown",
   "metadata": {},
   "source": [
    "## Approach2: Without Augmentation"
   ]
  },
  {
   "cell_type": "markdown",
   "metadata": {},
   "source": [
    "### Shuffling the dataset"
   ]
  },
  {
   "cell_type": "code",
   "execution_count": 59,
   "metadata": {},
   "outputs": [],
   "source": [
    "X, Y = shuffle(img_data, classes, random_state=2)"
   ]
  },
  {
   "cell_type": "markdown",
   "metadata": {},
   "source": [
    "### Splitting the dataset into train and test"
   ]
  },
  {
   "cell_type": "code",
   "execution_count": 60,
   "metadata": {},
   "outputs": [],
   "source": [
    "from sklearn.model_selection import train_test_split\n",
    "\n",
    "X_train, X_test, y_train, y_test = train_test_split(X, Y, test_size=0.2, random_state=2)"
   ]
  },
  {
   "cell_type": "code",
   "execution_count": 61,
   "metadata": {},
   "outputs": [
    {
     "data": {
      "text/plain": [
       "(2980, 300, 300, 3)"
      ]
     },
     "execution_count": 61,
     "metadata": {},
     "output_type": "execute_result"
    }
   ],
   "source": [
    "X_train.shape"
   ]
  },
  {
   "cell_type": "code",
   "execution_count": 62,
   "metadata": {},
   "outputs": [
    {
     "data": {
      "text/plain": [
       "(2980, 10)"
      ]
     },
     "execution_count": 62,
     "metadata": {},
     "output_type": "execute_result"
    }
   ],
   "source": [
    "y_train.shape"
   ]
  },
  {
   "cell_type": "code",
   "execution_count": 63,
   "metadata": {},
   "outputs": [
    {
     "data": {
      "text/plain": [
       "(745, 300, 300, 3)"
      ]
     },
     "execution_count": 63,
     "metadata": {},
     "output_type": "execute_result"
    }
   ],
   "source": [
    "X_test.shape"
   ]
  },
  {
   "cell_type": "code",
   "execution_count": 64,
   "metadata": {},
   "outputs": [
    {
     "data": {
      "text/plain": [
       "(745, 10)"
      ]
     },
     "execution_count": 64,
     "metadata": {},
     "output_type": "execute_result"
    }
   ],
   "source": [
    "y_test.shape"
   ]
  },
  {
   "cell_type": "code",
   "execution_count": 65,
   "metadata": {},
   "outputs": [],
   "source": [
    "del X,Y"
   ]
  },
  {
   "cell_type": "markdown",
   "metadata": {},
   "source": [
    "### Defining the model"
   ]
  },
  {
   "cell_type": "code",
   "execution_count": 66,
   "metadata": {},
   "outputs": [],
   "source": [
    "# from keras.models import Sequential\n",
    "# from keras.layers import Dense, Dropout, Flatten\n",
    "# from keras.layers import Conv2D, MaxPooling2D"
   ]
  },
  {
   "cell_type": "code",
   "execution_count": 67,
   "metadata": {},
   "outputs": [],
   "source": [
    "model_without_augmentation = Sequential()\n",
    "\n",
    "model_without_augmentation.add(Conv2D(32, (2, 2), activation='relu', input_shape=input_shape))\n",
    "model_without_augmentation.add(Conv2D(32, (2, 2), activation='relu'))\n",
    "model_without_augmentation.add(MaxPooling2D(pool_size=(2, 2)))\n",
    "model_without_augmentation.add(Dropout(0.5))\n",
    "\n",
    "model_without_augmentation.add(Conv2D(64, (2, 2), activation='relu'))\n",
    "model_without_augmentation.add(Conv2D(64, (2, 2), activation='relu'))\n",
    "model_without_augmentation.add(MaxPooling2D(pool_size=(2, 2)))\n",
    "model_without_augmentation.add(Dropout(0.5))\n",
    "\n",
    "model_without_augmentation.add(Conv2D(128, (2, 2), activation='relu'))\n",
    "model_without_augmentation.add(Conv2D(128, (2, 2), activation='relu'))\n",
    "model_without_augmentation.add(MaxPooling2D(pool_size=(2, 2)))\n",
    "model_without_augmentation.add(Dropout(0.5))\n",
    "\n",
    "model_without_augmentation.add(Conv2D(256, (2, 2), activation='relu'))\n",
    "model_without_augmentation.add(Conv2D(256, (2, 2), activation='relu'))\n",
    "model_without_augmentation.add(MaxPooling2D(pool_size=(2, 2)))\n",
    "model_without_augmentation.add(Dropout(0.5))\n",
    "\n",
    "# model_without_augmentation.add(Conv2D(512, (2, 2), activation='relu'))\n",
    "# model_without_augmentation.add(Conv2D(512, (2, 2), activation='relu'))\n",
    "# model_without_augmentation.add(MaxPooling2D(pool_size=(2, 2)))\n",
    "# model_without_augmentation.add(Dropout(0.5))\n",
    "\n",
    "model_without_augmentation.add(Flatten())\n",
    "model_without_augmentation.add(Dense(256, activation='relu'))\n",
    "model_without_augmentation.add(Dropout(0.5))\n",
    "model_without_augmentation.add(Dense(num_classes, activation='softmax'))"
   ]
  },
  {
   "cell_type": "markdown",
   "metadata": {},
   "source": [
    "### Compiling the model"
   ]
  },
  {
   "cell_type": "code",
   "execution_count": 68,
   "metadata": {},
   "outputs": [],
   "source": [
    "model_without_augmentation.compile(loss='categorical_crossentropy', optimizer='rmsprop', metrics=[\"accuracy\"])"
   ]
  },
  {
   "cell_type": "markdown",
   "metadata": {},
   "source": [
    "### Model Summary"
   ]
  },
  {
   "cell_type": "code",
   "execution_count": 69,
   "metadata": {},
   "outputs": [
    {
     "name": "stdout",
     "output_type": "stream",
     "text": [
      "_________________________________________________________________\n",
      "Layer (type)                 Output Shape              Param #   \n",
      "=================================================================\n",
      "conv2d_9 (Conv2D)            (None, 299, 299, 32)      416       \n",
      "_________________________________________________________________\n",
      "conv2d_10 (Conv2D)           (None, 298, 298, 32)      4128      \n",
      "_________________________________________________________________\n",
      "max_pooling2d_5 (MaxPooling2 (None, 149, 149, 32)      0         \n",
      "_________________________________________________________________\n",
      "dropout_6 (Dropout)          (None, 149, 149, 32)      0         \n",
      "_________________________________________________________________\n",
      "conv2d_11 (Conv2D)           (None, 148, 148, 64)      8256      \n",
      "_________________________________________________________________\n",
      "conv2d_12 (Conv2D)           (None, 147, 147, 64)      16448     \n",
      "_________________________________________________________________\n",
      "max_pooling2d_6 (MaxPooling2 (None, 73, 73, 64)        0         \n",
      "_________________________________________________________________\n",
      "dropout_7 (Dropout)          (None, 73, 73, 64)        0         \n",
      "_________________________________________________________________\n",
      "conv2d_13 (Conv2D)           (None, 72, 72, 128)       32896     \n",
      "_________________________________________________________________\n",
      "conv2d_14 (Conv2D)           (None, 71, 71, 128)       65664     \n",
      "_________________________________________________________________\n",
      "max_pooling2d_7 (MaxPooling2 (None, 35, 35, 128)       0         \n",
      "_________________________________________________________________\n",
      "dropout_8 (Dropout)          (None, 35, 35, 128)       0         \n",
      "_________________________________________________________________\n",
      "conv2d_15 (Conv2D)           (None, 34, 34, 256)       131328    \n",
      "_________________________________________________________________\n",
      "conv2d_16 (Conv2D)           (None, 33, 33, 256)       262400    \n",
      "_________________________________________________________________\n",
      "max_pooling2d_8 (MaxPooling2 (None, 16, 16, 256)       0         \n",
      "_________________________________________________________________\n",
      "dropout_9 (Dropout)          (None, 16, 16, 256)       0         \n",
      "_________________________________________________________________\n",
      "flatten_2 (Flatten)          (None, 65536)             0         \n",
      "_________________________________________________________________\n",
      "dense_3 (Dense)              (None, 256)               16777472  \n",
      "_________________________________________________________________\n",
      "dropout_10 (Dropout)         (None, 256)               0         \n",
      "_________________________________________________________________\n",
      "dense_4 (Dense)              (None, 10)                2570      \n",
      "=================================================================\n",
      "Total params: 17,301,578\n",
      "Trainable params: 17,301,578\n",
      "Non-trainable params: 0\n",
      "_________________________________________________________________\n"
     ]
    }
   ],
   "source": [
    "model_without_augmentation.summary()"
   ]
  },
  {
   "cell_type": "code",
   "execution_count": 70,
   "metadata": {},
   "outputs": [
    {
     "data": {
      "text/plain": [
       "{'name': 'sequential_2',\n",
       " 'layers': [{'class_name': 'Conv2D',\n",
       "   'config': {'name': 'conv2d_9',\n",
       "    'trainable': True,\n",
       "    'batch_input_shape': (None, 300, 300, 3),\n",
       "    'dtype': 'float32',\n",
       "    'filters': 32,\n",
       "    'kernel_size': (2, 2),\n",
       "    'strides': (1, 1),\n",
       "    'padding': 'valid',\n",
       "    'data_format': 'channels_last',\n",
       "    'dilation_rate': (1, 1),\n",
       "    'activation': 'relu',\n",
       "    'use_bias': True,\n",
       "    'kernel_initializer': {'class_name': 'VarianceScaling',\n",
       "     'config': {'scale': 1.0,\n",
       "      'mode': 'fan_avg',\n",
       "      'distribution': 'uniform',\n",
       "      'seed': None}},\n",
       "    'bias_initializer': {'class_name': 'Zeros', 'config': {}},\n",
       "    'kernel_regularizer': None,\n",
       "    'bias_regularizer': None,\n",
       "    'activity_regularizer': None,\n",
       "    'kernel_constraint': None,\n",
       "    'bias_constraint': None}},\n",
       "  {'class_name': 'Conv2D',\n",
       "   'config': {'name': 'conv2d_10',\n",
       "    'trainable': True,\n",
       "    'filters': 32,\n",
       "    'kernel_size': (2, 2),\n",
       "    'strides': (1, 1),\n",
       "    'padding': 'valid',\n",
       "    'data_format': 'channels_last',\n",
       "    'dilation_rate': (1, 1),\n",
       "    'activation': 'relu',\n",
       "    'use_bias': True,\n",
       "    'kernel_initializer': {'class_name': 'VarianceScaling',\n",
       "     'config': {'scale': 1.0,\n",
       "      'mode': 'fan_avg',\n",
       "      'distribution': 'uniform',\n",
       "      'seed': None}},\n",
       "    'bias_initializer': {'class_name': 'Zeros', 'config': {}},\n",
       "    'kernel_regularizer': None,\n",
       "    'bias_regularizer': None,\n",
       "    'activity_regularizer': None,\n",
       "    'kernel_constraint': None,\n",
       "    'bias_constraint': None}},\n",
       "  {'class_name': 'MaxPooling2D',\n",
       "   'config': {'name': 'max_pooling2d_5',\n",
       "    'trainable': True,\n",
       "    'pool_size': (2, 2),\n",
       "    'padding': 'valid',\n",
       "    'strides': (2, 2),\n",
       "    'data_format': 'channels_last'}},\n",
       "  {'class_name': 'Dropout',\n",
       "   'config': {'name': 'dropout_6',\n",
       "    'trainable': True,\n",
       "    'rate': 0.5,\n",
       "    'noise_shape': None,\n",
       "    'seed': None}},\n",
       "  {'class_name': 'Conv2D',\n",
       "   'config': {'name': 'conv2d_11',\n",
       "    'trainable': True,\n",
       "    'filters': 64,\n",
       "    'kernel_size': (2, 2),\n",
       "    'strides': (1, 1),\n",
       "    'padding': 'valid',\n",
       "    'data_format': 'channels_last',\n",
       "    'dilation_rate': (1, 1),\n",
       "    'activation': 'relu',\n",
       "    'use_bias': True,\n",
       "    'kernel_initializer': {'class_name': 'VarianceScaling',\n",
       "     'config': {'scale': 1.0,\n",
       "      'mode': 'fan_avg',\n",
       "      'distribution': 'uniform',\n",
       "      'seed': None}},\n",
       "    'bias_initializer': {'class_name': 'Zeros', 'config': {}},\n",
       "    'kernel_regularizer': None,\n",
       "    'bias_regularizer': None,\n",
       "    'activity_regularizer': None,\n",
       "    'kernel_constraint': None,\n",
       "    'bias_constraint': None}},\n",
       "  {'class_name': 'Conv2D',\n",
       "   'config': {'name': 'conv2d_12',\n",
       "    'trainable': True,\n",
       "    'filters': 64,\n",
       "    'kernel_size': (2, 2),\n",
       "    'strides': (1, 1),\n",
       "    'padding': 'valid',\n",
       "    'data_format': 'channels_last',\n",
       "    'dilation_rate': (1, 1),\n",
       "    'activation': 'relu',\n",
       "    'use_bias': True,\n",
       "    'kernel_initializer': {'class_name': 'VarianceScaling',\n",
       "     'config': {'scale': 1.0,\n",
       "      'mode': 'fan_avg',\n",
       "      'distribution': 'uniform',\n",
       "      'seed': None}},\n",
       "    'bias_initializer': {'class_name': 'Zeros', 'config': {}},\n",
       "    'kernel_regularizer': None,\n",
       "    'bias_regularizer': None,\n",
       "    'activity_regularizer': None,\n",
       "    'kernel_constraint': None,\n",
       "    'bias_constraint': None}},\n",
       "  {'class_name': 'MaxPooling2D',\n",
       "   'config': {'name': 'max_pooling2d_6',\n",
       "    'trainable': True,\n",
       "    'pool_size': (2, 2),\n",
       "    'padding': 'valid',\n",
       "    'strides': (2, 2),\n",
       "    'data_format': 'channels_last'}},\n",
       "  {'class_name': 'Dropout',\n",
       "   'config': {'name': 'dropout_7',\n",
       "    'trainable': True,\n",
       "    'rate': 0.5,\n",
       "    'noise_shape': None,\n",
       "    'seed': None}},\n",
       "  {'class_name': 'Conv2D',\n",
       "   'config': {'name': 'conv2d_13',\n",
       "    'trainable': True,\n",
       "    'filters': 128,\n",
       "    'kernel_size': (2, 2),\n",
       "    'strides': (1, 1),\n",
       "    'padding': 'valid',\n",
       "    'data_format': 'channels_last',\n",
       "    'dilation_rate': (1, 1),\n",
       "    'activation': 'relu',\n",
       "    'use_bias': True,\n",
       "    'kernel_initializer': {'class_name': 'VarianceScaling',\n",
       "     'config': {'scale': 1.0,\n",
       "      'mode': 'fan_avg',\n",
       "      'distribution': 'uniform',\n",
       "      'seed': None}},\n",
       "    'bias_initializer': {'class_name': 'Zeros', 'config': {}},\n",
       "    'kernel_regularizer': None,\n",
       "    'bias_regularizer': None,\n",
       "    'activity_regularizer': None,\n",
       "    'kernel_constraint': None,\n",
       "    'bias_constraint': None}},\n",
       "  {'class_name': 'Conv2D',\n",
       "   'config': {'name': 'conv2d_14',\n",
       "    'trainable': True,\n",
       "    'filters': 128,\n",
       "    'kernel_size': (2, 2),\n",
       "    'strides': (1, 1),\n",
       "    'padding': 'valid',\n",
       "    'data_format': 'channels_last',\n",
       "    'dilation_rate': (1, 1),\n",
       "    'activation': 'relu',\n",
       "    'use_bias': True,\n",
       "    'kernel_initializer': {'class_name': 'VarianceScaling',\n",
       "     'config': {'scale': 1.0,\n",
       "      'mode': 'fan_avg',\n",
       "      'distribution': 'uniform',\n",
       "      'seed': None}},\n",
       "    'bias_initializer': {'class_name': 'Zeros', 'config': {}},\n",
       "    'kernel_regularizer': None,\n",
       "    'bias_regularizer': None,\n",
       "    'activity_regularizer': None,\n",
       "    'kernel_constraint': None,\n",
       "    'bias_constraint': None}},\n",
       "  {'class_name': 'MaxPooling2D',\n",
       "   'config': {'name': 'max_pooling2d_7',\n",
       "    'trainable': True,\n",
       "    'pool_size': (2, 2),\n",
       "    'padding': 'valid',\n",
       "    'strides': (2, 2),\n",
       "    'data_format': 'channels_last'}},\n",
       "  {'class_name': 'Dropout',\n",
       "   'config': {'name': 'dropout_8',\n",
       "    'trainable': True,\n",
       "    'rate': 0.5,\n",
       "    'noise_shape': None,\n",
       "    'seed': None}},\n",
       "  {'class_name': 'Conv2D',\n",
       "   'config': {'name': 'conv2d_15',\n",
       "    'trainable': True,\n",
       "    'filters': 256,\n",
       "    'kernel_size': (2, 2),\n",
       "    'strides': (1, 1),\n",
       "    'padding': 'valid',\n",
       "    'data_format': 'channels_last',\n",
       "    'dilation_rate': (1, 1),\n",
       "    'activation': 'relu',\n",
       "    'use_bias': True,\n",
       "    'kernel_initializer': {'class_name': 'VarianceScaling',\n",
       "     'config': {'scale': 1.0,\n",
       "      'mode': 'fan_avg',\n",
       "      'distribution': 'uniform',\n",
       "      'seed': None}},\n",
       "    'bias_initializer': {'class_name': 'Zeros', 'config': {}},\n",
       "    'kernel_regularizer': None,\n",
       "    'bias_regularizer': None,\n",
       "    'activity_regularizer': None,\n",
       "    'kernel_constraint': None,\n",
       "    'bias_constraint': None}},\n",
       "  {'class_name': 'Conv2D',\n",
       "   'config': {'name': 'conv2d_16',\n",
       "    'trainable': True,\n",
       "    'filters': 256,\n",
       "    'kernel_size': (2, 2),\n",
       "    'strides': (1, 1),\n",
       "    'padding': 'valid',\n",
       "    'data_format': 'channels_last',\n",
       "    'dilation_rate': (1, 1),\n",
       "    'activation': 'relu',\n",
       "    'use_bias': True,\n",
       "    'kernel_initializer': {'class_name': 'VarianceScaling',\n",
       "     'config': {'scale': 1.0,\n",
       "      'mode': 'fan_avg',\n",
       "      'distribution': 'uniform',\n",
       "      'seed': None}},\n",
       "    'bias_initializer': {'class_name': 'Zeros', 'config': {}},\n",
       "    'kernel_regularizer': None,\n",
       "    'bias_regularizer': None,\n",
       "    'activity_regularizer': None,\n",
       "    'kernel_constraint': None,\n",
       "    'bias_constraint': None}},\n",
       "  {'class_name': 'MaxPooling2D',\n",
       "   'config': {'name': 'max_pooling2d_8',\n",
       "    'trainable': True,\n",
       "    'pool_size': (2, 2),\n",
       "    'padding': 'valid',\n",
       "    'strides': (2, 2),\n",
       "    'data_format': 'channels_last'}},\n",
       "  {'class_name': 'Dropout',\n",
       "   'config': {'name': 'dropout_9',\n",
       "    'trainable': True,\n",
       "    'rate': 0.5,\n",
       "    'noise_shape': None,\n",
       "    'seed': None}},\n",
       "  {'class_name': 'Flatten',\n",
       "   'config': {'name': 'flatten_2',\n",
       "    'trainable': True,\n",
       "    'data_format': 'channels_last'}},\n",
       "  {'class_name': 'Dense',\n",
       "   'config': {'name': 'dense_3',\n",
       "    'trainable': True,\n",
       "    'units': 256,\n",
       "    'activation': 'relu',\n",
       "    'use_bias': True,\n",
       "    'kernel_initializer': {'class_name': 'VarianceScaling',\n",
       "     'config': {'scale': 1.0,\n",
       "      'mode': 'fan_avg',\n",
       "      'distribution': 'uniform',\n",
       "      'seed': None}},\n",
       "    'bias_initializer': {'class_name': 'Zeros', 'config': {}},\n",
       "    'kernel_regularizer': None,\n",
       "    'bias_regularizer': None,\n",
       "    'activity_regularizer': None,\n",
       "    'kernel_constraint': None,\n",
       "    'bias_constraint': None}},\n",
       "  {'class_name': 'Dropout',\n",
       "   'config': {'name': 'dropout_10',\n",
       "    'trainable': True,\n",
       "    'rate': 0.5,\n",
       "    'noise_shape': None,\n",
       "    'seed': None}},\n",
       "  {'class_name': 'Dense',\n",
       "   'config': {'name': 'dense_4',\n",
       "    'trainable': True,\n",
       "    'units': 10,\n",
       "    'activation': 'softmax',\n",
       "    'use_bias': True,\n",
       "    'kernel_initializer': {'class_name': 'VarianceScaling',\n",
       "     'config': {'scale': 1.0,\n",
       "      'mode': 'fan_avg',\n",
       "      'distribution': 'uniform',\n",
       "      'seed': None}},\n",
       "    'bias_initializer': {'class_name': 'Zeros', 'config': {}},\n",
       "    'kernel_regularizer': None,\n",
       "    'bias_regularizer': None,\n",
       "    'activity_regularizer': None,\n",
       "    'kernel_constraint': None,\n",
       "    'bias_constraint': None}}]}"
      ]
     },
     "execution_count": 70,
     "metadata": {},
     "output_type": "execute_result"
    }
   ],
   "source": [
    "model_without_augmentation.get_config()"
   ]
  },
  {
   "cell_type": "code",
   "execution_count": 71,
   "metadata": {},
   "outputs": [
    {
     "data": {
      "text/plain": [
       "{'name': 'conv2d_9',\n",
       " 'trainable': True,\n",
       " 'batch_input_shape': (None, 300, 300, 3),\n",
       " 'dtype': 'float32',\n",
       " 'filters': 32,\n",
       " 'kernel_size': (2, 2),\n",
       " 'strides': (1, 1),\n",
       " 'padding': 'valid',\n",
       " 'data_format': 'channels_last',\n",
       " 'dilation_rate': (1, 1),\n",
       " 'activation': 'relu',\n",
       " 'use_bias': True,\n",
       " 'kernel_initializer': {'class_name': 'VarianceScaling',\n",
       "  'config': {'scale': 1.0,\n",
       "   'mode': 'fan_avg',\n",
       "   'distribution': 'uniform',\n",
       "   'seed': None}},\n",
       " 'bias_initializer': {'class_name': 'Zeros', 'config': {}},\n",
       " 'kernel_regularizer': None,\n",
       " 'bias_regularizer': None,\n",
       " 'activity_regularizer': None,\n",
       " 'kernel_constraint': None,\n",
       " 'bias_constraint': None}"
      ]
     },
     "execution_count": 71,
     "metadata": {},
     "output_type": "execute_result"
    }
   ],
   "source": [
    "model_without_augmentation.layers[0].get_config()"
   ]
  },
  {
   "cell_type": "code",
   "execution_count": 72,
   "metadata": {},
   "outputs": [
    {
     "data": {
      "text/plain": [
       "[<keras.layers.convolutional.Conv2D at 0x221bbe704a8>,\n",
       " <keras.layers.convolutional.Conv2D at 0x221bbe70518>,\n",
       " <keras.layers.pooling.MaxPooling2D at 0x221bbe70710>,\n",
       " <keras.layers.core.Dropout at 0x221bbe88c88>,\n",
       " <keras.layers.convolutional.Conv2D at 0x221bbe708d0>,\n",
       " <keras.layers.convolutional.Conv2D at 0x221bbe889b0>,\n",
       " <keras.layers.pooling.MaxPooling2D at 0x221bbeceb70>,\n",
       " <keras.layers.core.Dropout at 0x222abb68390>,\n",
       " <keras.layers.convolutional.Conv2D at 0x222abb687f0>,\n",
       " <keras.layers.convolutional.Conv2D at 0x222abb681d0>,\n",
       " <keras.layers.pooling.MaxPooling2D at 0x221bbe904a8>,\n",
       " <keras.layers.core.Dropout at 0x222abbd5b70>,\n",
       " <keras.layers.convolutional.Conv2D at 0x222abbd5f28>,\n",
       " <keras.layers.convolutional.Conv2D at 0x222abbd55f8>,\n",
       " <keras.layers.pooling.MaxPooling2D at 0x222abc09dd8>,\n",
       " <keras.layers.core.Dropout at 0x222abc5fd30>,\n",
       " <keras.layers.core.Flatten at 0x222abc79f28>,\n",
       " <keras.layers.core.Dense at 0x222abc5f6a0>,\n",
       " <keras.layers.core.Dropout at 0x222abc8f518>,\n",
       " <keras.layers.core.Dense at 0x222abcee438>]"
      ]
     },
     "execution_count": 72,
     "metadata": {},
     "output_type": "execute_result"
    }
   ],
   "source": [
    "model_without_augmentation.layers"
   ]
  },
  {
   "cell_type": "code",
   "execution_count": 73,
   "metadata": {},
   "outputs": [
    {
     "data": {
      "text/plain": [
       "[<tf.Variable 'conv2d_9/kernel:0' shape=(2, 2, 3, 32) dtype=float32_ref>,\n",
       " <tf.Variable 'conv2d_9/bias:0' shape=(32,) dtype=float32_ref>,\n",
       " <tf.Variable 'conv2d_10/kernel:0' shape=(2, 2, 32, 32) dtype=float32_ref>,\n",
       " <tf.Variable 'conv2d_10/bias:0' shape=(32,) dtype=float32_ref>,\n",
       " <tf.Variable 'conv2d_11/kernel:0' shape=(2, 2, 32, 64) dtype=float32_ref>,\n",
       " <tf.Variable 'conv2d_11/bias:0' shape=(64,) dtype=float32_ref>,\n",
       " <tf.Variable 'conv2d_12/kernel:0' shape=(2, 2, 64, 64) dtype=float32_ref>,\n",
       " <tf.Variable 'conv2d_12/bias:0' shape=(64,) dtype=float32_ref>,\n",
       " <tf.Variable 'conv2d_13/kernel:0' shape=(2, 2, 64, 128) dtype=float32_ref>,\n",
       " <tf.Variable 'conv2d_13/bias:0' shape=(128,) dtype=float32_ref>,\n",
       " <tf.Variable 'conv2d_14/kernel:0' shape=(2, 2, 128, 128) dtype=float32_ref>,\n",
       " <tf.Variable 'conv2d_14/bias:0' shape=(128,) dtype=float32_ref>,\n",
       " <tf.Variable 'conv2d_15/kernel:0' shape=(2, 2, 128, 256) dtype=float32_ref>,\n",
       " <tf.Variable 'conv2d_15/bias:0' shape=(256,) dtype=float32_ref>,\n",
       " <tf.Variable 'conv2d_16/kernel:0' shape=(2, 2, 256, 256) dtype=float32_ref>,\n",
       " <tf.Variable 'conv2d_16/bias:0' shape=(256,) dtype=float32_ref>,\n",
       " <tf.Variable 'dense_3/kernel:0' shape=(65536, 256) dtype=float32_ref>,\n",
       " <tf.Variable 'dense_3/bias:0' shape=(256,) dtype=float32_ref>,\n",
       " <tf.Variable 'dense_4/kernel:0' shape=(256, 10) dtype=float32_ref>,\n",
       " <tf.Variable 'dense_4/bias:0' shape=(10,) dtype=float32_ref>]"
      ]
     },
     "execution_count": 73,
     "metadata": {},
     "output_type": "execute_result"
    }
   ],
   "source": [
    "model_without_augmentation.weights"
   ]
  },
  {
   "cell_type": "code",
   "execution_count": 74,
   "metadata": {},
   "outputs": [
    {
     "data": {
      "text/plain": [
       "[array([[[[ 0.05597378,  0.08270033, -0.19130701,  0.18103497,\n",
       "            0.0217277 ,  0.19240512,  0.16087823,  0.01111196,\n",
       "           -0.09873318,  0.01175864,  0.16114394,  0.02243528,\n",
       "           -0.03742471, -0.20510697, -0.05359644,  0.1384847 ,\n",
       "           -0.16788596,  0.02901481, -0.13130733,  0.16015334,\n",
       "           -0.04992485, -0.19933666, -0.06518777,  0.00418131,\n",
       "           -0.08779145, -0.18756044, -0.13579378, -0.03455636,\n",
       "            0.11150478,  0.12366886, -0.05686542, -0.04363944],\n",
       "          [-0.14506951, -0.07634227,  0.14257641, -0.07086608,\n",
       "           -0.18159507, -0.1701147 ,  0.15696116, -0.17163263,\n",
       "           -0.19672674,  0.15963109,  0.19665484,  0.01777773,\n",
       "           -0.09146709,  0.11065884,  0.15861364,  0.20298366,\n",
       "            0.14175205, -0.1646042 ,  0.12849797,  0.03832509,\n",
       "            0.19647582, -0.18811591,  0.10165577, -0.17093349,\n",
       "           -0.1545932 ,  0.10074   , -0.08499116,  0.05600591,\n",
       "            0.14255248, -0.07654078, -0.01550062, -0.07183392],\n",
       "          [-0.17099786,  0.01798023,  0.15307797,  0.09682171,\n",
       "           -0.05175053,  0.07731016,  0.17789523, -0.05731088,\n",
       "            0.06894948,  0.08012454, -0.14818859,  0.19167097,\n",
       "           -0.16716811, -0.09394103,  0.13830079,  0.12133725,\n",
       "           -0.10615509,  0.1062509 , -0.18980235, -0.0576279 ,\n",
       "           -0.04307474, -0.0724269 ,  0.11368294,  0.15703101,\n",
       "            0.01761524, -0.15616602, -0.15380675,  0.1273682 ,\n",
       "           -0.06058115,  0.07920672, -0.16352831,  0.10065611]],\n",
       " \n",
       "         [[ 0.07652031,  0.1544079 ,  0.17891033,  0.03991039,\n",
       "           -0.00052437, -0.0251103 ,  0.0495687 ,  0.08942319,\n",
       "           -0.08683505, -0.18299548,  0.18536218, -0.05691849,\n",
       "            0.00372845, -0.05550119, -0.00263326,  0.10343744,\n",
       "           -0.10624646,  0.08280833,  0.20597611, -0.04756576,\n",
       "            0.03106008, -0.0076533 ,  0.01627702,  0.06326856,\n",
       "           -0.18102993,  0.14562215, -0.12742065, -0.08278602,\n",
       "           -0.06345636,  0.1831523 ,  0.0450976 ,  0.03642206],\n",
       "          [-0.05591045,  0.11836116, -0.20282894, -0.11048862,\n",
       "            0.11322217, -0.12366663,  0.14262818,  0.0503348 ,\n",
       "           -0.0933636 ,  0.19477732,  0.14442824, -0.07224166,\n",
       "           -0.09700123,  0.02170701,  0.08600812,  0.03072958,\n",
       "           -0.13180792, -0.06741354, -0.16096573,  0.0312345 ,\n",
       "           -0.19914797,  0.03280817, -0.14263096,  0.11015753,\n",
       "           -0.1537984 , -0.20070983, -0.164458  ,  0.18083926,\n",
       "            0.15863101,  0.1321655 ,  0.1317247 , -0.06574471],\n",
       "          [ 0.20088588,  0.14582826,  0.06125255, -0.06677006,\n",
       "           -0.06213348,  0.05734868,  0.11804922,  0.11398928,\n",
       "            0.07326733, -0.13459525, -0.1605143 ,  0.14374693,\n",
       "            0.1519817 , -0.00816819, -0.1852216 ,  0.04507969,\n",
       "            0.20600344, -0.17573407, -0.18871205, -0.01727325,\n",
       "           -0.00599179,  0.17990433, -0.0131907 , -0.18936718,\n",
       "            0.05568381, -0.1337497 ,  0.13246857,  0.09727816,\n",
       "           -0.1145907 , -0.03536971,  0.18945937,  0.01534313]]],\n",
       " \n",
       " \n",
       "        [[[ 0.04097305, -0.10637099, -0.12870237, -0.10670232,\n",
       "           -0.03634323, -0.1630786 , -0.04984212, -0.161536  ,\n",
       "            0.10816903,  0.02653643,  0.09313686,  0.09301947,\n",
       "           -0.19322617, -0.11061177,  0.04600401, -0.08165213,\n",
       "           -0.17130825,  0.00979729, -0.08476229, -0.20429465,\n",
       "           -0.06907257, -0.07436576, -0.09723973,  0.03931163,\n",
       "            0.14592342,  0.05374767,  0.10491355, -0.1163158 ,\n",
       "           -0.10069805,  0.09091361,  0.19590537, -0.01403491],\n",
       "          [ 0.10509129,  0.0201022 , -0.00656709,  0.11612137,\n",
       "            0.17481686,  0.1328433 ,  0.02190755, -0.19199717,\n",
       "           -0.09959555, -0.01003233, -0.10364902,  0.05518968,\n",
       "            0.0919304 , -0.19567983, -0.11362454,  0.1736794 ,\n",
       "           -0.05653508, -0.1153665 , -0.15016016, -0.12516211,\n",
       "           -0.16407494, -0.1277705 , -0.02415478,  0.1081738 ,\n",
       "            0.08518843,  0.07088108,  0.20181505,  0.006585  ,\n",
       "           -0.03979781, -0.05864826,  0.06296803, -0.1486061 ],\n",
       "          [ 0.05165063,  0.1888539 , -0.02224387, -0.15676764,\n",
       "           -0.09174759,  0.16954784,  0.19684736, -0.16674384,\n",
       "            0.02145898,  0.16397943,  0.08602767, -0.06452771,\n",
       "            0.04061151,  0.14326121, -0.20107251,  0.18966345,\n",
       "            0.03589888,  0.19568188,  0.05062596,  0.18751897,\n",
       "            0.1972285 , -0.02132612, -0.00918041, -0.05398434,\n",
       "           -0.16233484, -0.18719313, -0.07263786, -0.10498828,\n",
       "            0.17232482,  0.14520614,  0.0720398 , -0.1899632 ]],\n",
       " \n",
       "         [[ 0.20223348, -0.18240932,  0.12420072, -0.07168491,\n",
       "           -0.0356088 , -0.17017856, -0.03933696, -0.15746348,\n",
       "           -0.15310931, -0.16448401,  0.10820372,  0.18866827,\n",
       "            0.18010156, -0.03943917,  0.1946802 ,  0.03412452,\n",
       "           -0.05971602, -0.03544676,  0.13347368, -0.15647164,\n",
       "            0.14668225, -0.00381206,  0.10910518,  0.07166789,\n",
       "            0.02528596,  0.12533318, -0.0823774 ,  0.12621747,\n",
       "            0.13948111, -0.14887737, -0.06009108, -0.2045184 ],\n",
       "          [ 0.05840562, -0.10898865,  0.2046899 ,  0.16914167,\n",
       "            0.07069407,  0.06059857,  0.02486637,  0.01239847,\n",
       "           -0.19531344,  0.01462217,  0.06311186,  0.06550632,\n",
       "            0.16116922, -0.18311378,  0.00776559, -0.19985555,\n",
       "           -0.16496816,  0.01082589,  0.18059222,  0.18427019,\n",
       "           -0.00612801, -0.0492408 ,  0.12096219,  0.15134718,\n",
       "           -0.20654988,  0.20698674,  0.02130984, -0.05212006,\n",
       "           -0.06837896, -0.14386578, -0.17707962, -0.13608843],\n",
       "          [-0.20061976,  0.02750725,  0.15536614, -0.06091841,\n",
       "            0.04324557,  0.05673923,  0.04661416, -0.11187842,\n",
       "           -0.05791007, -0.17528304, -0.0360318 ,  0.12288152,\n",
       "            0.02569306, -0.06081125, -0.03080994,  0.19357489,\n",
       "            0.06111254,  0.16902967, -0.06611341,  0.01901886,\n",
       "           -0.05152546,  0.206957  ,  0.17238598,  0.05821134,\n",
       "           -0.06288964,  0.01855959, -0.00801894,  0.16312955,\n",
       "            0.20417477,  0.11736603,  0.07222031, -0.10943346]]]],\n",
       "       dtype=float32),\n",
       " array([0., 0., 0., 0., 0., 0., 0., 0., 0., 0., 0., 0., 0., 0., 0., 0., 0.,\n",
       "        0., 0., 0., 0., 0., 0., 0., 0., 0., 0., 0., 0., 0., 0., 0.],\n",
       "       dtype=float32)]"
      ]
     },
     "execution_count": 74,
     "metadata": {},
     "output_type": "execute_result"
    }
   ],
   "source": [
    "model_without_augmentation.layers[0].get_weights()"
   ]
  },
  {
   "cell_type": "code",
   "execution_count": 75,
   "metadata": {},
   "outputs": [
    {
     "name": "stdout",
     "output_type": "stream",
     "text": [
      "<class 'list'>\n",
      "2\n",
      "<class 'numpy.ndarray'>\n",
      "(2, 2, 3, 32)\n",
      "<class 'numpy.ndarray'>\n",
      "(32,)\n"
     ]
    }
   ],
   "source": [
    "# For layer 0, checking the filter (get_weights()[0]) and bias (get_weights()[0]))\n",
    "\n",
    "print(type(model_without_augmentation.layers[0].get_weights()))\n",
    "\n",
    "print(len(model_without_augmentation.layers[0].get_weights()))\n",
    "\n",
    "print(type(model_without_augmentation.layers[0].get_weights()[0]))\n",
    "\n",
    "print(model_without_augmentation.layers[0].get_weights()[0].shape)\n",
    "\n",
    "print(type(model_without_augmentation.layers[0].get_weights()[1]))\n",
    "\n",
    "print(model_without_augmentation.layers[0].get_weights()[1].shape)"
   ]
  },
  {
   "cell_type": "code",
   "execution_count": 76,
   "metadata": {},
   "outputs": [
    {
     "data": {
      "text/plain": [
       "(None, 300, 300, 3)"
      ]
     },
     "execution_count": 76,
     "metadata": {},
     "output_type": "execute_result"
    }
   ],
   "source": [
    "#Checking input shape for layer 0\n",
    "\n",
    "model_without_augmentation.layers[0].input_shape"
   ]
  },
  {
   "cell_type": "code",
   "execution_count": 77,
   "metadata": {},
   "outputs": [
    {
     "data": {
      "text/plain": [
       "(None, 299, 299, 32)"
      ]
     },
     "execution_count": 77,
     "metadata": {},
     "output_type": "execute_result"
    }
   ],
   "source": [
    "#Checking output shape for layer 0\n",
    "\n",
    "model_without_augmentation.layers[0].output_shape"
   ]
  },
  {
   "cell_type": "code",
   "execution_count": 78,
   "metadata": {},
   "outputs": [
    {
     "data": {
      "text/plain": [
       "True"
      ]
     },
     "execution_count": 78,
     "metadata": {},
     "output_type": "execute_result"
    }
   ],
   "source": [
    "model_without_augmentation.layers[0].trainable"
   ]
  },
  {
   "cell_type": "markdown",
   "metadata": {},
   "source": [
    "### Approach2: Training/fitting the model without augmentation"
   ]
  },
  {
   "cell_type": "code",
   "execution_count": 79,
   "metadata": {},
   "outputs": [],
   "source": [
    "num_epoch = 1\n",
    "batch_size = 32\n",
    "\n",
    "# hist = model_without_augmentation.fit(X_train, y_train, batch_size = batch_size, \n",
    "#                  epochs = num_epoch, verbose = 1, \n",
    "#                  validation_data = (X_test, y_test))\n",
    "# # Total number of epoch = 15"
   ]
  },
  {
   "cell_type": "markdown",
   "metadata": {},
   "source": [
    "#### Saving and loading model and weights"
   ]
  },
  {
   "cell_type": "code",
   "execution_count": 80,
   "metadata": {},
   "outputs": [],
   "source": [
    "#model_without_augmentation.save('model_without_augmentation_V1.hdf5')\n",
    "#model_without_augmentation_15_epochs = keras.models.load_model('model_without_augmentation_V1.hdf5')"
   ]
  },
  {
   "cell_type": "code",
   "execution_count": 81,
   "metadata": {},
   "outputs": [],
   "source": [
    "#model_without_augmentation.save('model_without_augmentation_V2.hdf5')\n",
    "model_without_augmentation_16_epochs = keras.models.load_model('model_without_augmentation_V2.hdf5')"
   ]
  },
  {
   "cell_type": "markdown",
   "metadata": {},
   "source": [
    "### Approach2: Evaluating the model"
   ]
  },
  {
   "cell_type": "code",
   "execution_count": 82,
   "metadata": {},
   "outputs": [],
   "source": [
    "# #loaded_model_augmentation_copy\n",
    "# #num_epoch = 10\n",
    "# batch_size_wo_aug = 32\n",
    "\n",
    "# score_without_augmentation = model_without_augmentation_15_epochs.evaluate(X_test, y_test, batch_size=batch_size_wo_aug)\n",
    "\n",
    "# print('Test Loss:', score_without_augmentation[0])\n",
    "# print('Test Accuracy:', score_without_augmentation[1])"
   ]
  },
  {
   "cell_type": "code",
   "execution_count": 83,
   "metadata": {},
   "outputs": [
    {
     "name": "stdout",
     "output_type": "stream",
     "text": [
      "745/745 [==============================] - 5s 7ms/step\n",
      "Test Loss: 0.5930968964259896\n",
      "Test Accuracy: 0.8348993289390666\n"
     ]
    }
   ],
   "source": [
    "#loaded_model_augmentation_copy\n",
    "#num_epoch = 10\n",
    "batch_size_wo_aug = 32\n",
    "\n",
    "score_without_augmentation = model_without_augmentation_16_epochs.evaluate(X_test, y_test, batch_size=batch_size_wo_aug)\n",
    "\n",
    "print('Test Loss:', score_without_augmentation[0])\n",
    "print('Test Accuracy:', score_without_augmentation[1])"
   ]
  },
  {
   "cell_type": "code",
   "execution_count": 84,
   "metadata": {
    "scrolled": true
   },
   "outputs": [
    {
     "name": "stdout",
     "output_type": "stream",
     "text": [
      "(1, 300, 300, 3)\n"
     ]
    }
   ],
   "source": [
    "test_image_wo_aug = X_test[0:1]\n",
    "print (test_image_wo_aug.shape)"
   ]
  },
  {
   "cell_type": "code",
   "execution_count": 85,
   "metadata": {},
   "outputs": [
    {
     "name": "stdout",
     "output_type": "stream",
     "text": [
      "[[1.44567423e-07 1.12599926e-04 4.76738296e-06 7.30551106e-11\n",
      "  1.16827963e-04 6.02427761e-08 9.52838036e-06 2.75178929e-04\n",
      "  2.65845854e-04 9.99215007e-01]]\n",
      "[9]\n",
      "[[0. 0. 0. 0. 0. 0. 0. 0. 0. 1.]]\n"
     ]
    }
   ],
   "source": [
    "print(model_without_augmentation_16_epochs.predict(test_image_wo_aug))\n",
    "print(model_without_augmentation_16_epochs.predict_classes(test_image_wo_aug))\n",
    "print(y_test[0:1])"
   ]
  },
  {
   "cell_type": "markdown",
   "metadata": {},
   "source": [
    "### Approach2: Predict and compute the confusion matrix"
   ]
  },
  {
   "cell_type": "code",
   "execution_count": 86,
   "metadata": {},
   "outputs": [
    {
     "name": "stdout",
     "output_type": "stream",
     "text": [
      "[[1.4456742e-07 1.1259982e-04 4.7673966e-06 ... 2.7517919e-04\n",
      "  2.6584585e-04 9.9921501e-01]\n",
      " [9.8393439e-06 3.2678051e-03 3.0634372e-05 ... 2.3150661e-04\n",
      "  9.7985327e-01 1.6570099e-02]\n",
      " [9.9868566e-01 8.8935536e-05 3.9720530e-07 ... 1.1792540e-03\n",
      "  8.4127498e-07 1.3961659e-07]\n",
      " ...\n",
      " [9.6588959e-09 1.9726602e-03 7.0673245e-06 ... 3.0545116e-04\n",
      "  1.6819090e-06 1.1222236e-06]\n",
      " [1.8546119e-04 5.1752027e-06 2.2509077e-09 ... 1.2843721e-05\n",
      "  5.2417265e-10 1.6792757e-06]\n",
      " [3.0685840e-08 7.7340178e-07 5.2590160e-10 ... 6.2453279e-11\n",
      "  6.1961209e-08 7.6763048e-05]]\n"
     ]
    }
   ],
   "source": [
    "#from sklearn.metrics import confusion_matrix\n",
    "\n",
    "Y_pred_wo_aug = model_without_augmentation_16_epochs.predict(X_test)\n",
    "print(Y_pred_wo_aug)"
   ]
  },
  {
   "cell_type": "code",
   "execution_count": 87,
   "metadata": {},
   "outputs": [
    {
     "name": "stdout",
     "output_type": "stream",
     "text": [
      "[9 8 0 0 9 2 0 5 8 8 7 7 0 0 4 7 8 0 8 5 4 4 7 7 5 7 1 0 1 5 5 7 5 7 4 7 5\n",
      " 4 1 3 1 8 8 7 6 4 0 4 4 1 0 5 7 3 7 8 9 0 0 8 1 5 0 4 8 4 5 5 5 1 9 8 7 4\n",
      " 2 1 8 3 1 8 0 0 4 0 8 8 5 0 8 0 1 4 5 4 0 5 1 4 8 6 8 0 1 0 8 7 5 4 8 5 5\n",
      " 0 5 8 8 4 8 5 8 0 9 8 7 9 2 0 5 5 4 4 7 4 3 8 3 8 8 8 8 8 0 4 0 8 0 0 7 4\n",
      " 8 0 7 0 5 0 5 5 5 0 5 1 5 3 8 4 5 8 4 1 0 4 0 0 8 1 4 5 5 8 3 8 1 5 1 7 0\n",
      " 0 8 8 7 9 0 3 8 0 0 3 0 5 8 4 0 7 4 8 3 8 8 0 8 4 8 4 6 3 1 7 8 7 5 2 4 7\n",
      " 7 0 8 7 8 4 5 5 0 4 0 0 5 7 4 0 8 0 4 0 7 8 9 2 8 2 0 1 1 7 9 1 0 1 0 0 8\n",
      " 8 0 2 3 0 0 0 9 0 8 4 7 7 8 4 8 4 5 7 0 8 6 5 3 4 8 5 5 0 0 8 8 5 7 8 8 6\n",
      " 5 8 0 0 7 0 7 8 0 7 1 0 8 7 8 0 0 7 1 9 7 8 0 5 8 2 1 0 1 1 0 7 0 3 0 0 7\n",
      " 3 4 9 8 8 7 0 5 0 4 4 0 4 4 6 1 9 4 0 8 0 5 4 8 0 0 0 8 8 0 8 3 8 5 7 0 1\n",
      " 1 8 5 7 7 8 8 1 8 1 5 8 1 8 8 0 7 7 1 0 0 8 8 8 9 3 0 9 8 9 6 0 8 0 8 3 4\n",
      " 9 5 7 0 0 7 0 7 8 8 8 0 5 8 4 2 1 9 0 7 8 8 3 5 4 8 0 0 7 1 9 8 1 5 5 7 7\n",
      " 5 0 7 0 1 0 8 8 0 7 0 1 4 8 0 5 7 0 7 0 1 5 4 8 0 1 0 6 1 2 8 2 2 7 0 7 5\n",
      " 5 0 8 9 4 5 8 3 8 0 0 1 5 1 8 7 8 5 7 9 2 4 5 1 0 7 2 9 1 4 8 7 7 0 8 7 3\n",
      " 0 8 0 0 7 7 4 0 7 2 1 0 8 8 8 7 0 7 9 7 5 9 7 0 0 8 5 8 8 1 8 7 8 0 5 7 0\n",
      " 8 7 2 8 4 5 1 9 8 8 8 5 0 8 0 5 9 0 7 7 5 7 8 9 1 0 0 8 0 0 0 8 1 5 0 5 9\n",
      " 3 6 8 7 0 5 8 8 4 5 0 5 1 2 1 8 7 8 1 2 8 0 5 0 4 1 7 0 0 8 5 7 8 4 5 5 4\n",
      " 4 1 8 1 0 2 3 5 0 8 8 8 5 0 0 4 4 8 0 5 5 0 8 1 7 1 8 2 9 7 4 0 4 0 5 5 0\n",
      " 7 9 8 5 5 2 5 0 7 2 8 0 0 9 1 0 0 4 1 4 4 7 5 5 7 5 8 8 8 9 8 1 0 9 8 8 4\n",
      " 8 0 1 9 0 2 1 5 1 7 8 0 1 9 1 1 7 8 1 8 0 0 1 4 8 2 5 5 5 4 0 8 2 9 8 4 4\n",
      " 8 7 4 5 5]\n"
     ]
    }
   ],
   "source": [
    "y_pred_wo_aug = np.argmax(Y_pred_wo_aug, axis=1)\n",
    "print(y_pred_wo_aug)\n",
    "\n",
    "# Class description:\n",
    "# 0 = airplanes\n",
    "# 1 = BACKGROUND_Google\n",
    "# 2 = bonsai\n",
    "# 3 = car_side\n",
    "# 4 = Faces\n",
    "# 5 = Faces_easy\n",
    "# 6 = grand_piano\n",
    "# 7 = Leopards\n",
    "# 8 = Motorbikes\n",
    "# 9 = watch"
   ]
  },
  {
   "cell_type": "code",
   "execution_count": 88,
   "metadata": {},
   "outputs": [
    {
     "name": "stdout",
     "output_type": "stream",
     "text": [
      "[[149   2   0   0   0   0   0  18   2   0]\n",
      " [  3  53  11   3   1   0   2  10   4   3]\n",
      " [  1   4   7   1   0   0   1   7   0   0]\n",
      " [  0   0   0  19   0   0   0   3   1   0]\n",
      " [  2   7   0   0  73   3   0   7   0   0]\n",
      " [  0   0   1   0   0  94   0   0   0   1]\n",
      " [  1   0   3   0   0   0   6   2   0   0]\n",
      " [  0   0   0   0   0   0   0  40   0   0]\n",
      " [  0   1   2   0   0   0   0   0 149   0]\n",
      " [  3   3   1   0   0   0   0   5   4  32]]\n"
     ]
    }
   ],
   "source": [
    "print(confusion_matrix(np.argmax(y_test, axis=1), y_pred_wo_aug))"
   ]
  },
  {
   "cell_type": "markdown",
   "metadata": {},
   "source": [
    "## Approach2: Prediction on unseen image"
   ]
  },
  {
   "cell_type": "code",
   "execution_count": 89,
   "metadata": {},
   "outputs": [],
   "source": [
    "\n",
    "\n",
    "# UNSEEN_DATA_PATH = os.path.join(PATH, 'useen_image')\n",
    "\n",
    "# #print(UNSEEN_DATA_PATH)\n",
    "\n",
    "# unseen_data_dir_list = os.listdir(UNSEEN_DATA_PATH)\n",
    "\n",
    "# if '.DS_Store' in data_dir_list :\n",
    "#     data_dir_list.remove('.DS_Store')\n",
    "    \n",
    "# print(unseen_data_dir_list)\n",
    "\n",
    "# unseen_img_data_list=[]\n",
    "# unseen_img_classes_names_list=[]\n",
    "\n",
    "# for dataset in unseen_data_dir_list:\n",
    "    \n",
    "#     unseen_img_classes_names_list.append(dataset) \n",
    "    \n",
    "#     print ('Loading images from {} folder\\n'.format(dataset)) \n",
    "    \n",
    "#     unseen_img_list = os.listdir(UNSEEN_DATA_PATH+'/'+ dataset)\n",
    "    \n",
    "#     for img in unseen_img_list:\n",
    "#         unseen_input_img = cv2.imread(UNSEEN_DATA_PATH + '/'+ dataset + '/'+ img )\n",
    "#         unseen_input_img_resize = cv2.resize(unseen_input_img,(img_rows, img_cols))            \n",
    "#         unseen_img_data_list.append(unseen_input_img_resize) \n",
    "\n",
    "# unseen_num_classes = len(unseen_img_classes_names_list)\n",
    "# print(unseen_num_classes)\n",
    "\n"
   ]
  },
  {
   "cell_type": "markdown",
   "metadata": {},
   "source": [
    "## Approach2: Unseen Image preprocessiong"
   ]
  },
  {
   "cell_type": "code",
   "execution_count": 90,
   "metadata": {},
   "outputs": [],
   "source": [
    "# unseen_img_data = np.array(unseen_img_data_list)\n",
    "# unseen_img_data = unseen_img_data.astype('float16')\n",
    "# unseen_img_data /= 255\n",
    "\n",
    "# print(unseen_img_data.shape)\n",
    "\n",
    "# unseen_num_of_samples = unseen_img_data.shape[0]\n",
    "# print(unseen_num_of_samples)\n",
    "\n",
    "# unseen_input_shape = unseen_img_data[0].shape\n",
    "# print(unseen_input_shape)\n",
    "\n",
    "# X_unseen = unseen_img_data\n",
    "\n"
   ]
  },
  {
   "cell_type": "code",
   "execution_count": 91,
   "metadata": {},
   "outputs": [
    {
     "name": "stdout",
     "output_type": "stream",
     "text": [
      "[[5.62765035e-06 2.43111640e-01 1.67283579e-04 3.19196224e-05\n",
      "  3.68486726e-05 1.01399342e-08 6.76532928e-03 1.49181066e-03\n",
      "  1.03218846e-01 6.45170689e-01]]\n",
      "Class:\n",
      "[9]\n"
     ]
    }
   ],
   "source": [
    "Y_pred_unseen_wo_aug = model_without_augmentation_16_epochs.predict(X_unseen)\n",
    "print(Y_pred_unseen_wo_aug)\n",
    "\n",
    "y_pred_unseen_wo_aug = np.argmax(Y_pred_unseen_wo_aug, axis=1)\n",
    "print(\"Class:\")\n",
    "print(y_pred_unseen_wo_aug)"
   ]
  },
  {
   "cell_type": "markdown",
   "metadata": {},
   "source": [
    "## Approach3: Transfer learning using VGG Architecture"
   ]
  },
  {
   "cell_type": "code",
   "execution_count": 92,
   "metadata": {},
   "outputs": [],
   "source": [
    "from keras.layers import Input, Dense"
   ]
  },
  {
   "cell_type": "code",
   "execution_count": 93,
   "metadata": {},
   "outputs": [],
   "source": [
    "# Custom_vgg_model_1\n",
    "\n",
    "#Training the classifier alone\n",
    "num_channel = 3\n",
    "img_rows_vgg = 224\n",
    "img_cols_vgg = 224\n",
    "\n",
    "image_input = Input(shape=(img_rows_vgg, img_cols_vgg, num_channel))"
   ]
  },
  {
   "cell_type": "code",
   "execution_count": 94,
   "metadata": {},
   "outputs": [],
   "source": [
    "from keras.applications.vgg16 import VGG16\n",
    "\n",
    "model_VGG = VGG16(input_tensor=image_input, include_top=True, weights='imagenet')"
   ]
  },
  {
   "cell_type": "code",
   "execution_count": 95,
   "metadata": {},
   "outputs": [
    {
     "name": "stdout",
     "output_type": "stream",
     "text": [
      "_________________________________________________________________\n",
      "Layer (type)                 Output Shape              Param #   \n",
      "=================================================================\n",
      "input_1 (InputLayer)         (None, 224, 224, 3)       0         \n",
      "_________________________________________________________________\n",
      "block1_conv1 (Conv2D)        (None, 224, 224, 64)      1792      \n",
      "_________________________________________________________________\n",
      "block1_conv2 (Conv2D)        (None, 224, 224, 64)      36928     \n",
      "_________________________________________________________________\n",
      "block1_pool (MaxPooling2D)   (None, 112, 112, 64)      0         \n",
      "_________________________________________________________________\n",
      "block2_conv1 (Conv2D)        (None, 112, 112, 128)     73856     \n",
      "_________________________________________________________________\n",
      "block2_conv2 (Conv2D)        (None, 112, 112, 128)     147584    \n",
      "_________________________________________________________________\n",
      "block2_pool (MaxPooling2D)   (None, 56, 56, 128)       0         \n",
      "_________________________________________________________________\n",
      "block3_conv1 (Conv2D)        (None, 56, 56, 256)       295168    \n",
      "_________________________________________________________________\n",
      "block3_conv2 (Conv2D)        (None, 56, 56, 256)       590080    \n",
      "_________________________________________________________________\n",
      "block3_conv3 (Conv2D)        (None, 56, 56, 256)       590080    \n",
      "_________________________________________________________________\n",
      "block3_pool (MaxPooling2D)   (None, 28, 28, 256)       0         \n",
      "_________________________________________________________________\n",
      "block4_conv1 (Conv2D)        (None, 28, 28, 512)       1180160   \n",
      "_________________________________________________________________\n",
      "block4_conv2 (Conv2D)        (None, 28, 28, 512)       2359808   \n",
      "_________________________________________________________________\n",
      "block4_conv3 (Conv2D)        (None, 28, 28, 512)       2359808   \n",
      "_________________________________________________________________\n",
      "block4_pool (MaxPooling2D)   (None, 14, 14, 512)       0         \n",
      "_________________________________________________________________\n",
      "block5_conv1 (Conv2D)        (None, 14, 14, 512)       2359808   \n",
      "_________________________________________________________________\n",
      "block5_conv2 (Conv2D)        (None, 14, 14, 512)       2359808   \n",
      "_________________________________________________________________\n",
      "block5_conv3 (Conv2D)        (None, 14, 14, 512)       2359808   \n",
      "_________________________________________________________________\n",
      "block5_pool (MaxPooling2D)   (None, 7, 7, 512)         0         \n",
      "_________________________________________________________________\n",
      "flatten (Flatten)            (None, 25088)             0         \n",
      "_________________________________________________________________\n",
      "fc1 (Dense)                  (None, 4096)              102764544 \n",
      "_________________________________________________________________\n",
      "fc2 (Dense)                  (None, 4096)              16781312  \n",
      "_________________________________________________________________\n",
      "predictions (Dense)          (None, 1000)              4097000   \n",
      "=================================================================\n",
      "Total params: 138,357,544\n",
      "Trainable params: 138,357,544\n",
      "Non-trainable params: 0\n",
      "_________________________________________________________________\n"
     ]
    }
   ],
   "source": [
    "model_VGG.summary()"
   ]
  },
  {
   "cell_type": "code",
   "execution_count": 96,
   "metadata": {},
   "outputs": [],
   "source": [
    "last_layer_VGG = model_VGG.get_layer('fc2').output\n",
    "out_VGG = Dense(num_classes, activation='softmax', name='output')(last_layer_VGG)"
   ]
  },
  {
   "cell_type": "code",
   "execution_count": 97,
   "metadata": {},
   "outputs": [
    {
     "name": "stdout",
     "output_type": "stream",
     "text": [
      "_________________________________________________________________\n",
      "Layer (type)                 Output Shape              Param #   \n",
      "=================================================================\n",
      "input_1 (InputLayer)         (None, 224, 224, 3)       0         \n",
      "_________________________________________________________________\n",
      "block1_conv1 (Conv2D)        (None, 224, 224, 64)      1792      \n",
      "_________________________________________________________________\n",
      "block1_conv2 (Conv2D)        (None, 224, 224, 64)      36928     \n",
      "_________________________________________________________________\n",
      "block1_pool (MaxPooling2D)   (None, 112, 112, 64)      0         \n",
      "_________________________________________________________________\n",
      "block2_conv1 (Conv2D)        (None, 112, 112, 128)     73856     \n",
      "_________________________________________________________________\n",
      "block2_conv2 (Conv2D)        (None, 112, 112, 128)     147584    \n",
      "_________________________________________________________________\n",
      "block2_pool (MaxPooling2D)   (None, 56, 56, 128)       0         \n",
      "_________________________________________________________________\n",
      "block3_conv1 (Conv2D)        (None, 56, 56, 256)       295168    \n",
      "_________________________________________________________________\n",
      "block3_conv2 (Conv2D)        (None, 56, 56, 256)       590080    \n",
      "_________________________________________________________________\n",
      "block3_conv3 (Conv2D)        (None, 56, 56, 256)       590080    \n",
      "_________________________________________________________________\n",
      "block3_pool (MaxPooling2D)   (None, 28, 28, 256)       0         \n",
      "_________________________________________________________________\n",
      "block4_conv1 (Conv2D)        (None, 28, 28, 512)       1180160   \n",
      "_________________________________________________________________\n",
      "block4_conv2 (Conv2D)        (None, 28, 28, 512)       2359808   \n",
      "_________________________________________________________________\n",
      "block4_conv3 (Conv2D)        (None, 28, 28, 512)       2359808   \n",
      "_________________________________________________________________\n",
      "block4_pool (MaxPooling2D)   (None, 14, 14, 512)       0         \n",
      "_________________________________________________________________\n",
      "block5_conv1 (Conv2D)        (None, 14, 14, 512)       2359808   \n",
      "_________________________________________________________________\n",
      "block5_conv2 (Conv2D)        (None, 14, 14, 512)       2359808   \n",
      "_________________________________________________________________\n",
      "block5_conv3 (Conv2D)        (None, 14, 14, 512)       2359808   \n",
      "_________________________________________________________________\n",
      "block5_pool (MaxPooling2D)   (None, 7, 7, 512)         0         \n",
      "_________________________________________________________________\n",
      "flatten (Flatten)            (None, 25088)             0         \n",
      "_________________________________________________________________\n",
      "fc1 (Dense)                  (None, 4096)              102764544 \n",
      "_________________________________________________________________\n",
      "fc2 (Dense)                  (None, 4096)              16781312  \n",
      "_________________________________________________________________\n",
      "output (Dense)               (None, 10)                40970     \n",
      "=================================================================\n",
      "Total params: 134,301,514\n",
      "Trainable params: 134,301,514\n",
      "Non-trainable params: 0\n",
      "_________________________________________________________________\n"
     ]
    }
   ],
   "source": [
    "from keras.models import Model\n",
    "\n",
    "custom_vgg_model = Model(image_input, out_VGG)\n",
    "custom_vgg_model.summary()"
   ]
  },
  {
   "cell_type": "code",
   "execution_count": 98,
   "metadata": {},
   "outputs": [],
   "source": [
    "for layer in custom_vgg_model.layers[:-1]:\n",
    "    layer.trainable = False"
   ]
  },
  {
   "cell_type": "code",
   "execution_count": 99,
   "metadata": {},
   "outputs": [],
   "source": [
    "custom_vgg_model.compile(loss='categorical_crossentropy', optimizer='rmsprop', metrics=['accuracy'])"
   ]
  },
  {
   "cell_type": "code",
   "execution_count": 100,
   "metadata": {},
   "outputs": [
    {
     "name": "stdout",
     "output_type": "stream",
     "text": [
      "Loading images from airplanes folder\n",
      "\n",
      "Loading images from BACKGROUND_Google folder\n",
      "\n",
      "Loading images from bonsai folder\n",
      "\n",
      "Loading images from car_side folder\n",
      "\n",
      "Loading images from Faces folder\n",
      "\n",
      "Loading images from Faces_easy folder\n",
      "\n",
      "Loading images from grand_piano folder\n",
      "\n",
      "Loading images from Leopards folder\n",
      "\n",
      "Loading images from Motorbikes folder\n",
      "\n",
      "Loading images from watch folder\n",
      "\n"
     ]
    }
   ],
   "source": [
    "img_rows=224\n",
    "img_cols=224\n",
    "\n",
    "img_data_list=[]\n",
    "classes_names_list=[]\n",
    "\n",
    "for dataset in data_dir_list:\n",
    "    \n",
    "    classes_names_list.append(dataset) \n",
    "    \n",
    "    print ('Loading images from {} folder\\n'.format(dataset)) \n",
    "    \n",
    "    img_list = os.listdir(DATA_PATH+'/'+ dataset)\n",
    "    \n",
    "    for img in img_list:\n",
    "        input_img = cv2.imread(DATA_PATH + '/'+ dataset + '/'+ img )\n",
    "        input_img_resize = cv2.resize(input_img,(img_rows, img_cols))            \n",
    "        img_data_list.append(input_img_resize)"
   ]
  },
  {
   "cell_type": "markdown",
   "metadata": {},
   "source": [
    "### Approach3: Getting the number of classes"
   ]
  },
  {
   "cell_type": "code",
   "execution_count": 101,
   "metadata": {},
   "outputs": [
    {
     "name": "stdout",
     "output_type": "stream",
     "text": [
      "10\n"
     ]
    }
   ],
   "source": [
    "num_classes = len(classes_names_list)\n",
    "print(num_classes)"
   ]
  },
  {
   "cell_type": "markdown",
   "metadata": {},
   "source": [
    "### Approach3: Image preprocessiong"
   ]
  },
  {
   "cell_type": "code",
   "execution_count": 102,
   "metadata": {},
   "outputs": [],
   "source": [
    "import numpy as np\n",
    "\n",
    "img_data = np.array(img_data_list)\n",
    "img_data = img_data.astype('float16')\n",
    "img_data /= 255              ############### 0-255, i.e., 2**8 = 256 possibilities is the rance for each individual colour. \n",
    "                             ############### By dividing by 255, we get values in the 0.0-1.0 range (normalization) \n",
    "                             ############### NN or deep learning required scaled or normalized data\n"
   ]
  },
  {
   "cell_type": "code",
   "execution_count": 103,
   "metadata": {
    "scrolled": true
   },
   "outputs": [
    {
     "name": "stdout",
     "output_type": "stream",
     "text": [
      "(3725, 224, 224, 3)\n"
     ]
    }
   ],
   "source": [
    "print (img_data.shape)"
   ]
  },
  {
   "cell_type": "code",
   "execution_count": 104,
   "metadata": {},
   "outputs": [
    {
     "name": "stdout",
     "output_type": "stream",
     "text": [
      "3725\n"
     ]
    }
   ],
   "source": [
    "num_of_samples = img_data.shape[0]\n",
    "print(num_of_samples)"
   ]
  },
  {
   "cell_type": "code",
   "execution_count": 105,
   "metadata": {},
   "outputs": [
    {
     "name": "stdout",
     "output_type": "stream",
     "text": [
      "(224, 224, 3)\n"
     ]
    }
   ],
   "source": [
    "input_shape = img_data[0].shape\n",
    "print(input_shape)"
   ]
  },
  {
   "cell_type": "code",
   "execution_count": 106,
   "metadata": {},
   "outputs": [
    {
     "name": "stdout",
     "output_type": "stream",
     "text": [
      "[0 0 0 ... 9 9 9]\n"
     ]
    }
   ],
   "source": [
    "classes = np.ones((num_of_samples,), dtype='int64')\n",
    "\n",
    "classes[0:800]=0\n",
    "classes[800:1268]=1\n",
    "classes[1268:1396]=2\n",
    "classes[1396:1519]=3\n",
    "classes[1519:1954]=4\n",
    "classes[1954:2389]=5\n",
    "classes[2389:2488]=6\n",
    "classes[2488:2688]=7\n",
    "classes[2688:3486]=8\n",
    "classes[3468:]=9\n",
    "\n",
    "print(classes)"
   ]
  },
  {
   "cell_type": "markdown",
   "metadata": {},
   "source": [
    "### Approach3: Converting class labels to numberic using on-hot encoding"
   ]
  },
  {
   "cell_type": "code",
   "execution_count": 107,
   "metadata": {},
   "outputs": [
    {
     "name": "stdout",
     "output_type": "stream",
     "text": [
      "[[1. 0. 0. ... 0. 0. 0.]\n",
      " [1. 0. 0. ... 0. 0. 0.]\n",
      " [1. 0. 0. ... 0. 0. 0.]\n",
      " ...\n",
      " [0. 0. 0. ... 0. 0. 1.]\n",
      " [0. 0. 0. ... 0. 0. 1.]\n",
      " [0. 0. 0. ... 0. 0. 1.]]\n"
     ]
    }
   ],
   "source": [
    "from keras.utils import to_categorical\n",
    "\n",
    "classes = to_categorical(classes, num_classes)\n",
    "\n",
    "print(classes)"
   ]
  },
  {
   "cell_type": "markdown",
   "metadata": {},
   "source": [
    "### Approach3: Shuffling the dataset"
   ]
  },
  {
   "cell_type": "code",
   "execution_count": 108,
   "metadata": {},
   "outputs": [],
   "source": [
    "from sklearn.utils import shuffle\n",
    "\n",
    "X, Y = shuffle(img_data, classes, random_state=2)"
   ]
  },
  {
   "cell_type": "markdown",
   "metadata": {},
   "source": [
    "### Approach3: Splitting the dataset into train and test"
   ]
  },
  {
   "cell_type": "code",
   "execution_count": 109,
   "metadata": {},
   "outputs": [],
   "source": [
    "from sklearn.model_selection import train_test_split\n",
    "\n",
    "X_train, X_test, y_train, y_test = train_test_split(X, Y, test_size=0.2, random_state=2)"
   ]
  },
  {
   "cell_type": "code",
   "execution_count": 110,
   "metadata": {},
   "outputs": [
    {
     "data": {
      "text/plain": [
       "(2980, 224, 224, 3)"
      ]
     },
     "execution_count": 110,
     "metadata": {},
     "output_type": "execute_result"
    }
   ],
   "source": [
    "X_train.shape"
   ]
  },
  {
   "cell_type": "code",
   "execution_count": 111,
   "metadata": {},
   "outputs": [
    {
     "data": {
      "text/plain": [
       "(2980, 10)"
      ]
     },
     "execution_count": 111,
     "metadata": {},
     "output_type": "execute_result"
    }
   ],
   "source": [
    "y_train.shape"
   ]
  },
  {
   "cell_type": "code",
   "execution_count": 112,
   "metadata": {},
   "outputs": [
    {
     "data": {
      "text/plain": [
       "(745, 224, 224, 3)"
      ]
     },
     "execution_count": 112,
     "metadata": {},
     "output_type": "execute_result"
    }
   ],
   "source": [
    "X_test.shape"
   ]
  },
  {
   "cell_type": "code",
   "execution_count": 113,
   "metadata": {},
   "outputs": [
    {
     "data": {
      "text/plain": [
       "(745, 10)"
      ]
     },
     "execution_count": 113,
     "metadata": {},
     "output_type": "execute_result"
    }
   ],
   "source": [
    "y_test.shape"
   ]
  },
  {
   "cell_type": "code",
   "execution_count": 114,
   "metadata": {},
   "outputs": [],
   "source": [
    "del X,Y"
   ]
  },
  {
   "cell_type": "code",
   "execution_count": 115,
   "metadata": {},
   "outputs": [],
   "source": [
    "# custom_vgg_model.fit(X_train, y_train, batch_size=batch_size, epochs=2, verbose=1, \n",
    "#                      validation_data=(X_test, y_test))"
   ]
  },
  {
   "cell_type": "code",
   "execution_count": 116,
   "metadata": {},
   "outputs": [],
   "source": [
    "#custom_vgg_model.save('custom_vgg_model_V1.hdf5')\n",
    "custom_vgg_model_6_epochs = keras.models.load_model('custom_vgg_model_V1.hdf5')"
   ]
  },
  {
   "cell_type": "code",
   "execution_count": 117,
   "metadata": {},
   "outputs": [],
   "source": [
    "# custom_vgg_model_6_epochs.fit(X_train, y_train, batch_size=batch_size, epochs=2, verbose=1, \n",
    "#                      validation_data=(X_test, y_test))"
   ]
  },
  {
   "cell_type": "code",
   "execution_count": 118,
   "metadata": {},
   "outputs": [],
   "source": [
    "#custom_vgg_model_6_epochs.save('custom_vgg_model_V2.hdf5')\n",
    "custom_vgg_model_12_epochs = keras.models.load_model('custom_vgg_model_V2.hdf5')"
   ]
  },
  {
   "cell_type": "markdown",
   "metadata": {},
   "source": [
    "## Approach3: Prediction on unseen image"
   ]
  },
  {
   "cell_type": "code",
   "execution_count": 119,
   "metadata": {},
   "outputs": [
    {
     "name": "stdout",
     "output_type": "stream",
     "text": [
      "C:\\Work\\INSOFE\\Study Material\\CUTe\\CUTe4\\Image classification\\useen_image\n",
      "['test']\n",
      "Loading images from test folder\n",
      "\n"
     ]
    }
   ],
   "source": [
    "UNSEEN_DATA_PATH = os.path.join(PATH, 'useen_image')\n",
    "\n",
    "print(UNSEEN_DATA_PATH)\n",
    "\n",
    "unseen_data_dir_list = os.listdir(UNSEEN_DATA_PATH)\n",
    "\n",
    "if '.DS_Store' in data_dir_list :\n",
    "    data_dir_list.remove('.DS_Store')\n",
    "    \n",
    "print(unseen_data_dir_list)\n",
    "img_rows_vgg = 224\n",
    "img_cols_vgg = 224\n",
    "unseen_img_data_list_vgg=[]\n",
    "unseen_img_classes_names_list_vgg=[]\n",
    "\n",
    "for dataset in unseen_data_dir_list:\n",
    "    \n",
    "    unseen_img_classes_names_list_vgg.append(dataset) \n",
    "    \n",
    "    print ('Loading images from {} folder\\n'.format(dataset)) \n",
    "    \n",
    "    unseen_img_list_vgg = os.listdir(UNSEEN_DATA_PATH+'/'+ dataset)\n",
    "    \n",
    "    for img in unseen_img_list_vgg:\n",
    "        unseen_input_img_vgg = cv2.imread(UNSEEN_DATA_PATH + '/'+ dataset + '/'+ img )\n",
    "        unseen_input_img_resize_vgg = cv2.resize(unseen_input_img_vgg,(img_rows_vgg, img_cols_vgg))            \n",
    "        unseen_img_data_list_vgg.append(unseen_input_img_resize_vgg) \n"
   ]
  },
  {
   "cell_type": "code",
   "execution_count": 120,
   "metadata": {},
   "outputs": [
    {
     "name": "stdout",
     "output_type": "stream",
     "text": [
      "1\n"
     ]
    }
   ],
   "source": [
    "unseen_num_classes_vgg = len(unseen_img_classes_names_list_vgg)\n",
    "print(unseen_num_classes_vgg)"
   ]
  },
  {
   "cell_type": "markdown",
   "metadata": {},
   "source": [
    "## Approach3: Unseen Image preprocessiong"
   ]
  },
  {
   "cell_type": "code",
   "execution_count": 121,
   "metadata": {},
   "outputs": [],
   "source": [
    "unseen_img_data_vgg = np.array(unseen_img_data_list_vgg)\n",
    "unseen_img_data_vgg = unseen_img_data_vgg.astype('float16')\n",
    "unseen_img_data_vgg /= 255"
   ]
  },
  {
   "cell_type": "code",
   "execution_count": 122,
   "metadata": {},
   "outputs": [
    {
     "name": "stdout",
     "output_type": "stream",
     "text": [
      "(1, 224, 224, 3)\n"
     ]
    }
   ],
   "source": [
    "print(unseen_img_data_vgg.shape)"
   ]
  },
  {
   "cell_type": "code",
   "execution_count": 123,
   "metadata": {},
   "outputs": [
    {
     "name": "stdout",
     "output_type": "stream",
     "text": [
      "1\n"
     ]
    }
   ],
   "source": [
    "unseen_num_of_samples_vgg = unseen_img_data_vgg.shape[0]\n",
    "print(unseen_num_of_samples_vgg)"
   ]
  },
  {
   "cell_type": "code",
   "execution_count": 124,
   "metadata": {},
   "outputs": [
    {
     "name": "stdout",
     "output_type": "stream",
     "text": [
      "(224, 224, 3)\n"
     ]
    }
   ],
   "source": [
    "unseen_input_shape_vgg = unseen_img_data_vgg[0].shape\n",
    "print(unseen_input_shape_vgg)"
   ]
  },
  {
   "cell_type": "code",
   "execution_count": 125,
   "metadata": {},
   "outputs": [],
   "source": [
    "X_unseen = unseen_img_data_vgg"
   ]
  },
  {
   "cell_type": "code",
   "execution_count": 126,
   "metadata": {},
   "outputs": [],
   "source": [
    "custom_vgg_model_6_epochs = keras.models.load_model('custom_vgg_model_V1.hdf5')"
   ]
  },
  {
   "cell_type": "code",
   "execution_count": 127,
   "metadata": {},
   "outputs": [
    {
     "name": "stdout",
     "output_type": "stream",
     "text": [
      "[[8.4538562e-03 8.1938523e-01 1.2409748e-02 9.5577724e-09 1.0089910e-02\n",
      "  2.4711937e-03 5.4239383e-04 7.3763334e-07 1.2336677e-01 2.3280153e-02]]\n"
     ]
    }
   ],
   "source": [
    "Y_pred_unseen_vgg = custom_vgg_model_6_epochs.predict(X_unseen)\n",
    "print(Y_pred_unseen_vgg)"
   ]
  },
  {
   "cell_type": "code",
   "execution_count": 128,
   "metadata": {},
   "outputs": [
    {
     "name": "stdout",
     "output_type": "stream",
     "text": [
      "[[1.5328033e-05 9.9052715e-01 4.7544770e-05 5.4770674e-13 2.2283277e-07\n",
      "  1.3863541e-03 2.0910466e-06 1.2011618e-09 2.4271107e-03 5.5941734e-03]]\n"
     ]
    }
   ],
   "source": [
    "Y_pred_unseen_vgg_2 = custom_vgg_model_12_epochs.predict(X_unseen)\n",
    "print(Y_pred_unseen_vgg_2)"
   ]
  },
  {
   "cell_type": "code",
   "execution_count": 129,
   "metadata": {},
   "outputs": [
    {
     "name": "stdout",
     "output_type": "stream",
     "text": [
      "Class: \n",
      "[1]\n"
     ]
    }
   ],
   "source": [
    "y_pred_unseen_vgg = np.argmax(Y_pred_unseen_vgg, axis=1)\n",
    "print('Class: ')\n",
    "print(y_pred_unseen_vgg)"
   ]
  },
  {
   "cell_type": "code",
   "execution_count": 130,
   "metadata": {},
   "outputs": [
    {
     "name": "stdout",
     "output_type": "stream",
     "text": [
      "Class: \n",
      "[1]\n"
     ]
    }
   ],
   "source": [
    "y_pred_unseen_vgg_2 = np.argmax(Y_pred_unseen_vgg_2, axis=1)\n",
    "print('Class: ')\n",
    "print(y_pred_unseen_vgg_2)"
   ]
  },
  {
   "cell_type": "markdown",
   "metadata": {},
   "source": [
    "### Approach 4 Transfer learning using ResNet50 Architecture "
   ]
  },
  {
   "cell_type": "code",
   "execution_count": 131,
   "metadata": {},
   "outputs": [],
   "source": [
    "from keras.applications.resnet50 import ResNet50\n",
    "from keras.applications.resnet50 import preprocess_input\n",
    "from keras.applications.imagenet_utils import decode_predictions\n",
    "from keras.layers import Input, Dense"
   ]
  },
  {
   "cell_type": "code",
   "execution_count": 132,
   "metadata": {},
   "outputs": [],
   "source": [
    "num_channel = 3\n",
    "img_rows=300\n",
    "img_cols=300\n",
    "\n",
    "image_input = Input(shape=(img_rows, img_cols, num_channel))\n",
    "\n",
    "resnet = ResNet50(input_tensor=image_input, include_top=True, weights='imagenet')"
   ]
  },
  {
   "cell_type": "code",
   "execution_count": 133,
   "metadata": {},
   "outputs": [],
   "source": [
    "resnet = ResNet50(input_tensor=image_input, include_top=True, weights='imagenet')"
   ]
  },
  {
   "cell_type": "code",
   "execution_count": 134,
   "metadata": {},
   "outputs": [
    {
     "name": "stdout",
     "output_type": "stream",
     "text": [
      "__________________________________________________________________________________________________\n",
      "Layer (type)                    Output Shape         Param #     Connected to                     \n",
      "==================================================================================================\n",
      "input_2 (InputLayer)            (None, 300, 300, 3)  0                                            \n",
      "__________________________________________________________________________________________________\n",
      "conv1_pad (ZeroPadding2D)       (None, 306, 306, 3)  0           input_2[0][0]                    \n",
      "__________________________________________________________________________________________________\n",
      "conv1 (Conv2D)                  (None, 150, 150, 64) 9472        conv1_pad[0][0]                  \n",
      "__________________________________________________________________________________________________\n",
      "bn_conv1 (BatchNormalization)   (None, 150, 150, 64) 256         conv1[0][0]                      \n",
      "__________________________________________________________________________________________________\n",
      "activation_50 (Activation)      (None, 150, 150, 64) 0           bn_conv1[0][0]                   \n",
      "__________________________________________________________________________________________________\n",
      "pool1_pad (ZeroPadding2D)       (None, 152, 152, 64) 0           activation_50[0][0]              \n",
      "__________________________________________________________________________________________________\n",
      "max_pooling2d_10 (MaxPooling2D) (None, 75, 75, 64)   0           pool1_pad[0][0]                  \n",
      "__________________________________________________________________________________________________\n",
      "res2a_branch2a (Conv2D)         (None, 75, 75, 64)   4160        max_pooling2d_10[0][0]           \n",
      "__________________________________________________________________________________________________\n",
      "bn2a_branch2a (BatchNormalizati (None, 75, 75, 64)   256         res2a_branch2a[0][0]             \n",
      "__________________________________________________________________________________________________\n",
      "activation_51 (Activation)      (None, 75, 75, 64)   0           bn2a_branch2a[0][0]              \n",
      "__________________________________________________________________________________________________\n",
      "res2a_branch2b (Conv2D)         (None, 75, 75, 64)   36928       activation_51[0][0]              \n",
      "__________________________________________________________________________________________________\n",
      "bn2a_branch2b (BatchNormalizati (None, 75, 75, 64)   256         res2a_branch2b[0][0]             \n",
      "__________________________________________________________________________________________________\n",
      "activation_52 (Activation)      (None, 75, 75, 64)   0           bn2a_branch2b[0][0]              \n",
      "__________________________________________________________________________________________________\n",
      "res2a_branch2c (Conv2D)         (None, 75, 75, 256)  16640       activation_52[0][0]              \n",
      "__________________________________________________________________________________________________\n",
      "res2a_branch1 (Conv2D)          (None, 75, 75, 256)  16640       max_pooling2d_10[0][0]           \n",
      "__________________________________________________________________________________________________\n",
      "bn2a_branch2c (BatchNormalizati (None, 75, 75, 256)  1024        res2a_branch2c[0][0]             \n",
      "__________________________________________________________________________________________________\n",
      "bn2a_branch1 (BatchNormalizatio (None, 75, 75, 256)  1024        res2a_branch1[0][0]              \n",
      "__________________________________________________________________________________________________\n",
      "add_17 (Add)                    (None, 75, 75, 256)  0           bn2a_branch2c[0][0]              \n",
      "                                                                 bn2a_branch1[0][0]               \n",
      "__________________________________________________________________________________________________\n",
      "activation_53 (Activation)      (None, 75, 75, 256)  0           add_17[0][0]                     \n",
      "__________________________________________________________________________________________________\n",
      "res2b_branch2a (Conv2D)         (None, 75, 75, 64)   16448       activation_53[0][0]              \n",
      "__________________________________________________________________________________________________\n",
      "bn2b_branch2a (BatchNormalizati (None, 75, 75, 64)   256         res2b_branch2a[0][0]             \n",
      "__________________________________________________________________________________________________\n",
      "activation_54 (Activation)      (None, 75, 75, 64)   0           bn2b_branch2a[0][0]              \n",
      "__________________________________________________________________________________________________\n",
      "res2b_branch2b (Conv2D)         (None, 75, 75, 64)   36928       activation_54[0][0]              \n",
      "__________________________________________________________________________________________________\n",
      "bn2b_branch2b (BatchNormalizati (None, 75, 75, 64)   256         res2b_branch2b[0][0]             \n",
      "__________________________________________________________________________________________________\n",
      "activation_55 (Activation)      (None, 75, 75, 64)   0           bn2b_branch2b[0][0]              \n",
      "__________________________________________________________________________________________________\n",
      "res2b_branch2c (Conv2D)         (None, 75, 75, 256)  16640       activation_55[0][0]              \n",
      "__________________________________________________________________________________________________\n",
      "bn2b_branch2c (BatchNormalizati (None, 75, 75, 256)  1024        res2b_branch2c[0][0]             \n",
      "__________________________________________________________________________________________________\n",
      "add_18 (Add)                    (None, 75, 75, 256)  0           bn2b_branch2c[0][0]              \n",
      "                                                                 activation_53[0][0]              \n",
      "__________________________________________________________________________________________________\n",
      "activation_56 (Activation)      (None, 75, 75, 256)  0           add_18[0][0]                     \n",
      "__________________________________________________________________________________________________\n",
      "res2c_branch2a (Conv2D)         (None, 75, 75, 64)   16448       activation_56[0][0]              \n",
      "__________________________________________________________________________________________________\n",
      "bn2c_branch2a (BatchNormalizati (None, 75, 75, 64)   256         res2c_branch2a[0][0]             \n",
      "__________________________________________________________________________________________________\n",
      "activation_57 (Activation)      (None, 75, 75, 64)   0           bn2c_branch2a[0][0]              \n",
      "__________________________________________________________________________________________________\n",
      "res2c_branch2b (Conv2D)         (None, 75, 75, 64)   36928       activation_57[0][0]              \n",
      "__________________________________________________________________________________________________\n",
      "bn2c_branch2b (BatchNormalizati (None, 75, 75, 64)   256         res2c_branch2b[0][0]             \n",
      "__________________________________________________________________________________________________\n",
      "activation_58 (Activation)      (None, 75, 75, 64)   0           bn2c_branch2b[0][0]              \n",
      "__________________________________________________________________________________________________\n",
      "res2c_branch2c (Conv2D)         (None, 75, 75, 256)  16640       activation_58[0][0]              \n",
      "__________________________________________________________________________________________________\n",
      "bn2c_branch2c (BatchNormalizati (None, 75, 75, 256)  1024        res2c_branch2c[0][0]             \n",
      "__________________________________________________________________________________________________\n",
      "add_19 (Add)                    (None, 75, 75, 256)  0           bn2c_branch2c[0][0]              \n",
      "                                                                 activation_56[0][0]              \n",
      "__________________________________________________________________________________________________\n",
      "activation_59 (Activation)      (None, 75, 75, 256)  0           add_19[0][0]                     \n",
      "__________________________________________________________________________________________________\n",
      "res3a_branch2a (Conv2D)         (None, 38, 38, 128)  32896       activation_59[0][0]              \n",
      "__________________________________________________________________________________________________\n",
      "bn3a_branch2a (BatchNormalizati (None, 38, 38, 128)  512         res3a_branch2a[0][0]             \n",
      "__________________________________________________________________________________________________\n",
      "activation_60 (Activation)      (None, 38, 38, 128)  0           bn3a_branch2a[0][0]              \n",
      "__________________________________________________________________________________________________\n",
      "res3a_branch2b (Conv2D)         (None, 38, 38, 128)  147584      activation_60[0][0]              \n",
      "__________________________________________________________________________________________________\n",
      "bn3a_branch2b (BatchNormalizati (None, 38, 38, 128)  512         res3a_branch2b[0][0]             \n",
      "__________________________________________________________________________________________________\n",
      "activation_61 (Activation)      (None, 38, 38, 128)  0           bn3a_branch2b[0][0]              \n",
      "__________________________________________________________________________________________________\n",
      "res3a_branch2c (Conv2D)         (None, 38, 38, 512)  66048       activation_61[0][0]              \n",
      "__________________________________________________________________________________________________\n",
      "res3a_branch1 (Conv2D)          (None, 38, 38, 512)  131584      activation_59[0][0]              \n",
      "__________________________________________________________________________________________________\n",
      "bn3a_branch2c (BatchNormalizati (None, 38, 38, 512)  2048        res3a_branch2c[0][0]             \n",
      "__________________________________________________________________________________________________\n",
      "bn3a_branch1 (BatchNormalizatio (None, 38, 38, 512)  2048        res3a_branch1[0][0]              \n",
      "__________________________________________________________________________________________________\n",
      "add_20 (Add)                    (None, 38, 38, 512)  0           bn3a_branch2c[0][0]              \n",
      "                                                                 bn3a_branch1[0][0]               \n",
      "__________________________________________________________________________________________________\n",
      "activation_62 (Activation)      (None, 38, 38, 512)  0           add_20[0][0]                     \n",
      "__________________________________________________________________________________________________\n",
      "res3b_branch2a (Conv2D)         (None, 38, 38, 128)  65664       activation_62[0][0]              \n",
      "__________________________________________________________________________________________________\n",
      "bn3b_branch2a (BatchNormalizati (None, 38, 38, 128)  512         res3b_branch2a[0][0]             \n",
      "__________________________________________________________________________________________________\n",
      "activation_63 (Activation)      (None, 38, 38, 128)  0           bn3b_branch2a[0][0]              \n",
      "__________________________________________________________________________________________________\n",
      "res3b_branch2b (Conv2D)         (None, 38, 38, 128)  147584      activation_63[0][0]              \n",
      "__________________________________________________________________________________________________\n",
      "bn3b_branch2b (BatchNormalizati (None, 38, 38, 128)  512         res3b_branch2b[0][0]             \n",
      "__________________________________________________________________________________________________\n",
      "activation_64 (Activation)      (None, 38, 38, 128)  0           bn3b_branch2b[0][0]              \n",
      "__________________________________________________________________________________________________\n",
      "res3b_branch2c (Conv2D)         (None, 38, 38, 512)  66048       activation_64[0][0]              \n",
      "__________________________________________________________________________________________________\n",
      "bn3b_branch2c (BatchNormalizati (None, 38, 38, 512)  2048        res3b_branch2c[0][0]             \n",
      "__________________________________________________________________________________________________\n",
      "add_21 (Add)                    (None, 38, 38, 512)  0           bn3b_branch2c[0][0]              \n",
      "                                                                 activation_62[0][0]              \n",
      "__________________________________________________________________________________________________\n",
      "activation_65 (Activation)      (None, 38, 38, 512)  0           add_21[0][0]                     \n",
      "__________________________________________________________________________________________________\n",
      "res3c_branch2a (Conv2D)         (None, 38, 38, 128)  65664       activation_65[0][0]              \n",
      "__________________________________________________________________________________________________\n",
      "bn3c_branch2a (BatchNormalizati (None, 38, 38, 128)  512         res3c_branch2a[0][0]             \n",
      "__________________________________________________________________________________________________\n",
      "activation_66 (Activation)      (None, 38, 38, 128)  0           bn3c_branch2a[0][0]              \n",
      "__________________________________________________________________________________________________\n",
      "res3c_branch2b (Conv2D)         (None, 38, 38, 128)  147584      activation_66[0][0]              \n",
      "__________________________________________________________________________________________________\n",
      "bn3c_branch2b (BatchNormalizati (None, 38, 38, 128)  512         res3c_branch2b[0][0]             \n",
      "__________________________________________________________________________________________________\n",
      "activation_67 (Activation)      (None, 38, 38, 128)  0           bn3c_branch2b[0][0]              \n",
      "__________________________________________________________________________________________________\n",
      "res3c_branch2c (Conv2D)         (None, 38, 38, 512)  66048       activation_67[0][0]              \n",
      "__________________________________________________________________________________________________\n",
      "bn3c_branch2c (BatchNormalizati (None, 38, 38, 512)  2048        res3c_branch2c[0][0]             \n",
      "__________________________________________________________________________________________________\n",
      "add_22 (Add)                    (None, 38, 38, 512)  0           bn3c_branch2c[0][0]              \n",
      "                                                                 activation_65[0][0]              \n",
      "__________________________________________________________________________________________________\n",
      "activation_68 (Activation)      (None, 38, 38, 512)  0           add_22[0][0]                     \n",
      "__________________________________________________________________________________________________\n",
      "res3d_branch2a (Conv2D)         (None, 38, 38, 128)  65664       activation_68[0][0]              \n",
      "__________________________________________________________________________________________________\n",
      "bn3d_branch2a (BatchNormalizati (None, 38, 38, 128)  512         res3d_branch2a[0][0]             \n",
      "__________________________________________________________________________________________________\n",
      "activation_69 (Activation)      (None, 38, 38, 128)  0           bn3d_branch2a[0][0]              \n",
      "__________________________________________________________________________________________________\n",
      "res3d_branch2b (Conv2D)         (None, 38, 38, 128)  147584      activation_69[0][0]              \n",
      "__________________________________________________________________________________________________\n",
      "bn3d_branch2b (BatchNormalizati (None, 38, 38, 128)  512         res3d_branch2b[0][0]             \n",
      "__________________________________________________________________________________________________\n",
      "activation_70 (Activation)      (None, 38, 38, 128)  0           bn3d_branch2b[0][0]              \n",
      "__________________________________________________________________________________________________\n",
      "res3d_branch2c (Conv2D)         (None, 38, 38, 512)  66048       activation_70[0][0]              \n",
      "__________________________________________________________________________________________________\n",
      "bn3d_branch2c (BatchNormalizati (None, 38, 38, 512)  2048        res3d_branch2c[0][0]             \n",
      "__________________________________________________________________________________________________\n",
      "add_23 (Add)                    (None, 38, 38, 512)  0           bn3d_branch2c[0][0]              \n",
      "                                                                 activation_68[0][0]              \n",
      "__________________________________________________________________________________________________\n",
      "activation_71 (Activation)      (None, 38, 38, 512)  0           add_23[0][0]                     \n",
      "__________________________________________________________________________________________________\n",
      "res4a_branch2a (Conv2D)         (None, 19, 19, 256)  131328      activation_71[0][0]              \n",
      "__________________________________________________________________________________________________\n",
      "bn4a_branch2a (BatchNormalizati (None, 19, 19, 256)  1024        res4a_branch2a[0][0]             \n",
      "__________________________________________________________________________________________________\n",
      "activation_72 (Activation)      (None, 19, 19, 256)  0           bn4a_branch2a[0][0]              \n",
      "__________________________________________________________________________________________________\n",
      "res4a_branch2b (Conv2D)         (None, 19, 19, 256)  590080      activation_72[0][0]              \n",
      "__________________________________________________________________________________________________\n",
      "bn4a_branch2b (BatchNormalizati (None, 19, 19, 256)  1024        res4a_branch2b[0][0]             \n",
      "__________________________________________________________________________________________________\n",
      "activation_73 (Activation)      (None, 19, 19, 256)  0           bn4a_branch2b[0][0]              \n",
      "__________________________________________________________________________________________________\n",
      "res4a_branch2c (Conv2D)         (None, 19, 19, 1024) 263168      activation_73[0][0]              \n",
      "__________________________________________________________________________________________________\n",
      "res4a_branch1 (Conv2D)          (None, 19, 19, 1024) 525312      activation_71[0][0]              \n",
      "__________________________________________________________________________________________________\n",
      "bn4a_branch2c (BatchNormalizati (None, 19, 19, 1024) 4096        res4a_branch2c[0][0]             \n",
      "__________________________________________________________________________________________________\n",
      "bn4a_branch1 (BatchNormalizatio (None, 19, 19, 1024) 4096        res4a_branch1[0][0]              \n",
      "__________________________________________________________________________________________________\n",
      "add_24 (Add)                    (None, 19, 19, 1024) 0           bn4a_branch2c[0][0]              \n",
      "                                                                 bn4a_branch1[0][0]               \n",
      "__________________________________________________________________________________________________\n",
      "activation_74 (Activation)      (None, 19, 19, 1024) 0           add_24[0][0]                     \n",
      "__________________________________________________________________________________________________\n",
      "res4b_branch2a (Conv2D)         (None, 19, 19, 256)  262400      activation_74[0][0]              \n",
      "__________________________________________________________________________________________________\n",
      "bn4b_branch2a (BatchNormalizati (None, 19, 19, 256)  1024        res4b_branch2a[0][0]             \n",
      "__________________________________________________________________________________________________\n",
      "activation_75 (Activation)      (None, 19, 19, 256)  0           bn4b_branch2a[0][0]              \n",
      "__________________________________________________________________________________________________\n",
      "res4b_branch2b (Conv2D)         (None, 19, 19, 256)  590080      activation_75[0][0]              \n",
      "__________________________________________________________________________________________________\n",
      "bn4b_branch2b (BatchNormalizati (None, 19, 19, 256)  1024        res4b_branch2b[0][0]             \n",
      "__________________________________________________________________________________________________\n",
      "activation_76 (Activation)      (None, 19, 19, 256)  0           bn4b_branch2b[0][0]              \n",
      "__________________________________________________________________________________________________\n",
      "res4b_branch2c (Conv2D)         (None, 19, 19, 1024) 263168      activation_76[0][0]              \n",
      "__________________________________________________________________________________________________\n",
      "bn4b_branch2c (BatchNormalizati (None, 19, 19, 1024) 4096        res4b_branch2c[0][0]             \n",
      "__________________________________________________________________________________________________\n",
      "add_25 (Add)                    (None, 19, 19, 1024) 0           bn4b_branch2c[0][0]              \n",
      "                                                                 activation_74[0][0]              \n",
      "__________________________________________________________________________________________________\n",
      "activation_77 (Activation)      (None, 19, 19, 1024) 0           add_25[0][0]                     \n",
      "__________________________________________________________________________________________________\n",
      "res4c_branch2a (Conv2D)         (None, 19, 19, 256)  262400      activation_77[0][0]              \n",
      "__________________________________________________________________________________________________\n",
      "bn4c_branch2a (BatchNormalizati (None, 19, 19, 256)  1024        res4c_branch2a[0][0]             \n",
      "__________________________________________________________________________________________________\n",
      "activation_78 (Activation)      (None, 19, 19, 256)  0           bn4c_branch2a[0][0]              \n",
      "__________________________________________________________________________________________________\n",
      "res4c_branch2b (Conv2D)         (None, 19, 19, 256)  590080      activation_78[0][0]              \n",
      "__________________________________________________________________________________________________\n",
      "bn4c_branch2b (BatchNormalizati (None, 19, 19, 256)  1024        res4c_branch2b[0][0]             \n",
      "__________________________________________________________________________________________________\n",
      "activation_79 (Activation)      (None, 19, 19, 256)  0           bn4c_branch2b[0][0]              \n",
      "__________________________________________________________________________________________________\n",
      "res4c_branch2c (Conv2D)         (None, 19, 19, 1024) 263168      activation_79[0][0]              \n",
      "__________________________________________________________________________________________________\n",
      "bn4c_branch2c (BatchNormalizati (None, 19, 19, 1024) 4096        res4c_branch2c[0][0]             \n",
      "__________________________________________________________________________________________________\n",
      "add_26 (Add)                    (None, 19, 19, 1024) 0           bn4c_branch2c[0][0]              \n",
      "                                                                 activation_77[0][0]              \n",
      "__________________________________________________________________________________________________\n",
      "activation_80 (Activation)      (None, 19, 19, 1024) 0           add_26[0][0]                     \n",
      "__________________________________________________________________________________________________\n",
      "res4d_branch2a (Conv2D)         (None, 19, 19, 256)  262400      activation_80[0][0]              \n",
      "__________________________________________________________________________________________________\n",
      "bn4d_branch2a (BatchNormalizati (None, 19, 19, 256)  1024        res4d_branch2a[0][0]             \n",
      "__________________________________________________________________________________________________\n",
      "activation_81 (Activation)      (None, 19, 19, 256)  0           bn4d_branch2a[0][0]              \n",
      "__________________________________________________________________________________________________\n",
      "res4d_branch2b (Conv2D)         (None, 19, 19, 256)  590080      activation_81[0][0]              \n",
      "__________________________________________________________________________________________________\n",
      "bn4d_branch2b (BatchNormalizati (None, 19, 19, 256)  1024        res4d_branch2b[0][0]             \n",
      "__________________________________________________________________________________________________\n",
      "activation_82 (Activation)      (None, 19, 19, 256)  0           bn4d_branch2b[0][0]              \n",
      "__________________________________________________________________________________________________\n",
      "res4d_branch2c (Conv2D)         (None, 19, 19, 1024) 263168      activation_82[0][0]              \n",
      "__________________________________________________________________________________________________\n",
      "bn4d_branch2c (BatchNormalizati (None, 19, 19, 1024) 4096        res4d_branch2c[0][0]             \n",
      "__________________________________________________________________________________________________\n",
      "add_27 (Add)                    (None, 19, 19, 1024) 0           bn4d_branch2c[0][0]              \n",
      "                                                                 activation_80[0][0]              \n",
      "__________________________________________________________________________________________________\n",
      "activation_83 (Activation)      (None, 19, 19, 1024) 0           add_27[0][0]                     \n",
      "__________________________________________________________________________________________________\n",
      "res4e_branch2a (Conv2D)         (None, 19, 19, 256)  262400      activation_83[0][0]              \n",
      "__________________________________________________________________________________________________\n",
      "bn4e_branch2a (BatchNormalizati (None, 19, 19, 256)  1024        res4e_branch2a[0][0]             \n",
      "__________________________________________________________________________________________________\n",
      "activation_84 (Activation)      (None, 19, 19, 256)  0           bn4e_branch2a[0][0]              \n",
      "__________________________________________________________________________________________________\n",
      "res4e_branch2b (Conv2D)         (None, 19, 19, 256)  590080      activation_84[0][0]              \n",
      "__________________________________________________________________________________________________\n",
      "bn4e_branch2b (BatchNormalizati (None, 19, 19, 256)  1024        res4e_branch2b[0][0]             \n",
      "__________________________________________________________________________________________________\n",
      "activation_85 (Activation)      (None, 19, 19, 256)  0           bn4e_branch2b[0][0]              \n",
      "__________________________________________________________________________________________________\n",
      "res4e_branch2c (Conv2D)         (None, 19, 19, 1024) 263168      activation_85[0][0]              \n",
      "__________________________________________________________________________________________________\n",
      "bn4e_branch2c (BatchNormalizati (None, 19, 19, 1024) 4096        res4e_branch2c[0][0]             \n",
      "__________________________________________________________________________________________________\n",
      "add_28 (Add)                    (None, 19, 19, 1024) 0           bn4e_branch2c[0][0]              \n",
      "                                                                 activation_83[0][0]              \n",
      "__________________________________________________________________________________________________\n",
      "activation_86 (Activation)      (None, 19, 19, 1024) 0           add_28[0][0]                     \n",
      "__________________________________________________________________________________________________\n",
      "res4f_branch2a (Conv2D)         (None, 19, 19, 256)  262400      activation_86[0][0]              \n",
      "__________________________________________________________________________________________________\n",
      "bn4f_branch2a (BatchNormalizati (None, 19, 19, 256)  1024        res4f_branch2a[0][0]             \n",
      "__________________________________________________________________________________________________\n",
      "activation_87 (Activation)      (None, 19, 19, 256)  0           bn4f_branch2a[0][0]              \n",
      "__________________________________________________________________________________________________\n",
      "res4f_branch2b (Conv2D)         (None, 19, 19, 256)  590080      activation_87[0][0]              \n",
      "__________________________________________________________________________________________________\n",
      "bn4f_branch2b (BatchNormalizati (None, 19, 19, 256)  1024        res4f_branch2b[0][0]             \n",
      "__________________________________________________________________________________________________\n",
      "activation_88 (Activation)      (None, 19, 19, 256)  0           bn4f_branch2b[0][0]              \n",
      "__________________________________________________________________________________________________\n",
      "res4f_branch2c (Conv2D)         (None, 19, 19, 1024) 263168      activation_88[0][0]              \n",
      "__________________________________________________________________________________________________\n",
      "bn4f_branch2c (BatchNormalizati (None, 19, 19, 1024) 4096        res4f_branch2c[0][0]             \n",
      "__________________________________________________________________________________________________\n",
      "add_29 (Add)                    (None, 19, 19, 1024) 0           bn4f_branch2c[0][0]              \n",
      "                                                                 activation_86[0][0]              \n",
      "__________________________________________________________________________________________________\n",
      "activation_89 (Activation)      (None, 19, 19, 1024) 0           add_29[0][0]                     \n",
      "__________________________________________________________________________________________________\n",
      "res5a_branch2a (Conv2D)         (None, 10, 10, 512)  524800      activation_89[0][0]              \n",
      "__________________________________________________________________________________________________\n",
      "bn5a_branch2a (BatchNormalizati (None, 10, 10, 512)  2048        res5a_branch2a[0][0]             \n",
      "__________________________________________________________________________________________________\n",
      "activation_90 (Activation)      (None, 10, 10, 512)  0           bn5a_branch2a[0][0]              \n",
      "__________________________________________________________________________________________________\n",
      "res5a_branch2b (Conv2D)         (None, 10, 10, 512)  2359808     activation_90[0][0]              \n",
      "__________________________________________________________________________________________________\n",
      "bn5a_branch2b (BatchNormalizati (None, 10, 10, 512)  2048        res5a_branch2b[0][0]             \n",
      "__________________________________________________________________________________________________\n",
      "activation_91 (Activation)      (None, 10, 10, 512)  0           bn5a_branch2b[0][0]              \n",
      "__________________________________________________________________________________________________\n",
      "res5a_branch2c (Conv2D)         (None, 10, 10, 2048) 1050624     activation_91[0][0]              \n",
      "__________________________________________________________________________________________________\n",
      "res5a_branch1 (Conv2D)          (None, 10, 10, 2048) 2099200     activation_89[0][0]              \n",
      "__________________________________________________________________________________________________\n",
      "bn5a_branch2c (BatchNormalizati (None, 10, 10, 2048) 8192        res5a_branch2c[0][0]             \n",
      "__________________________________________________________________________________________________\n",
      "bn5a_branch1 (BatchNormalizatio (None, 10, 10, 2048) 8192        res5a_branch1[0][0]              \n",
      "__________________________________________________________________________________________________\n",
      "add_30 (Add)                    (None, 10, 10, 2048) 0           bn5a_branch2c[0][0]              \n",
      "                                                                 bn5a_branch1[0][0]               \n",
      "__________________________________________________________________________________________________\n",
      "activation_92 (Activation)      (None, 10, 10, 2048) 0           add_30[0][0]                     \n",
      "__________________________________________________________________________________________________\n",
      "res5b_branch2a (Conv2D)         (None, 10, 10, 512)  1049088     activation_92[0][0]              \n",
      "__________________________________________________________________________________________________\n",
      "bn5b_branch2a (BatchNormalizati (None, 10, 10, 512)  2048        res5b_branch2a[0][0]             \n",
      "__________________________________________________________________________________________________\n",
      "activation_93 (Activation)      (None, 10, 10, 512)  0           bn5b_branch2a[0][0]              \n",
      "__________________________________________________________________________________________________\n",
      "res5b_branch2b (Conv2D)         (None, 10, 10, 512)  2359808     activation_93[0][0]              \n",
      "__________________________________________________________________________________________________\n",
      "bn5b_branch2b (BatchNormalizati (None, 10, 10, 512)  2048        res5b_branch2b[0][0]             \n",
      "__________________________________________________________________________________________________\n",
      "activation_94 (Activation)      (None, 10, 10, 512)  0           bn5b_branch2b[0][0]              \n",
      "__________________________________________________________________________________________________\n",
      "res5b_branch2c (Conv2D)         (None, 10, 10, 2048) 1050624     activation_94[0][0]              \n",
      "__________________________________________________________________________________________________\n",
      "bn5b_branch2c (BatchNormalizati (None, 10, 10, 2048) 8192        res5b_branch2c[0][0]             \n",
      "__________________________________________________________________________________________________\n",
      "add_31 (Add)                    (None, 10, 10, 2048) 0           bn5b_branch2c[0][0]              \n",
      "                                                                 activation_92[0][0]              \n",
      "__________________________________________________________________________________________________\n",
      "activation_95 (Activation)      (None, 10, 10, 2048) 0           add_31[0][0]                     \n",
      "__________________________________________________________________________________________________\n",
      "res5c_branch2a (Conv2D)         (None, 10, 10, 512)  1049088     activation_95[0][0]              \n",
      "__________________________________________________________________________________________________\n",
      "bn5c_branch2a (BatchNormalizati (None, 10, 10, 512)  2048        res5c_branch2a[0][0]             \n",
      "__________________________________________________________________________________________________\n",
      "activation_96 (Activation)      (None, 10, 10, 512)  0           bn5c_branch2a[0][0]              \n",
      "__________________________________________________________________________________________________\n",
      "res5c_branch2b (Conv2D)         (None, 10, 10, 512)  2359808     activation_96[0][0]              \n",
      "__________________________________________________________________________________________________\n",
      "bn5c_branch2b (BatchNormalizati (None, 10, 10, 512)  2048        res5c_branch2b[0][0]             \n",
      "__________________________________________________________________________________________________\n",
      "activation_97 (Activation)      (None, 10, 10, 512)  0           bn5c_branch2b[0][0]              \n",
      "__________________________________________________________________________________________________\n",
      "res5c_branch2c (Conv2D)         (None, 10, 10, 2048) 1050624     activation_97[0][0]              \n",
      "__________________________________________________________________________________________________\n",
      "bn5c_branch2c (BatchNormalizati (None, 10, 10, 2048) 8192        res5c_branch2c[0][0]             \n",
      "__________________________________________________________________________________________________\n",
      "add_32 (Add)                    (None, 10, 10, 2048) 0           bn5c_branch2c[0][0]              \n",
      "                                                                 activation_95[0][0]              \n",
      "__________________________________________________________________________________________________\n",
      "activation_98 (Activation)      (None, 10, 10, 2048) 0           add_32[0][0]                     \n",
      "__________________________________________________________________________________________________\n",
      "avg_pool (GlobalAveragePooling2 (None, 2048)         0           activation_98[0][0]              \n",
      "__________________________________________________________________________________________________\n",
      "fc1000 (Dense)                  (None, 1000)         2049000     avg_pool[0][0]                   \n",
      "==================================================================================================\n",
      "Total params: 25,636,712\n",
      "Trainable params: 25,583,592\n",
      "Non-trainable params: 53,120\n",
      "__________________________________________________________________________________________________\n"
     ]
    }
   ],
   "source": [
    "resnet.summary()"
   ]
  },
  {
   "cell_type": "code",
   "execution_count": 135,
   "metadata": {},
   "outputs": [],
   "source": [
    "last_layer = resnet.get_layer('fc1000').output\n",
    "out = Dense(num_classes, activation='softmax', name='output')(last_layer)"
   ]
  },
  {
   "cell_type": "code",
   "execution_count": 136,
   "metadata": {},
   "outputs": [
    {
     "name": "stdout",
     "output_type": "stream",
     "text": [
      "__________________________________________________________________________________________________\n",
      "Layer (type)                    Output Shape         Param #     Connected to                     \n",
      "==================================================================================================\n",
      "input_2 (InputLayer)            (None, 300, 300, 3)  0                                            \n",
      "__________________________________________________________________________________________________\n",
      "conv1_pad (ZeroPadding2D)       (None, 306, 306, 3)  0           input_2[0][0]                    \n",
      "__________________________________________________________________________________________________\n",
      "conv1 (Conv2D)                  (None, 150, 150, 64) 9472        conv1_pad[0][0]                  \n",
      "__________________________________________________________________________________________________\n",
      "bn_conv1 (BatchNormalization)   (None, 150, 150, 64) 256         conv1[0][0]                      \n",
      "__________________________________________________________________________________________________\n",
      "activation_50 (Activation)      (None, 150, 150, 64) 0           bn_conv1[0][0]                   \n",
      "__________________________________________________________________________________________________\n",
      "pool1_pad (ZeroPadding2D)       (None, 152, 152, 64) 0           activation_50[0][0]              \n",
      "__________________________________________________________________________________________________\n",
      "max_pooling2d_10 (MaxPooling2D) (None, 75, 75, 64)   0           pool1_pad[0][0]                  \n",
      "__________________________________________________________________________________________________\n",
      "res2a_branch2a (Conv2D)         (None, 75, 75, 64)   4160        max_pooling2d_10[0][0]           \n",
      "__________________________________________________________________________________________________\n",
      "bn2a_branch2a (BatchNormalizati (None, 75, 75, 64)   256         res2a_branch2a[0][0]             \n",
      "__________________________________________________________________________________________________\n",
      "activation_51 (Activation)      (None, 75, 75, 64)   0           bn2a_branch2a[0][0]              \n",
      "__________________________________________________________________________________________________\n",
      "res2a_branch2b (Conv2D)         (None, 75, 75, 64)   36928       activation_51[0][0]              \n",
      "__________________________________________________________________________________________________\n",
      "bn2a_branch2b (BatchNormalizati (None, 75, 75, 64)   256         res2a_branch2b[0][0]             \n",
      "__________________________________________________________________________________________________\n",
      "activation_52 (Activation)      (None, 75, 75, 64)   0           bn2a_branch2b[0][0]              \n",
      "__________________________________________________________________________________________________\n",
      "res2a_branch2c (Conv2D)         (None, 75, 75, 256)  16640       activation_52[0][0]              \n",
      "__________________________________________________________________________________________________\n",
      "res2a_branch1 (Conv2D)          (None, 75, 75, 256)  16640       max_pooling2d_10[0][0]           \n",
      "__________________________________________________________________________________________________\n",
      "bn2a_branch2c (BatchNormalizati (None, 75, 75, 256)  1024        res2a_branch2c[0][0]             \n",
      "__________________________________________________________________________________________________\n",
      "bn2a_branch1 (BatchNormalizatio (None, 75, 75, 256)  1024        res2a_branch1[0][0]              \n",
      "__________________________________________________________________________________________________\n",
      "add_17 (Add)                    (None, 75, 75, 256)  0           bn2a_branch2c[0][0]              \n",
      "                                                                 bn2a_branch1[0][0]               \n",
      "__________________________________________________________________________________________________\n",
      "activation_53 (Activation)      (None, 75, 75, 256)  0           add_17[0][0]                     \n",
      "__________________________________________________________________________________________________\n",
      "res2b_branch2a (Conv2D)         (None, 75, 75, 64)   16448       activation_53[0][0]              \n",
      "__________________________________________________________________________________________________\n",
      "bn2b_branch2a (BatchNormalizati (None, 75, 75, 64)   256         res2b_branch2a[0][0]             \n",
      "__________________________________________________________________________________________________\n",
      "activation_54 (Activation)      (None, 75, 75, 64)   0           bn2b_branch2a[0][0]              \n",
      "__________________________________________________________________________________________________\n",
      "res2b_branch2b (Conv2D)         (None, 75, 75, 64)   36928       activation_54[0][0]              \n",
      "__________________________________________________________________________________________________\n",
      "bn2b_branch2b (BatchNormalizati (None, 75, 75, 64)   256         res2b_branch2b[0][0]             \n",
      "__________________________________________________________________________________________________\n",
      "activation_55 (Activation)      (None, 75, 75, 64)   0           bn2b_branch2b[0][0]              \n",
      "__________________________________________________________________________________________________\n",
      "res2b_branch2c (Conv2D)         (None, 75, 75, 256)  16640       activation_55[0][0]              \n",
      "__________________________________________________________________________________________________\n",
      "bn2b_branch2c (BatchNormalizati (None, 75, 75, 256)  1024        res2b_branch2c[0][0]             \n",
      "__________________________________________________________________________________________________\n",
      "add_18 (Add)                    (None, 75, 75, 256)  0           bn2b_branch2c[0][0]              \n",
      "                                                                 activation_53[0][0]              \n",
      "__________________________________________________________________________________________________\n",
      "activation_56 (Activation)      (None, 75, 75, 256)  0           add_18[0][0]                     \n",
      "__________________________________________________________________________________________________\n",
      "res2c_branch2a (Conv2D)         (None, 75, 75, 64)   16448       activation_56[0][0]              \n",
      "__________________________________________________________________________________________________\n",
      "bn2c_branch2a (BatchNormalizati (None, 75, 75, 64)   256         res2c_branch2a[0][0]             \n",
      "__________________________________________________________________________________________________\n",
      "activation_57 (Activation)      (None, 75, 75, 64)   0           bn2c_branch2a[0][0]              \n",
      "__________________________________________________________________________________________________\n",
      "res2c_branch2b (Conv2D)         (None, 75, 75, 64)   36928       activation_57[0][0]              \n",
      "__________________________________________________________________________________________________\n",
      "bn2c_branch2b (BatchNormalizati (None, 75, 75, 64)   256         res2c_branch2b[0][0]             \n",
      "__________________________________________________________________________________________________\n",
      "activation_58 (Activation)      (None, 75, 75, 64)   0           bn2c_branch2b[0][0]              \n",
      "__________________________________________________________________________________________________\n",
      "res2c_branch2c (Conv2D)         (None, 75, 75, 256)  16640       activation_58[0][0]              \n",
      "__________________________________________________________________________________________________\n",
      "bn2c_branch2c (BatchNormalizati (None, 75, 75, 256)  1024        res2c_branch2c[0][0]             \n",
      "__________________________________________________________________________________________________\n",
      "add_19 (Add)                    (None, 75, 75, 256)  0           bn2c_branch2c[0][0]              \n",
      "                                                                 activation_56[0][0]              \n",
      "__________________________________________________________________________________________________\n",
      "activation_59 (Activation)      (None, 75, 75, 256)  0           add_19[0][0]                     \n",
      "__________________________________________________________________________________________________\n",
      "res3a_branch2a (Conv2D)         (None, 38, 38, 128)  32896       activation_59[0][0]              \n",
      "__________________________________________________________________________________________________\n",
      "bn3a_branch2a (BatchNormalizati (None, 38, 38, 128)  512         res3a_branch2a[0][0]             \n",
      "__________________________________________________________________________________________________\n",
      "activation_60 (Activation)      (None, 38, 38, 128)  0           bn3a_branch2a[0][0]              \n",
      "__________________________________________________________________________________________________\n",
      "res3a_branch2b (Conv2D)         (None, 38, 38, 128)  147584      activation_60[0][0]              \n",
      "__________________________________________________________________________________________________\n",
      "bn3a_branch2b (BatchNormalizati (None, 38, 38, 128)  512         res3a_branch2b[0][0]             \n",
      "__________________________________________________________________________________________________\n",
      "activation_61 (Activation)      (None, 38, 38, 128)  0           bn3a_branch2b[0][0]              \n",
      "__________________________________________________________________________________________________\n",
      "res3a_branch2c (Conv2D)         (None, 38, 38, 512)  66048       activation_61[0][0]              \n",
      "__________________________________________________________________________________________________\n",
      "res3a_branch1 (Conv2D)          (None, 38, 38, 512)  131584      activation_59[0][0]              \n",
      "__________________________________________________________________________________________________\n",
      "bn3a_branch2c (BatchNormalizati (None, 38, 38, 512)  2048        res3a_branch2c[0][0]             \n",
      "__________________________________________________________________________________________________\n",
      "bn3a_branch1 (BatchNormalizatio (None, 38, 38, 512)  2048        res3a_branch1[0][0]              \n",
      "__________________________________________________________________________________________________\n",
      "add_20 (Add)                    (None, 38, 38, 512)  0           bn3a_branch2c[0][0]              \n",
      "                                                                 bn3a_branch1[0][0]               \n",
      "__________________________________________________________________________________________________\n",
      "activation_62 (Activation)      (None, 38, 38, 512)  0           add_20[0][0]                     \n",
      "__________________________________________________________________________________________________\n",
      "res3b_branch2a (Conv2D)         (None, 38, 38, 128)  65664       activation_62[0][0]              \n",
      "__________________________________________________________________________________________________\n",
      "bn3b_branch2a (BatchNormalizati (None, 38, 38, 128)  512         res3b_branch2a[0][0]             \n",
      "__________________________________________________________________________________________________\n",
      "activation_63 (Activation)      (None, 38, 38, 128)  0           bn3b_branch2a[0][0]              \n",
      "__________________________________________________________________________________________________\n",
      "res3b_branch2b (Conv2D)         (None, 38, 38, 128)  147584      activation_63[0][0]              \n",
      "__________________________________________________________________________________________________\n",
      "bn3b_branch2b (BatchNormalizati (None, 38, 38, 128)  512         res3b_branch2b[0][0]             \n",
      "__________________________________________________________________________________________________\n",
      "activation_64 (Activation)      (None, 38, 38, 128)  0           bn3b_branch2b[0][0]              \n",
      "__________________________________________________________________________________________________\n",
      "res3b_branch2c (Conv2D)         (None, 38, 38, 512)  66048       activation_64[0][0]              \n",
      "__________________________________________________________________________________________________\n",
      "bn3b_branch2c (BatchNormalizati (None, 38, 38, 512)  2048        res3b_branch2c[0][0]             \n",
      "__________________________________________________________________________________________________\n",
      "add_21 (Add)                    (None, 38, 38, 512)  0           bn3b_branch2c[0][0]              \n",
      "                                                                 activation_62[0][0]              \n",
      "__________________________________________________________________________________________________\n",
      "activation_65 (Activation)      (None, 38, 38, 512)  0           add_21[0][0]                     \n",
      "__________________________________________________________________________________________________\n",
      "res3c_branch2a (Conv2D)         (None, 38, 38, 128)  65664       activation_65[0][0]              \n",
      "__________________________________________________________________________________________________\n",
      "bn3c_branch2a (BatchNormalizati (None, 38, 38, 128)  512         res3c_branch2a[0][0]             \n",
      "__________________________________________________________________________________________________\n",
      "activation_66 (Activation)      (None, 38, 38, 128)  0           bn3c_branch2a[0][0]              \n",
      "__________________________________________________________________________________________________\n",
      "res3c_branch2b (Conv2D)         (None, 38, 38, 128)  147584      activation_66[0][0]              \n",
      "__________________________________________________________________________________________________\n",
      "bn3c_branch2b (BatchNormalizati (None, 38, 38, 128)  512         res3c_branch2b[0][0]             \n",
      "__________________________________________________________________________________________________\n",
      "activation_67 (Activation)      (None, 38, 38, 128)  0           bn3c_branch2b[0][0]              \n",
      "__________________________________________________________________________________________________\n",
      "res3c_branch2c (Conv2D)         (None, 38, 38, 512)  66048       activation_67[0][0]              \n",
      "__________________________________________________________________________________________________\n",
      "bn3c_branch2c (BatchNormalizati (None, 38, 38, 512)  2048        res3c_branch2c[0][0]             \n",
      "__________________________________________________________________________________________________\n",
      "add_22 (Add)                    (None, 38, 38, 512)  0           bn3c_branch2c[0][0]              \n",
      "                                                                 activation_65[0][0]              \n",
      "__________________________________________________________________________________________________\n",
      "activation_68 (Activation)      (None, 38, 38, 512)  0           add_22[0][0]                     \n",
      "__________________________________________________________________________________________________\n",
      "res3d_branch2a (Conv2D)         (None, 38, 38, 128)  65664       activation_68[0][0]              \n",
      "__________________________________________________________________________________________________\n",
      "bn3d_branch2a (BatchNormalizati (None, 38, 38, 128)  512         res3d_branch2a[0][0]             \n",
      "__________________________________________________________________________________________________\n",
      "activation_69 (Activation)      (None, 38, 38, 128)  0           bn3d_branch2a[0][0]              \n",
      "__________________________________________________________________________________________________\n",
      "res3d_branch2b (Conv2D)         (None, 38, 38, 128)  147584      activation_69[0][0]              \n",
      "__________________________________________________________________________________________________\n",
      "bn3d_branch2b (BatchNormalizati (None, 38, 38, 128)  512         res3d_branch2b[0][0]             \n",
      "__________________________________________________________________________________________________\n",
      "activation_70 (Activation)      (None, 38, 38, 128)  0           bn3d_branch2b[0][0]              \n",
      "__________________________________________________________________________________________________\n",
      "res3d_branch2c (Conv2D)         (None, 38, 38, 512)  66048       activation_70[0][0]              \n",
      "__________________________________________________________________________________________________\n",
      "bn3d_branch2c (BatchNormalizati (None, 38, 38, 512)  2048        res3d_branch2c[0][0]             \n",
      "__________________________________________________________________________________________________\n",
      "add_23 (Add)                    (None, 38, 38, 512)  0           bn3d_branch2c[0][0]              \n",
      "                                                                 activation_68[0][0]              \n",
      "__________________________________________________________________________________________________\n",
      "activation_71 (Activation)      (None, 38, 38, 512)  0           add_23[0][0]                     \n",
      "__________________________________________________________________________________________________\n",
      "res4a_branch2a (Conv2D)         (None, 19, 19, 256)  131328      activation_71[0][0]              \n",
      "__________________________________________________________________________________________________\n",
      "bn4a_branch2a (BatchNormalizati (None, 19, 19, 256)  1024        res4a_branch2a[0][0]             \n",
      "__________________________________________________________________________________________________\n",
      "activation_72 (Activation)      (None, 19, 19, 256)  0           bn4a_branch2a[0][0]              \n",
      "__________________________________________________________________________________________________\n",
      "res4a_branch2b (Conv2D)         (None, 19, 19, 256)  590080      activation_72[0][0]              \n",
      "__________________________________________________________________________________________________\n",
      "bn4a_branch2b (BatchNormalizati (None, 19, 19, 256)  1024        res4a_branch2b[0][0]             \n",
      "__________________________________________________________________________________________________\n",
      "activation_73 (Activation)      (None, 19, 19, 256)  0           bn4a_branch2b[0][0]              \n",
      "__________________________________________________________________________________________________\n",
      "res4a_branch2c (Conv2D)         (None, 19, 19, 1024) 263168      activation_73[0][0]              \n",
      "__________________________________________________________________________________________________\n",
      "res4a_branch1 (Conv2D)          (None, 19, 19, 1024) 525312      activation_71[0][0]              \n",
      "__________________________________________________________________________________________________\n",
      "bn4a_branch2c (BatchNormalizati (None, 19, 19, 1024) 4096        res4a_branch2c[0][0]             \n",
      "__________________________________________________________________________________________________\n",
      "bn4a_branch1 (BatchNormalizatio (None, 19, 19, 1024) 4096        res4a_branch1[0][0]              \n",
      "__________________________________________________________________________________________________\n",
      "add_24 (Add)                    (None, 19, 19, 1024) 0           bn4a_branch2c[0][0]              \n",
      "                                                                 bn4a_branch1[0][0]               \n",
      "__________________________________________________________________________________________________\n",
      "activation_74 (Activation)      (None, 19, 19, 1024) 0           add_24[0][0]                     \n",
      "__________________________________________________________________________________________________\n",
      "res4b_branch2a (Conv2D)         (None, 19, 19, 256)  262400      activation_74[0][0]              \n",
      "__________________________________________________________________________________________________\n",
      "bn4b_branch2a (BatchNormalizati (None, 19, 19, 256)  1024        res4b_branch2a[0][0]             \n",
      "__________________________________________________________________________________________________\n",
      "activation_75 (Activation)      (None, 19, 19, 256)  0           bn4b_branch2a[0][0]              \n",
      "__________________________________________________________________________________________________\n",
      "res4b_branch2b (Conv2D)         (None, 19, 19, 256)  590080      activation_75[0][0]              \n",
      "__________________________________________________________________________________________________\n",
      "bn4b_branch2b (BatchNormalizati (None, 19, 19, 256)  1024        res4b_branch2b[0][0]             \n",
      "__________________________________________________________________________________________________\n",
      "activation_76 (Activation)      (None, 19, 19, 256)  0           bn4b_branch2b[0][0]              \n",
      "__________________________________________________________________________________________________\n",
      "res4b_branch2c (Conv2D)         (None, 19, 19, 1024) 263168      activation_76[0][0]              \n",
      "__________________________________________________________________________________________________\n",
      "bn4b_branch2c (BatchNormalizati (None, 19, 19, 1024) 4096        res4b_branch2c[0][0]             \n",
      "__________________________________________________________________________________________________\n",
      "add_25 (Add)                    (None, 19, 19, 1024) 0           bn4b_branch2c[0][0]              \n",
      "                                                                 activation_74[0][0]              \n",
      "__________________________________________________________________________________________________\n",
      "activation_77 (Activation)      (None, 19, 19, 1024) 0           add_25[0][0]                     \n",
      "__________________________________________________________________________________________________\n",
      "res4c_branch2a (Conv2D)         (None, 19, 19, 256)  262400      activation_77[0][0]              \n",
      "__________________________________________________________________________________________________\n",
      "bn4c_branch2a (BatchNormalizati (None, 19, 19, 256)  1024        res4c_branch2a[0][0]             \n",
      "__________________________________________________________________________________________________\n",
      "activation_78 (Activation)      (None, 19, 19, 256)  0           bn4c_branch2a[0][0]              \n",
      "__________________________________________________________________________________________________\n",
      "res4c_branch2b (Conv2D)         (None, 19, 19, 256)  590080      activation_78[0][0]              \n",
      "__________________________________________________________________________________________________\n",
      "bn4c_branch2b (BatchNormalizati (None, 19, 19, 256)  1024        res4c_branch2b[0][0]             \n",
      "__________________________________________________________________________________________________\n",
      "activation_79 (Activation)      (None, 19, 19, 256)  0           bn4c_branch2b[0][0]              \n",
      "__________________________________________________________________________________________________\n",
      "res4c_branch2c (Conv2D)         (None, 19, 19, 1024) 263168      activation_79[0][0]              \n",
      "__________________________________________________________________________________________________\n",
      "bn4c_branch2c (BatchNormalizati (None, 19, 19, 1024) 4096        res4c_branch2c[0][0]             \n",
      "__________________________________________________________________________________________________\n",
      "add_26 (Add)                    (None, 19, 19, 1024) 0           bn4c_branch2c[0][0]              \n",
      "                                                                 activation_77[0][0]              \n",
      "__________________________________________________________________________________________________\n",
      "activation_80 (Activation)      (None, 19, 19, 1024) 0           add_26[0][0]                     \n",
      "__________________________________________________________________________________________________\n",
      "res4d_branch2a (Conv2D)         (None, 19, 19, 256)  262400      activation_80[0][0]              \n",
      "__________________________________________________________________________________________________\n",
      "bn4d_branch2a (BatchNormalizati (None, 19, 19, 256)  1024        res4d_branch2a[0][0]             \n",
      "__________________________________________________________________________________________________\n",
      "activation_81 (Activation)      (None, 19, 19, 256)  0           bn4d_branch2a[0][0]              \n",
      "__________________________________________________________________________________________________\n",
      "res4d_branch2b (Conv2D)         (None, 19, 19, 256)  590080      activation_81[0][0]              \n",
      "__________________________________________________________________________________________________\n",
      "bn4d_branch2b (BatchNormalizati (None, 19, 19, 256)  1024        res4d_branch2b[0][0]             \n",
      "__________________________________________________________________________________________________\n",
      "activation_82 (Activation)      (None, 19, 19, 256)  0           bn4d_branch2b[0][0]              \n",
      "__________________________________________________________________________________________________\n",
      "res4d_branch2c (Conv2D)         (None, 19, 19, 1024) 263168      activation_82[0][0]              \n",
      "__________________________________________________________________________________________________\n",
      "bn4d_branch2c (BatchNormalizati (None, 19, 19, 1024) 4096        res4d_branch2c[0][0]             \n",
      "__________________________________________________________________________________________________\n",
      "add_27 (Add)                    (None, 19, 19, 1024) 0           bn4d_branch2c[0][0]              \n",
      "                                                                 activation_80[0][0]              \n",
      "__________________________________________________________________________________________________\n",
      "activation_83 (Activation)      (None, 19, 19, 1024) 0           add_27[0][0]                     \n",
      "__________________________________________________________________________________________________\n",
      "res4e_branch2a (Conv2D)         (None, 19, 19, 256)  262400      activation_83[0][0]              \n",
      "__________________________________________________________________________________________________\n",
      "bn4e_branch2a (BatchNormalizati (None, 19, 19, 256)  1024        res4e_branch2a[0][0]             \n",
      "__________________________________________________________________________________________________\n",
      "activation_84 (Activation)      (None, 19, 19, 256)  0           bn4e_branch2a[0][0]              \n",
      "__________________________________________________________________________________________________\n",
      "res4e_branch2b (Conv2D)         (None, 19, 19, 256)  590080      activation_84[0][0]              \n",
      "__________________________________________________________________________________________________\n",
      "bn4e_branch2b (BatchNormalizati (None, 19, 19, 256)  1024        res4e_branch2b[0][0]             \n",
      "__________________________________________________________________________________________________\n",
      "activation_85 (Activation)      (None, 19, 19, 256)  0           bn4e_branch2b[0][0]              \n",
      "__________________________________________________________________________________________________\n",
      "res4e_branch2c (Conv2D)         (None, 19, 19, 1024) 263168      activation_85[0][0]              \n",
      "__________________________________________________________________________________________________\n",
      "bn4e_branch2c (BatchNormalizati (None, 19, 19, 1024) 4096        res4e_branch2c[0][0]             \n",
      "__________________________________________________________________________________________________\n",
      "add_28 (Add)                    (None, 19, 19, 1024) 0           bn4e_branch2c[0][0]              \n",
      "                                                                 activation_83[0][0]              \n",
      "__________________________________________________________________________________________________\n",
      "activation_86 (Activation)      (None, 19, 19, 1024) 0           add_28[0][0]                     \n",
      "__________________________________________________________________________________________________\n",
      "res4f_branch2a (Conv2D)         (None, 19, 19, 256)  262400      activation_86[0][0]              \n",
      "__________________________________________________________________________________________________\n",
      "bn4f_branch2a (BatchNormalizati (None, 19, 19, 256)  1024        res4f_branch2a[0][0]             \n",
      "__________________________________________________________________________________________________\n",
      "activation_87 (Activation)      (None, 19, 19, 256)  0           bn4f_branch2a[0][0]              \n",
      "__________________________________________________________________________________________________\n",
      "res4f_branch2b (Conv2D)         (None, 19, 19, 256)  590080      activation_87[0][0]              \n",
      "__________________________________________________________________________________________________\n",
      "bn4f_branch2b (BatchNormalizati (None, 19, 19, 256)  1024        res4f_branch2b[0][0]             \n",
      "__________________________________________________________________________________________________\n",
      "activation_88 (Activation)      (None, 19, 19, 256)  0           bn4f_branch2b[0][0]              \n",
      "__________________________________________________________________________________________________\n",
      "res4f_branch2c (Conv2D)         (None, 19, 19, 1024) 263168      activation_88[0][0]              \n",
      "__________________________________________________________________________________________________\n",
      "bn4f_branch2c (BatchNormalizati (None, 19, 19, 1024) 4096        res4f_branch2c[0][0]             \n",
      "__________________________________________________________________________________________________\n",
      "add_29 (Add)                    (None, 19, 19, 1024) 0           bn4f_branch2c[0][0]              \n",
      "                                                                 activation_86[0][0]              \n",
      "__________________________________________________________________________________________________\n",
      "activation_89 (Activation)      (None, 19, 19, 1024) 0           add_29[0][0]                     \n",
      "__________________________________________________________________________________________________\n",
      "res5a_branch2a (Conv2D)         (None, 10, 10, 512)  524800      activation_89[0][0]              \n",
      "__________________________________________________________________________________________________\n",
      "bn5a_branch2a (BatchNormalizati (None, 10, 10, 512)  2048        res5a_branch2a[0][0]             \n",
      "__________________________________________________________________________________________________\n",
      "activation_90 (Activation)      (None, 10, 10, 512)  0           bn5a_branch2a[0][0]              \n",
      "__________________________________________________________________________________________________\n",
      "res5a_branch2b (Conv2D)         (None, 10, 10, 512)  2359808     activation_90[0][0]              \n",
      "__________________________________________________________________________________________________\n",
      "bn5a_branch2b (BatchNormalizati (None, 10, 10, 512)  2048        res5a_branch2b[0][0]             \n",
      "__________________________________________________________________________________________________\n",
      "activation_91 (Activation)      (None, 10, 10, 512)  0           bn5a_branch2b[0][0]              \n",
      "__________________________________________________________________________________________________\n",
      "res5a_branch2c (Conv2D)         (None, 10, 10, 2048) 1050624     activation_91[0][0]              \n",
      "__________________________________________________________________________________________________\n",
      "res5a_branch1 (Conv2D)          (None, 10, 10, 2048) 2099200     activation_89[0][0]              \n",
      "__________________________________________________________________________________________________\n",
      "bn5a_branch2c (BatchNormalizati (None, 10, 10, 2048) 8192        res5a_branch2c[0][0]             \n",
      "__________________________________________________________________________________________________\n",
      "bn5a_branch1 (BatchNormalizatio (None, 10, 10, 2048) 8192        res5a_branch1[0][0]              \n",
      "__________________________________________________________________________________________________\n",
      "add_30 (Add)                    (None, 10, 10, 2048) 0           bn5a_branch2c[0][0]              \n",
      "                                                                 bn5a_branch1[0][0]               \n",
      "__________________________________________________________________________________________________\n",
      "activation_92 (Activation)      (None, 10, 10, 2048) 0           add_30[0][0]                     \n",
      "__________________________________________________________________________________________________\n",
      "res5b_branch2a (Conv2D)         (None, 10, 10, 512)  1049088     activation_92[0][0]              \n",
      "__________________________________________________________________________________________________\n",
      "bn5b_branch2a (BatchNormalizati (None, 10, 10, 512)  2048        res5b_branch2a[0][0]             \n",
      "__________________________________________________________________________________________________\n",
      "activation_93 (Activation)      (None, 10, 10, 512)  0           bn5b_branch2a[0][0]              \n",
      "__________________________________________________________________________________________________\n",
      "res5b_branch2b (Conv2D)         (None, 10, 10, 512)  2359808     activation_93[0][0]              \n",
      "__________________________________________________________________________________________________\n",
      "bn5b_branch2b (BatchNormalizati (None, 10, 10, 512)  2048        res5b_branch2b[0][0]             \n",
      "__________________________________________________________________________________________________\n",
      "activation_94 (Activation)      (None, 10, 10, 512)  0           bn5b_branch2b[0][0]              \n",
      "__________________________________________________________________________________________________\n",
      "res5b_branch2c (Conv2D)         (None, 10, 10, 2048) 1050624     activation_94[0][0]              \n",
      "__________________________________________________________________________________________________\n",
      "bn5b_branch2c (BatchNormalizati (None, 10, 10, 2048) 8192        res5b_branch2c[0][0]             \n",
      "__________________________________________________________________________________________________\n",
      "add_31 (Add)                    (None, 10, 10, 2048) 0           bn5b_branch2c[0][0]              \n",
      "                                                                 activation_92[0][0]              \n",
      "__________________________________________________________________________________________________\n",
      "activation_95 (Activation)      (None, 10, 10, 2048) 0           add_31[0][0]                     \n",
      "__________________________________________________________________________________________________\n",
      "res5c_branch2a (Conv2D)         (None, 10, 10, 512)  1049088     activation_95[0][0]              \n",
      "__________________________________________________________________________________________________\n",
      "bn5c_branch2a (BatchNormalizati (None, 10, 10, 512)  2048        res5c_branch2a[0][0]             \n",
      "__________________________________________________________________________________________________\n",
      "activation_96 (Activation)      (None, 10, 10, 512)  0           bn5c_branch2a[0][0]              \n",
      "__________________________________________________________________________________________________\n",
      "res5c_branch2b (Conv2D)         (None, 10, 10, 512)  2359808     activation_96[0][0]              \n",
      "__________________________________________________________________________________________________\n",
      "bn5c_branch2b (BatchNormalizati (None, 10, 10, 512)  2048        res5c_branch2b[0][0]             \n",
      "__________________________________________________________________________________________________\n",
      "activation_97 (Activation)      (None, 10, 10, 512)  0           bn5c_branch2b[0][0]              \n",
      "__________________________________________________________________________________________________\n",
      "res5c_branch2c (Conv2D)         (None, 10, 10, 2048) 1050624     activation_97[0][0]              \n",
      "__________________________________________________________________________________________________\n",
      "bn5c_branch2c (BatchNormalizati (None, 10, 10, 2048) 8192        res5c_branch2c[0][0]             \n",
      "__________________________________________________________________________________________________\n",
      "add_32 (Add)                    (None, 10, 10, 2048) 0           bn5c_branch2c[0][0]              \n",
      "                                                                 activation_95[0][0]              \n",
      "__________________________________________________________________________________________________\n",
      "activation_98 (Activation)      (None, 10, 10, 2048) 0           add_32[0][0]                     \n",
      "__________________________________________________________________________________________________\n",
      "avg_pool (GlobalAveragePooling2 (None, 2048)         0           activation_98[0][0]              \n",
      "__________________________________________________________________________________________________\n",
      "fc1000 (Dense)                  (None, 1000)         2049000     avg_pool[0][0]                   \n",
      "__________________________________________________________________________________________________\n",
      "output (Dense)                  (None, 10)           10010       fc1000[0][0]                     \n",
      "==================================================================================================\n",
      "Total params: 25,646,722\n",
      "Trainable params: 25,593,602\n",
      "Non-trainable params: 53,120\n",
      "__________________________________________________________________________________________________\n"
     ]
    }
   ],
   "source": [
    "from keras.models import Model\n",
    "\n",
    "custom_resnet_model = Model(image_input, out)\n",
    "custom_resnet_model.summary()"
   ]
  },
  {
   "cell_type": "code",
   "execution_count": 137,
   "metadata": {},
   "outputs": [],
   "source": [
    "for layer in custom_resnet_model.layers[:-1]:\n",
    "    layer.trainable = False"
   ]
  },
  {
   "cell_type": "code",
   "execution_count": 138,
   "metadata": {},
   "outputs": [],
   "source": [
    "custom_resnet_model.compile(loss='categorical_crossentropy', optimizer='rmsprop', metrics=['accuracy'])"
   ]
  },
  {
   "cell_type": "code",
   "execution_count": 139,
   "metadata": {},
   "outputs": [
    {
     "name": "stdout",
     "output_type": "stream",
     "text": [
      "Loading images from airplanes folder\n",
      "\n",
      "Loading images from BACKGROUND_Google folder\n",
      "\n",
      "Loading images from bonsai folder\n",
      "\n",
      "Loading images from car_side folder\n",
      "\n",
      "Loading images from Faces folder\n",
      "\n",
      "Loading images from Faces_easy folder\n",
      "\n",
      "Loading images from grand_piano folder\n",
      "\n",
      "Loading images from Leopards folder\n",
      "\n",
      "Loading images from Motorbikes folder\n",
      "\n",
      "Loading images from watch folder\n",
      "\n"
     ]
    }
   ],
   "source": [
    "img_rows=300\n",
    "img_cols=300\n",
    "\n",
    "img_data_list=[]\n",
    "classes_names_list=[]\n",
    "\n",
    "for dataset in data_dir_list:\n",
    "    \n",
    "    classes_names_list.append(dataset) \n",
    "    \n",
    "    print ('Loading images from {} folder\\n'.format(dataset)) \n",
    "    \n",
    "    img_list = os.listdir(DATA_PATH+'/'+ dataset)\n",
    "    \n",
    "    for img in img_list:\n",
    "        input_img = cv2.imread(DATA_PATH + '/'+ dataset + '/'+ img )\n",
    "        input_img_resize = cv2.resize(input_img,(img_rows, img_cols))            \n",
    "        img_data_list.append(input_img_resize)"
   ]
  },
  {
   "cell_type": "markdown",
   "metadata": {},
   "source": [
    "### Approach4: Getting the number of classes"
   ]
  },
  {
   "cell_type": "code",
   "execution_count": 140,
   "metadata": {},
   "outputs": [
    {
     "name": "stdout",
     "output_type": "stream",
     "text": [
      "10\n"
     ]
    }
   ],
   "source": [
    "num_classes = len(classes_names_list)\n",
    "print(num_classes)"
   ]
  },
  {
   "cell_type": "markdown",
   "metadata": {},
   "source": [
    "### Approach4: Image preprocessiong"
   ]
  },
  {
   "cell_type": "code",
   "execution_count": 141,
   "metadata": {},
   "outputs": [],
   "source": [
    "import numpy as np\n",
    "\n",
    "img_data = np.array(img_data_list)\n",
    "img_data = img_data.astype('float16')\n",
    "img_data /= 255              ############### 0-255, i.e., 2**8 = 256 possibilities is the rance for each individual colour. \n",
    "                             ############### By dividing by 255, we get values in the 0.0-1.0 range (normalization) \n",
    "                             ############### NN or deep learning required scaled or normalized data\n"
   ]
  },
  {
   "cell_type": "code",
   "execution_count": 142,
   "metadata": {
    "scrolled": true
   },
   "outputs": [
    {
     "name": "stdout",
     "output_type": "stream",
     "text": [
      "(3725, 300, 300, 3)\n"
     ]
    }
   ],
   "source": [
    "print (img_data.shape)"
   ]
  },
  {
   "cell_type": "code",
   "execution_count": 143,
   "metadata": {},
   "outputs": [
    {
     "name": "stdout",
     "output_type": "stream",
     "text": [
      "3725\n"
     ]
    }
   ],
   "source": [
    "num_of_samples = img_data.shape[0]\n",
    "print(num_of_samples)"
   ]
  },
  {
   "cell_type": "code",
   "execution_count": 144,
   "metadata": {},
   "outputs": [
    {
     "name": "stdout",
     "output_type": "stream",
     "text": [
      "(300, 300, 3)\n"
     ]
    }
   ],
   "source": [
    "input_shape = img_data[0].shape\n",
    "print(input_shape)"
   ]
  },
  {
   "cell_type": "code",
   "execution_count": 145,
   "metadata": {},
   "outputs": [
    {
     "name": "stdout",
     "output_type": "stream",
     "text": [
      "[0 0 0 ... 9 9 9]\n"
     ]
    }
   ],
   "source": [
    "classes = np.ones((num_of_samples,), dtype='int64')\n",
    "\n",
    "classes[0:800]=0\n",
    "classes[800:1268]=1\n",
    "classes[1268:1396]=2\n",
    "classes[1396:1519]=3\n",
    "classes[1519:1954]=4\n",
    "classes[1954:2389]=5\n",
    "classes[2389:2488]=6\n",
    "classes[2488:2688]=7\n",
    "classes[2688:3486]=8\n",
    "classes[3468:]=9\n",
    "\n",
    "print(classes)"
   ]
  },
  {
   "cell_type": "markdown",
   "metadata": {},
   "source": [
    "### Approach4: Converting class labels to numberic using on-hot encoding"
   ]
  },
  {
   "cell_type": "code",
   "execution_count": 146,
   "metadata": {},
   "outputs": [
    {
     "name": "stdout",
     "output_type": "stream",
     "text": [
      "[[1. 0. 0. ... 0. 0. 0.]\n",
      " [1. 0. 0. ... 0. 0. 0.]\n",
      " [1. 0. 0. ... 0. 0. 0.]\n",
      " ...\n",
      " [0. 0. 0. ... 0. 0. 1.]\n",
      " [0. 0. 0. ... 0. 0. 1.]\n",
      " [0. 0. 0. ... 0. 0. 1.]]\n"
     ]
    }
   ],
   "source": [
    "from keras.utils import to_categorical\n",
    "\n",
    "classes = to_categorical(classes, num_classes)\n",
    "\n",
    "print(classes)"
   ]
  },
  {
   "cell_type": "markdown",
   "metadata": {},
   "source": [
    "### Approach4: Shuffling the dataset"
   ]
  },
  {
   "cell_type": "code",
   "execution_count": 147,
   "metadata": {},
   "outputs": [],
   "source": [
    "from sklearn.utils import shuffle\n",
    "\n",
    "X, Y = shuffle(img_data, classes, random_state=2)"
   ]
  },
  {
   "cell_type": "markdown",
   "metadata": {},
   "source": [
    "### Approach4: Splitting the dataset into train and test"
   ]
  },
  {
   "cell_type": "code",
   "execution_count": 148,
   "metadata": {},
   "outputs": [],
   "source": [
    "from sklearn.model_selection import train_test_split\n",
    "\n",
    "X_train, X_test, y_train, y_test = train_test_split(X, Y, test_size=0.2, random_state=2)"
   ]
  },
  {
   "cell_type": "code",
   "execution_count": 149,
   "metadata": {},
   "outputs": [
    {
     "data": {
      "text/plain": [
       "(2980, 300, 300, 3)"
      ]
     },
     "execution_count": 149,
     "metadata": {},
     "output_type": "execute_result"
    }
   ],
   "source": [
    "X_train.shape"
   ]
  },
  {
   "cell_type": "code",
   "execution_count": 150,
   "metadata": {},
   "outputs": [
    {
     "data": {
      "text/plain": [
       "(2980, 10)"
      ]
     },
     "execution_count": 150,
     "metadata": {},
     "output_type": "execute_result"
    }
   ],
   "source": [
    "y_train.shape"
   ]
  },
  {
   "cell_type": "code",
   "execution_count": 151,
   "metadata": {},
   "outputs": [
    {
     "data": {
      "text/plain": [
       "(745, 300, 300, 3)"
      ]
     },
     "execution_count": 151,
     "metadata": {},
     "output_type": "execute_result"
    }
   ],
   "source": [
    "X_test.shape"
   ]
  },
  {
   "cell_type": "code",
   "execution_count": 152,
   "metadata": {},
   "outputs": [
    {
     "data": {
      "text/plain": [
       "(745, 10)"
      ]
     },
     "execution_count": 152,
     "metadata": {},
     "output_type": "execute_result"
    }
   ],
   "source": [
    "y_test.shape"
   ]
  },
  {
   "cell_type": "code",
   "execution_count": 153,
   "metadata": {},
   "outputs": [],
   "source": [
    "del X,Y"
   ]
  },
  {
   "cell_type": "code",
   "execution_count": 154,
   "metadata": {},
   "outputs": [],
   "source": [
    "# custom_resnet_model.fit(X_train, y_train, batch_size=batch_size, epochs=5, verbose=1, \n",
    "#                      validation_data=(X_test, y_test))"
   ]
  },
  {
   "cell_type": "code",
   "execution_count": 155,
   "metadata": {},
   "outputs": [],
   "source": [
    "#custom_resnet_model.save('custom_resnet_model_V1.hdf5')\n",
    "custom_resnet_model_5_epochs = keras.models.load_model('custom_resnet_model_V1.hdf5')"
   ]
  },
  {
   "cell_type": "code",
   "execution_count": 156,
   "metadata": {
    "scrolled": true
   },
   "outputs": [],
   "source": [
    "# custom_resnet_model_5_epochs.fit(X_train, y_train, batch_size=batch_size, epochs=10, verbose=1, \n",
    "#                      validation_data=(X_test, y_test))"
   ]
  },
  {
   "cell_type": "code",
   "execution_count": 157,
   "metadata": {},
   "outputs": [],
   "source": [
    "#custom_resnet_model_5_epochs.save('custom_resnet_model_V2.hdf5')\n",
    "custom_resnet_model_20_epochs = keras.models.load_model('custom_resnet_model_V2.hdf5')"
   ]
  },
  {
   "cell_type": "markdown",
   "metadata": {},
   "source": [
    "## Approach4: Prediction on unseen data"
   ]
  },
  {
   "cell_type": "code",
   "execution_count": 158,
   "metadata": {},
   "outputs": [],
   "source": [
    "# UNSEEN_DATA_PATH = os.path.join(PATH, 'useen_image')\n",
    "\n",
    "# print(UNSEEN_DATA_PATH)"
   ]
  },
  {
   "cell_type": "code",
   "execution_count": 159,
   "metadata": {},
   "outputs": [],
   "source": [
    "# unseen_data_dir_list = os.listdir(UNSEEN_DATA_PATH)\n",
    "\n",
    "# if '.DS_Store' in data_dir_list :\n",
    "#     data_dir_list.remove('.DS_Store')\n",
    "    \n",
    "# print(unseen_data_dir_list)"
   ]
  },
  {
   "cell_type": "code",
   "execution_count": 160,
   "metadata": {},
   "outputs": [],
   "source": [
    "# img_rows = 300\n",
    "# img_cols = 300\n",
    "\n",
    "# unseen_img_data_list=[]\n",
    "# unseen_img_classes_names_list=[]\n",
    "\n",
    "# for dataset in unseen_data_dir_list:\n",
    "    \n",
    "#     unseen_img_classes_names_list.append(dataset) \n",
    "    \n",
    "#     print ('Loading images from {} folder\\n'.format(dataset)) \n",
    "    \n",
    "#     unseen_img_list = os.listdir(UNSEEN_DATA_PATH+'/'+ dataset)\n",
    "    \n",
    "#     for img in unseen_img_list:\n",
    "#         unseen_input_img = cv2.imread(UNSEEN_DATA_PATH + '/'+ dataset + '/'+ img )\n",
    "#         unseen_input_img_resize = cv2.resize(unseen_input_img,(img_rows, img_cols))            \n",
    "#         unseen_img_data_list.append(unseen_input_img_resize) "
   ]
  },
  {
   "cell_type": "code",
   "execution_count": 161,
   "metadata": {},
   "outputs": [],
   "source": [
    "# unseen_num_classes = len(unseen_img_classes_names_list)\n",
    "# print(unseen_num_classes)"
   ]
  },
  {
   "cell_type": "markdown",
   "metadata": {},
   "source": [
    "## Unseen Image preprocessiong"
   ]
  },
  {
   "cell_type": "code",
   "execution_count": 162,
   "metadata": {},
   "outputs": [],
   "source": [
    "# unseen_img_data = np.array(unseen_img_data_list)\n",
    "# unseen_img_data = unseen_img_data.astype('float16')\n",
    "# unseen_img_data /= 255"
   ]
  },
  {
   "cell_type": "code",
   "execution_count": 163,
   "metadata": {},
   "outputs": [],
   "source": [
    "# print(unseen_img_data.shape)"
   ]
  },
  {
   "cell_type": "code",
   "execution_count": 164,
   "metadata": {},
   "outputs": [],
   "source": [
    "# unseen_num_of_samples = unseen_img_data.shape[0]\n",
    "# print(unseen_num_of_samples)"
   ]
  },
  {
   "cell_type": "code",
   "execution_count": 165,
   "metadata": {},
   "outputs": [],
   "source": [
    "# unseen_input_shape = unseen_img_data[0].shape\n",
    "# print(unseen_input_shape)"
   ]
  },
  {
   "cell_type": "code",
   "execution_count": 166,
   "metadata": {},
   "outputs": [],
   "source": [
    "X_unseen = unseen_img_data"
   ]
  },
  {
   "cell_type": "code",
   "execution_count": 167,
   "metadata": {},
   "outputs": [
    {
     "name": "stdout",
     "output_type": "stream",
     "text": [
      "[[0.16106714 0.15897281 0.02882703 0.02258698 0.10685999 0.0911625\n",
      "  0.02275665 0.03600837 0.301825   0.06993349]]\n"
     ]
    }
   ],
   "source": [
    "Y_pred_unseen_resnet = custom_resnet_model_20_epochs.predict(X_unseen)\n",
    "print(Y_pred_unseen_resnet)"
   ]
  },
  {
   "cell_type": "code",
   "execution_count": 168,
   "metadata": {},
   "outputs": [
    {
     "name": "stdout",
     "output_type": "stream",
     "text": [
      "Class: \n",
      "[8]\n"
     ]
    }
   ],
   "source": [
    "y_pred_unseen_resnet = np.argmax(Y_pred_unseen_resnet, axis=1)\n",
    "print(\"Class: \")\n",
    "print(y_pred_unseen_resnet)"
   ]
  },
  {
   "cell_type": "markdown",
   "metadata": {},
   "source": [
    "## Class description:\n",
    "    0 = airplanes\n",
    "    1 = BACKGROUND_Google\n",
    "    2 = bonsai\n",
    "    3 = car_side\n",
    "    4 = Faces\n",
    "    5 = Faces_easy\n",
    "    6 = grand_piano\n",
    "    7 = Leopards\n",
    "    8 = Motorbikes\n",
    "    9 = watch"
   ]
  },
  {
   "cell_type": "markdown",
   "metadata": {},
   "source": [
    "# Results"
   ]
  },
  {
   "cell_type": "code",
   "execution_count": 302,
   "metadata": {},
   "outputs": [],
   "source": [
    "# print(\"Class predicted by model with augmented data: \", y_pred_unseen_loaded_aug)\n",
    "# print(\"Class predicted by model without augmented data: \", y_pred_unseen_wo_aug)\n",
    "# print(\"Class predicted by transfer learning VGG16 model(6 epochs): \", y_pred_unseen_vgg)\n",
    "# print(\"Class predicted by transfer learning VGG16 model(12 epochs): \", y_pred_unseen_vgg_2)\n",
    "# print(\"Class predicted by transfer learning ResNet50 model: \", y_pred_unseen_resnet)"
   ]
  },
  {
   "cell_type": "code",
   "execution_count": 303,
   "metadata": {},
   "outputs": [],
   "source": [
    "# print(\"Class wise probabilities for the unseen image predicted by model with augmented data: \\n\", Y_pred_unseen_loaded_aug)\n",
    "# print()\n",
    "# print(\"Class wise probabilities for the unseen image predicted by model without augmented data: \\n\", Y_pred_unseen_wo_aug)\n",
    "# print()\n",
    "# print(\"Class wise probabilities for the unseen image predicted by transfer learning VGG16 model (6 epochs): \\n\", Y_pred_unseen_vgg)\n",
    "# print()\n",
    "# print(\"Class wise probabilities for the unseen image predicted by transfer learning VGG16 model (12 epochs): \\n\", Y_pred_unseen_vgg_2)\n",
    "# print()\n",
    "# print(\"Class wise probabilities for the unseen image predicted by transfer learning ResNet50 model: \\n\", Y_pred_unseen_resnet)"
   ]
  },
  {
   "cell_type": "code",
   "execution_count": 301,
   "metadata": {},
   "outputs": [],
   "source": [
    "# Class_location ={\"[0]\" : \"airplanes\", \"[1]\" : \"BACKGROUND_Google\", \"[2]\" : \"bonsai\", \"[3]\" : \"car_side\", \"[4]\" : \"Faces\", \\\n",
    "#                  \"[5]\" : \"Faces_easy\", \"[6]\" : \"grand_piano\", \"[7]\" : \"Leopards\", \"[8]\" : \"Motorbikes\", \"[9]\" : \"watch\"}\n",
    "\n",
    "\n",
    "# print(\"Model with augmented data: \\nPredicted Class: \", Class_location.get(str(y_pred_unseen_loaded_aug)), \"\\nWith probability: \",np.amax(Y_pred_unseen_loaded_aug))\n",
    "# print()\n",
    "# print(\"Model without augmented data: \\nPredicted Class: \", Class_location.get(str(y_pred_unseen_wo_aug)), \"\\nWith probability: \",np.amax(Y_pred_unseen_wo_aug))\n",
    "# print()\n",
    "# print(\"Transfer learning VGG16 model (6 epochs): \\nPredicted Class: \", Class_location.get(str(y_pred_unseen_vgg)), \"\\nWith probability: \",np.amax(Y_pred_unseen_vgg))\n",
    "# print()\n",
    "# print(\"Transfer learning VGG16 model (12 epochs): \\nPredicted Class: \", Class_location.get(str(y_pred_unseen_vgg_2)), \"\\nWith probability: \",np.amax(Y_pred_unseen_vgg_2))\n",
    "# print()\n",
    "# print(\"Transfer learning ResNet50 model: \\nPredicted Class: \", Class_location.get(str(y_pred_unseen_resnet)), \"\\nWith probability: \",np.amax(Y_pred_unseen_resnet))"
   ]
  },
  {
   "cell_type": "code",
   "execution_count": 213,
   "metadata": {},
   "outputs": [],
   "source": [
    "import pandas as pd"
   ]
  },
  {
   "cell_type": "code",
   "execution_count": 267,
   "metadata": {},
   "outputs": [
    {
     "data": {
      "text/html": [
       "<div>\n",
       "<style scoped>\n",
       "    .dataframe tbody tr th:only-of-type {\n",
       "        vertical-align: middle;\n",
       "    }\n",
       "\n",
       "    .dataframe tbody tr th {\n",
       "        vertical-align: top;\n",
       "    }\n",
       "\n",
       "    .dataframe thead th {\n",
       "        text-align: right;\n",
       "    }\n",
       "</style>\n",
       "<table border=\"1\" class=\"dataframe\">\n",
       "  <thead>\n",
       "    <tr style=\"text-align: right;\">\n",
       "      <th></th>\n",
       "      <th>Class_Code</th>\n",
       "      <th>Class_name</th>\n",
       "      <th>Model with augmented data</th>\n",
       "      <th>Model without augmented data</th>\n",
       "      <th>Transfer learning VGG16 model (6 epochs)</th>\n",
       "      <th>Transfer learning VGG16 model (12 epochs)</th>\n",
       "      <th>Transfer learning ResNet50 model</th>\n",
       "    </tr>\n",
       "  </thead>\n",
       "  <tbody>\n",
       "    <tr>\n",
       "      <th>0</th>\n",
       "      <td>0</td>\n",
       "      <td>airplanes</td>\n",
       "      <td>0.003480649</td>\n",
       "      <td>5.6276504e-06</td>\n",
       "      <td>0.008453856</td>\n",
       "      <td>1.5328033e-05</td>\n",
       "      <td>0.16106714</td>\n",
       "    </tr>\n",
       "    <tr>\n",
       "      <th>1</th>\n",
       "      <td>1</td>\n",
       "      <td>BACKGROUND_Google</td>\n",
       "      <td>0.96446836</td>\n",
       "      <td>0.24311164</td>\n",
       "      <td>0.81938523</td>\n",
       "      <td>0.99052715</td>\n",
       "      <td>0.15897281</td>\n",
       "    </tr>\n",
       "    <tr>\n",
       "      <th>2</th>\n",
       "      <td>2</td>\n",
       "      <td>bonsai</td>\n",
       "      <td>7.3256488e-06</td>\n",
       "      <td>0.00016728358</td>\n",
       "      <td>0.012409748</td>\n",
       "      <td>4.754477e-05</td>\n",
       "      <td>0.028827034</td>\n",
       "    </tr>\n",
       "    <tr>\n",
       "      <th>3</th>\n",
       "      <td>3</td>\n",
       "      <td>car_side</td>\n",
       "      <td>2.279265e-11</td>\n",
       "      <td>3.1919622e-05</td>\n",
       "      <td>9.557772e-09</td>\n",
       "      <td>5.4770674e-13</td>\n",
       "      <td>0.022586975</td>\n",
       "    </tr>\n",
       "    <tr>\n",
       "      <th>4</th>\n",
       "      <td>4</td>\n",
       "      <td>Faces</td>\n",
       "      <td>3.4116962e-07</td>\n",
       "      <td>3.6848673e-05</td>\n",
       "      <td>0.01008991</td>\n",
       "      <td>2.2283277e-07</td>\n",
       "      <td>0.10685999</td>\n",
       "    </tr>\n",
       "    <tr>\n",
       "      <th>5</th>\n",
       "      <td>5</td>\n",
       "      <td>Faces_easy</td>\n",
       "      <td>1.7729743e-08</td>\n",
       "      <td>1.0139934e-08</td>\n",
       "      <td>0.0024711937</td>\n",
       "      <td>0.0013863541</td>\n",
       "      <td>0.0911625</td>\n",
       "    </tr>\n",
       "    <tr>\n",
       "      <th>6</th>\n",
       "      <td>6</td>\n",
       "      <td>grand_piano</td>\n",
       "      <td>5.695292e-07</td>\n",
       "      <td>0.0067653293</td>\n",
       "      <td>0.0005423938</td>\n",
       "      <td>2.0910466e-06</td>\n",
       "      <td>0.022756653</td>\n",
       "    </tr>\n",
       "    <tr>\n",
       "      <th>7</th>\n",
       "      <td>7</td>\n",
       "      <td>Leopards</td>\n",
       "      <td>2.6314658e-15</td>\n",
       "      <td>0.0014918107</td>\n",
       "      <td>7.3763334e-07</td>\n",
       "      <td>1.2011618e-09</td>\n",
       "      <td>0.036008373</td>\n",
       "    </tr>\n",
       "    <tr>\n",
       "      <th>8</th>\n",
       "      <td>8</td>\n",
       "      <td>Motorbikes</td>\n",
       "      <td>0.031912953</td>\n",
       "      <td>0.103218846</td>\n",
       "      <td>0.12336677</td>\n",
       "      <td>0.0024271107</td>\n",
       "      <td>0.301825</td>\n",
       "    </tr>\n",
       "    <tr>\n",
       "      <th>9</th>\n",
       "      <td>9</td>\n",
       "      <td>watch</td>\n",
       "      <td>0.00012978201</td>\n",
       "      <td>0.6451707</td>\n",
       "      <td>0.023280153</td>\n",
       "      <td>0.0055941734</td>\n",
       "      <td>0.06993349</td>\n",
       "    </tr>\n",
       "  </tbody>\n",
       "</table>\n",
       "</div>"
      ],
      "text/plain": [
       "  Class_Code         Class_name Model with augmented data  \\\n",
       "0          0          airplanes               0.003480649   \n",
       "1          1  BACKGROUND_Google                0.96446836   \n",
       "2          2             bonsai             7.3256488e-06   \n",
       "3          3           car_side              2.279265e-11   \n",
       "4          4              Faces             3.4116962e-07   \n",
       "5          5         Faces_easy             1.7729743e-08   \n",
       "6          6        grand_piano              5.695292e-07   \n",
       "7          7           Leopards             2.6314658e-15   \n",
       "8          8         Motorbikes               0.031912953   \n",
       "9          9              watch             0.00012978201   \n",
       "\n",
       "  Model without augmented data Transfer learning VGG16 model (6 epochs)  \\\n",
       "0                5.6276504e-06                              0.008453856   \n",
       "1                   0.24311164                               0.81938523   \n",
       "2                0.00016728358                              0.012409748   \n",
       "3                3.1919622e-05                             9.557772e-09   \n",
       "4                3.6848673e-05                               0.01008991   \n",
       "5                1.0139934e-08                             0.0024711937   \n",
       "6                 0.0067653293                             0.0005423938   \n",
       "7                 0.0014918107                            7.3763334e-07   \n",
       "8                  0.103218846                               0.12336677   \n",
       "9                    0.6451707                              0.023280153   \n",
       "\n",
       "  Transfer learning VGG16 model (12 epochs) Transfer learning ResNet50 model  \n",
       "0                             1.5328033e-05                       0.16106714  \n",
       "1                                0.99052715                       0.15897281  \n",
       "2                              4.754477e-05                      0.028827034  \n",
       "3                             5.4770674e-13                      0.022586975  \n",
       "4                             2.2283277e-07                       0.10685999  \n",
       "5                              0.0013863541                        0.0911625  \n",
       "6                             2.0910466e-06                      0.022756653  \n",
       "7                             1.2011618e-09                      0.036008373  \n",
       "8                              0.0024271107                         0.301825  \n",
       "9                              0.0055941734                       0.06993349  "
      ]
     },
     "execution_count": 267,
     "metadata": {},
     "output_type": "execute_result"
    }
   ],
   "source": [
    "data = {'Class_Code': ['0','1','2','3','4','5','6','7','8','9'], \\\n",
    "        'Class_name': ['airplanes', 'BACKGROUND_Google', 'bonsai', 'car_side', 'Faces', 'Faces_easy', 'grand_piano', \\\n",
    "                       'Leopards', 'Motorbikes', 'watch'], \\\n",
    "       'Model with augmented data': [str(Y_pred_unseen_loaded_aug[0][i]) for i in range(len(Y_pred_unseen_loaded_aug[0]))],\\\n",
    "        'Model without augmented data': [str(Y_pred_unseen_wo_aug[0][i]) for i in range(len(Y_pred_unseen_wo_aug[0]))],\\\n",
    "        'Transfer learning VGG16 model (6 epochs)': [str(Y_pred_unseen_vgg[0][i]) for i in range(len(Y_pred_unseen_vgg[0]))],\\\n",
    "        'Transfer learning VGG16 model (12 epochs)': [str(Y_pred_unseen_vgg_2[0][i]) for i in range(len(Y_pred_unseen_vgg_2[0]))],\\\n",
    "        'Transfer learning ResNet50 model': [str(Y_pred_unseen_resnet[0][i]) for i in range(len(Y_pred_unseen_resnet[0]))]}\n",
    "Final_Output =pd.DataFrame.from_dict(data)#, orient='index')\n",
    "Final_Output"
   ]
  },
  {
   "cell_type": "code",
   "execution_count": 268,
   "metadata": {},
   "outputs": [],
   "source": [
    "Final_Output_melt = Final_Output.melt(id_vars=[\"Class_Code\", \"Class_name\"])"
   ]
  },
  {
   "cell_type": "code",
   "execution_count": 299,
   "metadata": {},
   "outputs": [],
   "source": [
    "#Final_Output_melt"
   ]
  },
  {
   "cell_type": "code",
   "execution_count": 297,
   "metadata": {},
   "outputs": [],
   "source": [
    "Final_Output_melt['value'] = Final_Output_melt['value'].apply(lambda x: float(x))\n",
    "#Final_Output_melt.dtypes"
   ]
  },
  {
   "cell_type": "code",
   "execution_count": 300,
   "metadata": {
    "scrolled": true
   },
   "outputs": [
    {
     "data": {
      "text/html": [
       "<div>\n",
       "<style scoped>\n",
       "    .dataframe tbody tr th:only-of-type {\n",
       "        vertical-align: middle;\n",
       "    }\n",
       "\n",
       "    .dataframe tbody tr th {\n",
       "        vertical-align: top;\n",
       "    }\n",
       "\n",
       "    .dataframe thead th {\n",
       "        text-align: right;\n",
       "    }\n",
       "</style>\n",
       "<table border=\"1\" class=\"dataframe\">\n",
       "  <thead>\n",
       "    <tr style=\"text-align: right;\">\n",
       "      <th></th>\n",
       "      <th>Class_Code</th>\n",
       "      <th>Class_name</th>\n",
       "      <th>variable</th>\n",
       "      <th>value</th>\n",
       "    </tr>\n",
       "  </thead>\n",
       "  <tbody>\n",
       "    <tr>\n",
       "      <th>31</th>\n",
       "      <td>1</td>\n",
       "      <td>BACKGROUND_Google</td>\n",
       "      <td>Transfer learning VGG16 model (12 epochs)</td>\n",
       "      <td>0.990527</td>\n",
       "    </tr>\n",
       "    <tr>\n",
       "      <th>1</th>\n",
       "      <td>1</td>\n",
       "      <td>BACKGROUND_Google</td>\n",
       "      <td>Model with augmented data</td>\n",
       "      <td>0.964468</td>\n",
       "    </tr>\n",
       "    <tr>\n",
       "      <th>21</th>\n",
       "      <td>1</td>\n",
       "      <td>BACKGROUND_Google</td>\n",
       "      <td>Transfer learning VGG16 model (6 epochs)</td>\n",
       "      <td>0.819385</td>\n",
       "    </tr>\n",
       "    <tr>\n",
       "      <th>19</th>\n",
       "      <td>9</td>\n",
       "      <td>watch</td>\n",
       "      <td>Model without augmented data</td>\n",
       "      <td>0.645171</td>\n",
       "    </tr>\n",
       "    <tr>\n",
       "      <th>48</th>\n",
       "      <td>8</td>\n",
       "      <td>Motorbikes</td>\n",
       "      <td>Transfer learning ResNet50 model</td>\n",
       "      <td>0.301825</td>\n",
       "    </tr>\n",
       "  </tbody>\n",
       "</table>\n",
       "</div>"
      ],
      "text/plain": [
       "   Class_Code         Class_name                                   variable  \\\n",
       "31          1  BACKGROUND_Google  Transfer learning VGG16 model (12 epochs)   \n",
       "1           1  BACKGROUND_Google                  Model with augmented data   \n",
       "21          1  BACKGROUND_Google   Transfer learning VGG16 model (6 epochs)   \n",
       "19          9              watch               Model without augmented data   \n",
       "48          8         Motorbikes           Transfer learning ResNet50 model   \n",
       "\n",
       "       value  \n",
       "31  0.990527  \n",
       "1   0.964468  \n",
       "21  0.819385  \n",
       "19  0.645171  \n",
       "48  0.301825  "
      ]
     },
     "execution_count": 300,
     "metadata": {},
     "output_type": "execute_result"
    }
   ],
   "source": [
    "#Final_Output_melt_sorted = Final_Output_melt.sort_values(by='value', ascending=False)\n",
    "Final_Output_melt_sorted.head()"
   ]
  },
  {
   "cell_type": "code",
   "execution_count": 298,
   "metadata": {},
   "outputs": [
    {
     "data": {
      "text/html": [
       "<div>\n",
       "<style scoped>\n",
       "    .dataframe tbody tr th:only-of-type {\n",
       "        vertical-align: middle;\n",
       "    }\n",
       "\n",
       "    .dataframe tbody tr th {\n",
       "        vertical-align: top;\n",
       "    }\n",
       "\n",
       "    .dataframe thead th {\n",
       "        text-align: right;\n",
       "    }\n",
       "</style>\n",
       "<table border=\"1\" class=\"dataframe\">\n",
       "  <thead>\n",
       "    <tr style=\"text-align: right;\">\n",
       "      <th></th>\n",
       "      <th>Class_Code</th>\n",
       "      <th>Class_name</th>\n",
       "      <th>variable</th>\n",
       "      <th>value</th>\n",
       "    </tr>\n",
       "  </thead>\n",
       "  <tbody>\n",
       "    <tr>\n",
       "      <th>31</th>\n",
       "      <td>1</td>\n",
       "      <td>BACKGROUND_Google</td>\n",
       "      <td>Transfer learning VGG16 model (12 epochs)</td>\n",
       "      <td>9.905272e-01</td>\n",
       "    </tr>\n",
       "    <tr>\n",
       "      <th>39</th>\n",
       "      <td>9</td>\n",
       "      <td>watch</td>\n",
       "      <td>Transfer learning VGG16 model (12 epochs)</td>\n",
       "      <td>5.594173e-03</td>\n",
       "    </tr>\n",
       "    <tr>\n",
       "      <th>38</th>\n",
       "      <td>8</td>\n",
       "      <td>Motorbikes</td>\n",
       "      <td>Transfer learning VGG16 model (12 epochs)</td>\n",
       "      <td>2.427111e-03</td>\n",
       "    </tr>\n",
       "    <tr>\n",
       "      <th>35</th>\n",
       "      <td>5</td>\n",
       "      <td>Faces_easy</td>\n",
       "      <td>Transfer learning VGG16 model (12 epochs)</td>\n",
       "      <td>1.386354e-03</td>\n",
       "    </tr>\n",
       "    <tr>\n",
       "      <th>32</th>\n",
       "      <td>2</td>\n",
       "      <td>bonsai</td>\n",
       "      <td>Transfer learning VGG16 model (12 epochs)</td>\n",
       "      <td>4.754477e-05</td>\n",
       "    </tr>\n",
       "    <tr>\n",
       "      <th>30</th>\n",
       "      <td>0</td>\n",
       "      <td>airplanes</td>\n",
       "      <td>Transfer learning VGG16 model (12 epochs)</td>\n",
       "      <td>1.532803e-05</td>\n",
       "    </tr>\n",
       "    <tr>\n",
       "      <th>36</th>\n",
       "      <td>6</td>\n",
       "      <td>grand_piano</td>\n",
       "      <td>Transfer learning VGG16 model (12 epochs)</td>\n",
       "      <td>2.091047e-06</td>\n",
       "    </tr>\n",
       "    <tr>\n",
       "      <th>34</th>\n",
       "      <td>4</td>\n",
       "      <td>Faces</td>\n",
       "      <td>Transfer learning VGG16 model (12 epochs)</td>\n",
       "      <td>2.228328e-07</td>\n",
       "    </tr>\n",
       "    <tr>\n",
       "      <th>37</th>\n",
       "      <td>7</td>\n",
       "      <td>Leopards</td>\n",
       "      <td>Transfer learning VGG16 model (12 epochs)</td>\n",
       "      <td>1.201162e-09</td>\n",
       "    </tr>\n",
       "    <tr>\n",
       "      <th>33</th>\n",
       "      <td>3</td>\n",
       "      <td>car_side</td>\n",
       "      <td>Transfer learning VGG16 model (12 epochs)</td>\n",
       "      <td>5.477067e-13</td>\n",
       "    </tr>\n",
       "  </tbody>\n",
       "</table>\n",
       "</div>"
      ],
      "text/plain": [
       "   Class_Code         Class_name                                   variable  \\\n",
       "31          1  BACKGROUND_Google  Transfer learning VGG16 model (12 epochs)   \n",
       "39          9              watch  Transfer learning VGG16 model (12 epochs)   \n",
       "38          8         Motorbikes  Transfer learning VGG16 model (12 epochs)   \n",
       "35          5         Faces_easy  Transfer learning VGG16 model (12 epochs)   \n",
       "32          2             bonsai  Transfer learning VGG16 model (12 epochs)   \n",
       "30          0          airplanes  Transfer learning VGG16 model (12 epochs)   \n",
       "36          6        grand_piano  Transfer learning VGG16 model (12 epochs)   \n",
       "34          4              Faces  Transfer learning VGG16 model (12 epochs)   \n",
       "37          7           Leopards  Transfer learning VGG16 model (12 epochs)   \n",
       "33          3           car_side  Transfer learning VGG16 model (12 epochs)   \n",
       "\n",
       "           value  \n",
       "31  9.905272e-01  \n",
       "39  5.594173e-03  \n",
       "38  2.427111e-03  \n",
       "35  1.386354e-03  \n",
       "32  4.754477e-05  \n",
       "30  1.532803e-05  \n",
       "36  2.091047e-06  \n",
       "34  2.228328e-07  \n",
       "37  1.201162e-09  \n",
       "33  5.477067e-13  "
      ]
     },
     "execution_count": 298,
     "metadata": {},
     "output_type": "execute_result"
    }
   ],
   "source": [
    "best_model_result = Final_Output_melt[Final_Output_melt.variable == 'Transfer learning VGG16 model (12 epochs)']\n",
    "best_model_result"
   ]
  }
 ],
 "metadata": {
  "kernelspec": {
   "display_name": "Python 3",
   "language": "python",
   "name": "python3"
  },
  "language_info": {
   "codemirror_mode": {
    "name": "ipython",
    "version": 3
   },
   "file_extension": ".py",
   "mimetype": "text/x-python",
   "name": "python",
   "nbconvert_exporter": "python",
   "pygments_lexer": "ipython3",
   "version": "3.7.0"
  }
 },
 "nbformat": 4,
 "nbformat_minor": 2
}
